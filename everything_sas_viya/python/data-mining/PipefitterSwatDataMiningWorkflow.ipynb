{
 "cells": [
  {
   "cell_type": "markdown",
   "metadata": {},
   "source": [
    "# This Data Mining Workflow uses both Pipefitter and SWAT"
   ]
  },
  {
   "cell_type": "markdown",
   "metadata": {},
   "source": [
    "## Set up the Jupyter Notebook for Analysis"
   ]
  },
  {
   "cell_type": "code",
   "execution_count": 1,
   "metadata": {
    "collapsed": false
   },
   "outputs": [
    {
     "name": "stdout",
     "output_type": "stream",
     "text": [
      "NOTE: 'DMlib' is now the active caslib.\n",
      "NOTE: Cloud Analytic Services added the caslib 'DMlib'.\n",
      "NOTE: Cloud Analytic Services made the file hmeq.sas7bdat available as table HMEQ in caslib DMlib.\n"
     ]
    }
   ],
   "source": [
    "# Import necessary packages and modules\n",
    "import swat, collections\n",
    "import pandas as pd\n",
    "import matplotlib.pyplot as plt\n",
    "from pipefitter.pipeline import Pipeline\n",
    "from pipefitter.transformer import Imputer\n",
    "from pipefitter.estimator import DecisionTree, DecisionForest, GBTree, NeuralNetwork\n",
    "%matplotlib inline\n",
    "\n",
    "# Set the connection by specifying the hostname, port, username, and password\n",
    "conn = swat.CAS(host, port, username, password)\n",
    "\n",
    "# Data set shortcut\n",
    "indata = 'hmeq'\n",
    "\n",
    "# Create a CAS library called DMLib pointing to the defined server-side directory\n",
    "DMLib = conn.addCaslib('DMlib', datasource = 'path', path = '/viyafiles')\n",
    "\n",
    "# Do a server-side data load into CAS memory\n",
    "castbl = conn.loadTable(indata + '.sas7bdat', casOut = indata)['casTable']\n",
    "castbl.replace = True"
   ]
  },
  {
   "cell_type": "markdown",
   "metadata": {},
   "source": [
    "## Get the first few rows"
   ]
  },
  {
   "cell_type": "code",
   "execution_count": 2,
   "metadata": {
    "collapsed": false
   },
   "outputs": [
    {
     "data": {
      "text/html": [
       "<div>\n",
       "<table border=\"1\" class=\"dataframe\"><caption>Selected Rows from Table HMEQ</caption>\n",
       "  <thead>\n",
       "    <tr style=\"text-align: right;\">\n",
       "      <th title=\"\"></th>\n",
       "      <th title=\"BAD\">BAD</th>\n",
       "      <th title=\"LOAN\">LOAN</th>\n",
       "      <th title=\"MORTDUE\">MORTDUE</th>\n",
       "      <th title=\"VALUE\">VALUE</th>\n",
       "      <th title=\"REASON\">REASON</th>\n",
       "      <th title=\"JOB\">JOB</th>\n",
       "      <th title=\"YOJ\">YOJ</th>\n",
       "      <th title=\"DEROG\">DEROG</th>\n",
       "      <th title=\"DELINQ\">DELINQ</th>\n",
       "      <th title=\"CLAGE\">CLAGE</th>\n",
       "      <th title=\"NINQ\">NINQ</th>\n",
       "      <th title=\"CLNO\">CLNO</th>\n",
       "      <th title=\"DEBTINC\">DEBTINC</th>\n",
       "    </tr>\n",
       "  </thead>\n",
       "  <tbody>\n",
       "    <tr>\n",
       "      <th>0</th>\n",
       "      <td>1.0</td>\n",
       "      <td>1100.0</td>\n",
       "      <td>25860.0</td>\n",
       "      <td>39025.0</td>\n",
       "      <td>HomeImp</td>\n",
       "      <td>Other</td>\n",
       "      <td>10.5</td>\n",
       "      <td>0.0</td>\n",
       "      <td>0.0</td>\n",
       "      <td>94.366667</td>\n",
       "      <td>1.0</td>\n",
       "      <td>9.0</td>\n",
       "      <td>NaN</td>\n",
       "    </tr>\n",
       "    <tr>\n",
       "      <th>1</th>\n",
       "      <td>1.0</td>\n",
       "      <td>1300.0</td>\n",
       "      <td>70053.0</td>\n",
       "      <td>68400.0</td>\n",
       "      <td>HomeImp</td>\n",
       "      <td>Other</td>\n",
       "      <td>7.0</td>\n",
       "      <td>0.0</td>\n",
       "      <td>2.0</td>\n",
       "      <td>121.833333</td>\n",
       "      <td>0.0</td>\n",
       "      <td>14.0</td>\n",
       "      <td>NaN</td>\n",
       "    </tr>\n",
       "    <tr>\n",
       "      <th>2</th>\n",
       "      <td>1.0</td>\n",
       "      <td>1500.0</td>\n",
       "      <td>13500.0</td>\n",
       "      <td>16700.0</td>\n",
       "      <td>HomeImp</td>\n",
       "      <td>Other</td>\n",
       "      <td>4.0</td>\n",
       "      <td>0.0</td>\n",
       "      <td>0.0</td>\n",
       "      <td>149.466667</td>\n",
       "      <td>1.0</td>\n",
       "      <td>10.0</td>\n",
       "      <td>NaN</td>\n",
       "    </tr>\n",
       "    <tr>\n",
       "      <th>3</th>\n",
       "      <td>1.0</td>\n",
       "      <td>1500.0</td>\n",
       "      <td>NaN</td>\n",
       "      <td>NaN</td>\n",
       "      <td></td>\n",
       "      <td></td>\n",
       "      <td>NaN</td>\n",
       "      <td>NaN</td>\n",
       "      <td>NaN</td>\n",
       "      <td>NaN</td>\n",
       "      <td>NaN</td>\n",
       "      <td>NaN</td>\n",
       "      <td>NaN</td>\n",
       "    </tr>\n",
       "    <tr>\n",
       "      <th>4</th>\n",
       "      <td>0.0</td>\n",
       "      <td>1700.0</td>\n",
       "      <td>97800.0</td>\n",
       "      <td>112000.0</td>\n",
       "      <td>HomeImp</td>\n",
       "      <td>Office</td>\n",
       "      <td>3.0</td>\n",
       "      <td>0.0</td>\n",
       "      <td>0.0</td>\n",
       "      <td>93.333333</td>\n",
       "      <td>0.0</td>\n",
       "      <td>14.0</td>\n",
       "      <td>NaN</td>\n",
       "    </tr>\n",
       "  </tbody>\n",
       "</table>\n",
       "</div>"
      ],
      "text/plain": [
       "Selected Rows from Table HMEQ\n",
       "\n",
       "   BAD    LOAN  MORTDUE     VALUE   REASON     JOB   YOJ  DEROG  DELINQ  \\\n",
       "0  1.0  1100.0  25860.0   39025.0  HomeImp   Other  10.5    0.0     0.0   \n",
       "1  1.0  1300.0  70053.0   68400.0  HomeImp   Other   7.0    0.0     2.0   \n",
       "2  1.0  1500.0  13500.0   16700.0  HomeImp   Other   4.0    0.0     0.0   \n",
       "3  1.0  1500.0      NaN       NaN                    NaN    NaN     NaN   \n",
       "4  0.0  1700.0  97800.0  112000.0  HomeImp  Office   3.0    0.0     0.0   \n",
       "\n",
       "        CLAGE  NINQ  CLNO  DEBTINC  \n",
       "0   94.366667   1.0   9.0      NaN  \n",
       "1  121.833333   0.0  14.0      NaN  \n",
       "2  149.466667   1.0  10.0      NaN  \n",
       "3         NaN   NaN   NaN      NaN  \n",
       "4   93.333333   0.0  14.0      NaN  "
      ]
     },
     "execution_count": 2,
     "metadata": {},
     "output_type": "execute_result"
    }
   ],
   "source": [
    "# Assign the variable name df to the new CASTable object\n",
    "df = conn.CASTable(indata)\n",
    "\n",
    "# Perform the head method to return the first 5 rows\n",
    "df.head()"
   ]
  },
  {
   "cell_type": "markdown",
   "metadata": {},
   "source": [
    "## Feature engineering"
   ]
  },
  {
   "cell_type": "code",
   "execution_count": 3,
   "metadata": {
    "collapsed": false
   },
   "outputs": [
    {
     "data": {
      "text/html": [
       "<div>\n",
       "<table border=\"1\" class=\"dataframe\"><caption>Selected Rows from Table HMEQ</caption>\n",
       "  <thead>\n",
       "    <tr style=\"text-align: right;\">\n",
       "      <th title=\"\"></th>\n",
       "      <th title=\"BAD\">BAD</th>\n",
       "      <th title=\"LOAN\">LOAN</th>\n",
       "      <th title=\"MORTDUE\">MORTDUE</th>\n",
       "      <th title=\"VALUE\">VALUE</th>\n",
       "      <th title=\"REASON\">REASON</th>\n",
       "      <th title=\"JOB\">JOB</th>\n",
       "      <th title=\"YOJ\">YOJ</th>\n",
       "      <th title=\"DEROG\">DEROG</th>\n",
       "      <th title=\"DELINQ\">DELINQ</th>\n",
       "      <th title=\"CLAGE\">CLAGE</th>\n",
       "      <th title=\"NINQ\">NINQ</th>\n",
       "      <th title=\"CLNO\">CLNO</th>\n",
       "      <th title=\"DEBTINC\">DEBTINC</th>\n",
       "      <th title=\"MORTPAID\">MORTPAID</th>\n",
       "    </tr>\n",
       "  </thead>\n",
       "  <tbody>\n",
       "    <tr>\n",
       "      <th>0</th>\n",
       "      <td>1.0</td>\n",
       "      <td>1100.0</td>\n",
       "      <td>25860.0</td>\n",
       "      <td>39025.0</td>\n",
       "      <td>HomeImp</td>\n",
       "      <td>Other</td>\n",
       "      <td>10.5</td>\n",
       "      <td>0.0</td>\n",
       "      <td>0.0</td>\n",
       "      <td>94.366667</td>\n",
       "      <td>1.0</td>\n",
       "      <td>9.0</td>\n",
       "      <td>NaN</td>\n",
       "      <td>13165.0</td>\n",
       "    </tr>\n",
       "    <tr>\n",
       "      <th>1</th>\n",
       "      <td>1.0</td>\n",
       "      <td>1300.0</td>\n",
       "      <td>70053.0</td>\n",
       "      <td>68400.0</td>\n",
       "      <td>HomeImp</td>\n",
       "      <td>Other</td>\n",
       "      <td>7.0</td>\n",
       "      <td>0.0</td>\n",
       "      <td>2.0</td>\n",
       "      <td>121.833333</td>\n",
       "      <td>0.0</td>\n",
       "      <td>14.0</td>\n",
       "      <td>NaN</td>\n",
       "      <td>-1653.0</td>\n",
       "    </tr>\n",
       "    <tr>\n",
       "      <th>2</th>\n",
       "      <td>1.0</td>\n",
       "      <td>1500.0</td>\n",
       "      <td>13500.0</td>\n",
       "      <td>16700.0</td>\n",
       "      <td>HomeImp</td>\n",
       "      <td>Other</td>\n",
       "      <td>4.0</td>\n",
       "      <td>0.0</td>\n",
       "      <td>0.0</td>\n",
       "      <td>149.466667</td>\n",
       "      <td>1.0</td>\n",
       "      <td>10.0</td>\n",
       "      <td>NaN</td>\n",
       "      <td>3200.0</td>\n",
       "    </tr>\n",
       "    <tr>\n",
       "      <th>3</th>\n",
       "      <td>1.0</td>\n",
       "      <td>1500.0</td>\n",
       "      <td>NaN</td>\n",
       "      <td>NaN</td>\n",
       "      <td></td>\n",
       "      <td></td>\n",
       "      <td>NaN</td>\n",
       "      <td>NaN</td>\n",
       "      <td>NaN</td>\n",
       "      <td>NaN</td>\n",
       "      <td>NaN</td>\n",
       "      <td>NaN</td>\n",
       "      <td>NaN</td>\n",
       "      <td>NaN</td>\n",
       "    </tr>\n",
       "    <tr>\n",
       "      <th>4</th>\n",
       "      <td>0.0</td>\n",
       "      <td>1700.0</td>\n",
       "      <td>97800.0</td>\n",
       "      <td>112000.0</td>\n",
       "      <td>HomeImp</td>\n",
       "      <td>Office</td>\n",
       "      <td>3.0</td>\n",
       "      <td>0.0</td>\n",
       "      <td>0.0</td>\n",
       "      <td>93.333333</td>\n",
       "      <td>0.0</td>\n",
       "      <td>14.0</td>\n",
       "      <td>NaN</td>\n",
       "      <td>14200.0</td>\n",
       "    </tr>\n",
       "  </tbody>\n",
       "</table>\n",
       "</div>"
      ],
      "text/plain": [
       "Selected Rows from Table HMEQ\n",
       "\n",
       "   BAD    LOAN  MORTDUE     VALUE   REASON     JOB   YOJ  DEROG  DELINQ  \\\n",
       "0  1.0  1100.0  25860.0   39025.0  HomeImp   Other  10.5    0.0     0.0   \n",
       "1  1.0  1300.0  70053.0   68400.0  HomeImp   Other   7.0    0.0     2.0   \n",
       "2  1.0  1500.0  13500.0   16700.0  HomeImp   Other   4.0    0.0     0.0   \n",
       "3  1.0  1500.0      NaN       NaN                    NaN    NaN     NaN   \n",
       "4  0.0  1700.0  97800.0  112000.0  HomeImp  Office   3.0    0.0     0.0   \n",
       "\n",
       "        CLAGE  NINQ  CLNO  DEBTINC  MORTPAID  \n",
       "0   94.366667   1.0   9.0      NaN   13165.0  \n",
       "1  121.833333   0.0  14.0      NaN   -1653.0  \n",
       "2  149.466667   1.0  10.0      NaN    3200.0  \n",
       "3         NaN   NaN   NaN      NaN       NaN  \n",
       "4   93.333333   0.0  14.0      NaN   14200.0  "
      ]
     },
     "execution_count": 3,
     "metadata": {},
     "output_type": "execute_result"
    }
   ],
   "source": [
    "# Create new columns to help with analysis\n",
    "df['MORTPAID'] = df['VALUE'] - df['MORTDUE']\n",
    "df.head()"
   ]
  },
  {
   "cell_type": "markdown",
   "metadata": {},
   "source": [
    "## Investigate the data"
   ]
  },
  {
   "cell_type": "markdown",
   "metadata": {},
   "source": [
    "### Variable types"
   ]
  },
  {
   "cell_type": "code",
   "execution_count": 4,
   "metadata": {
    "collapsed": false
   },
   "outputs": [
    {
     "data": {
      "text/plain": [
       "BAD         double\n",
       "LOAN        double\n",
       "MORTDUE     double\n",
       "VALUE       double\n",
       "REASON        char\n",
       "JOB           char\n",
       "YOJ         double\n",
       "DEROG       double\n",
       "DELINQ      double\n",
       "CLAGE       double\n",
       "NINQ        double\n",
       "CLNO        double\n",
       "DEBTINC     double\n",
       "MORTPAID    double\n",
       "dtype: object"
      ]
     },
     "execution_count": 4,
     "metadata": {},
     "output_type": "execute_result"
    }
   ],
   "source": [
    "# Get the variable types\n",
    "df.dtypes"
   ]
  },
  {
   "cell_type": "markdown",
   "metadata": {},
   "source": [
    "### Summary statistics"
   ]
  },
  {
   "cell_type": "code",
   "execution_count": 5,
   "metadata": {
    "collapsed": false
   },
   "outputs": [
    {
     "data": {
      "text/html": [
       "<div>\n",
       "<table border=\"1\" class=\"dataframe\">\n",
       "  <thead>\n",
       "    <tr style=\"text-align: right;\">\n",
       "      <th></th>\n",
       "      <th>count</th>\n",
       "      <th>unique</th>\n",
       "      <th>top</th>\n",
       "      <th>freq</th>\n",
       "      <th>mean</th>\n",
       "      <th>std</th>\n",
       "      <th>min</th>\n",
       "      <th>25%</th>\n",
       "      <th>50%</th>\n",
       "      <th>75%</th>\n",
       "      <th>max</th>\n",
       "    </tr>\n",
       "  </thead>\n",
       "  <tbody>\n",
       "    <tr>\n",
       "      <th>BAD</th>\n",
       "      <td>5960</td>\n",
       "      <td>2</td>\n",
       "      <td>0</td>\n",
       "      <td>4771</td>\n",
       "      <td>0.199497</td>\n",
       "      <td>0.399656</td>\n",
       "      <td>0</td>\n",
       "      <td>0</td>\n",
       "      <td>0</td>\n",
       "      <td>0</td>\n",
       "      <td>1</td>\n",
       "    </tr>\n",
       "    <tr>\n",
       "      <th>LOAN</th>\n",
       "      <td>5960</td>\n",
       "      <td>540</td>\n",
       "      <td>15000</td>\n",
       "      <td>105</td>\n",
       "      <td>18608</td>\n",
       "      <td>11207.5</td>\n",
       "      <td>1100</td>\n",
       "      <td>11100</td>\n",
       "      <td>16300</td>\n",
       "      <td>23300</td>\n",
       "      <td>89900</td>\n",
       "    </tr>\n",
       "    <tr>\n",
       "      <th>MORTDUE</th>\n",
       "      <td>5442</td>\n",
       "      <td>5053</td>\n",
       "      <td>42000</td>\n",
       "      <td>11</td>\n",
       "      <td>73760.8</td>\n",
       "      <td>44457.6</td>\n",
       "      <td>2063</td>\n",
       "      <td>46268</td>\n",
       "      <td>65019</td>\n",
       "      <td>91491</td>\n",
       "      <td>399550</td>\n",
       "    </tr>\n",
       "    <tr>\n",
       "      <th>VALUE</th>\n",
       "      <td>5848</td>\n",
       "      <td>5381</td>\n",
       "      <td>60000</td>\n",
       "      <td>15</td>\n",
       "      <td>101776</td>\n",
       "      <td>57385.8</td>\n",
       "      <td>8000</td>\n",
       "      <td>66069</td>\n",
       "      <td>89235.5</td>\n",
       "      <td>119832</td>\n",
       "      <td>855909</td>\n",
       "    </tr>\n",
       "    <tr>\n",
       "      <th>REASON</th>\n",
       "      <td>5960</td>\n",
       "      <td>2</td>\n",
       "      <td>DebtCon</td>\n",
       "      <td>3928</td>\n",
       "      <td>NaN</td>\n",
       "      <td>NaN</td>\n",
       "      <td>DebtCon</td>\n",
       "      <td>NaN</td>\n",
       "      <td>NaN</td>\n",
       "      <td>NaN</td>\n",
       "      <td>HomeImp</td>\n",
       "    </tr>\n",
       "    <tr>\n",
       "      <th>JOB</th>\n",
       "      <td>5960</td>\n",
       "      <td>6</td>\n",
       "      <td>Other</td>\n",
       "      <td>2388</td>\n",
       "      <td>NaN</td>\n",
       "      <td>NaN</td>\n",
       "      <td>Mgr</td>\n",
       "      <td>NaN</td>\n",
       "      <td>NaN</td>\n",
       "      <td>NaN</td>\n",
       "      <td>Self</td>\n",
       "    </tr>\n",
       "    <tr>\n",
       "      <th>YOJ</th>\n",
       "      <td>5445</td>\n",
       "      <td>99</td>\n",
       "      <td>0</td>\n",
       "      <td>415</td>\n",
       "      <td>8.92227</td>\n",
       "      <td>7.57398</td>\n",
       "      <td>0</td>\n",
       "      <td>3</td>\n",
       "      <td>7</td>\n",
       "      <td>13</td>\n",
       "      <td>41</td>\n",
       "    </tr>\n",
       "    <tr>\n",
       "      <th>DEROG</th>\n",
       "      <td>5252</td>\n",
       "      <td>11</td>\n",
       "      <td>0</td>\n",
       "      <td>4527</td>\n",
       "      <td>0.25457</td>\n",
       "      <td>0.846047</td>\n",
       "      <td>0</td>\n",
       "      <td>0</td>\n",
       "      <td>0</td>\n",
       "      <td>0</td>\n",
       "      <td>10</td>\n",
       "    </tr>\n",
       "    <tr>\n",
       "      <th>DELINQ</th>\n",
       "      <td>5380</td>\n",
       "      <td>14</td>\n",
       "      <td>0</td>\n",
       "      <td>4179</td>\n",
       "      <td>0.449442</td>\n",
       "      <td>1.12727</td>\n",
       "      <td>0</td>\n",
       "      <td>0</td>\n",
       "      <td>0</td>\n",
       "      <td>0</td>\n",
       "      <td>15</td>\n",
       "    </tr>\n",
       "    <tr>\n",
       "      <th>CLAGE</th>\n",
       "      <td>5652</td>\n",
       "      <td>5314</td>\n",
       "      <td>206.967</td>\n",
       "      <td>7</td>\n",
       "      <td>179.766</td>\n",
       "      <td>85.8101</td>\n",
       "      <td>0</td>\n",
       "      <td>115.103</td>\n",
       "      <td>173.467</td>\n",
       "      <td>231.575</td>\n",
       "      <td>1168.23</td>\n",
       "    </tr>\n",
       "    <tr>\n",
       "      <th>NINQ</th>\n",
       "      <td>5450</td>\n",
       "      <td>16</td>\n",
       "      <td>0</td>\n",
       "      <td>2531</td>\n",
       "      <td>1.18606</td>\n",
       "      <td>1.72867</td>\n",
       "      <td>0</td>\n",
       "      <td>0</td>\n",
       "      <td>1</td>\n",
       "      <td>2</td>\n",
       "      <td>17</td>\n",
       "    </tr>\n",
       "    <tr>\n",
       "      <th>CLNO</th>\n",
       "      <td>5738</td>\n",
       "      <td>62</td>\n",
       "      <td>16</td>\n",
       "      <td>316</td>\n",
       "      <td>21.2961</td>\n",
       "      <td>10.1389</td>\n",
       "      <td>0</td>\n",
       "      <td>15</td>\n",
       "      <td>20</td>\n",
       "      <td>26</td>\n",
       "      <td>71</td>\n",
       "    </tr>\n",
       "    <tr>\n",
       "      <th>DEBTINC</th>\n",
       "      <td>4693</td>\n",
       "      <td>4693</td>\n",
       "      <td>203.312</td>\n",
       "      <td>1</td>\n",
       "      <td>33.7799</td>\n",
       "      <td>8.60175</td>\n",
       "      <td>0.524499</td>\n",
       "      <td>29.14</td>\n",
       "      <td>34.8183</td>\n",
       "      <td>39.0031</td>\n",
       "      <td>203.312</td>\n",
       "    </tr>\n",
       "    <tr>\n",
       "      <th>MORTPAID</th>\n",
       "      <td>5357</td>\n",
       "      <td>4915</td>\n",
       "      <td>18000</td>\n",
       "      <td>10</td>\n",
       "      <td>31235.2</td>\n",
       "      <td>26343.4</td>\n",
       "      <td>-205445</td>\n",
       "      <td>17355</td>\n",
       "      <td>26623</td>\n",
       "      <td>39757</td>\n",
       "      <td>287300</td>\n",
       "    </tr>\n",
       "  </tbody>\n",
       "</table>\n",
       "</div>"
      ],
      "text/plain": [
       "         count unique      top  freq      mean       std       min      25%  \\\n",
       "BAD       5960      2        0  4771  0.199497  0.399656         0        0   \n",
       "LOAN      5960    540    15000   105     18608   11207.5      1100    11100   \n",
       "MORTDUE   5442   5053    42000    11   73760.8   44457.6      2063    46268   \n",
       "VALUE     5848   5381    60000    15    101776   57385.8      8000    66069   \n",
       "REASON    5960      2  DebtCon  3928       NaN       NaN   DebtCon      NaN   \n",
       "JOB       5960      6    Other  2388       NaN       NaN       Mgr      NaN   \n",
       "YOJ       5445     99        0   415   8.92227   7.57398         0        3   \n",
       "DEROG     5252     11        0  4527   0.25457  0.846047         0        0   \n",
       "DELINQ    5380     14        0  4179  0.449442   1.12727         0        0   \n",
       "CLAGE     5652   5314  206.967     7   179.766   85.8101         0  115.103   \n",
       "NINQ      5450     16        0  2531   1.18606   1.72867         0        0   \n",
       "CLNO      5738     62       16   316   21.2961   10.1389         0       15   \n",
       "DEBTINC   4693   4693  203.312     1   33.7799   8.60175  0.524499    29.14   \n",
       "MORTPAID  5357   4915    18000    10   31235.2   26343.4   -205445    17355   \n",
       "\n",
       "              50%      75%      max  \n",
       "BAD             0        0        1  \n",
       "LOAN        16300    23300    89900  \n",
       "MORTDUE     65019    91491   399550  \n",
       "VALUE     89235.5   119832   855909  \n",
       "REASON        NaN      NaN  HomeImp  \n",
       "JOB           NaN      NaN     Self  \n",
       "YOJ             7       13       41  \n",
       "DEROG           0        0       10  \n",
       "DELINQ          0        0       15  \n",
       "CLAGE     173.467  231.575  1168.23  \n",
       "NINQ            1        2       17  \n",
       "CLNO           20       26       71  \n",
       "DEBTINC   34.8183  39.0031  203.312  \n",
       "MORTPAID    26623    39757   287300  "
      ]
     },
     "execution_count": 5,
     "metadata": {},
     "output_type": "execute_result"
    }
   ],
   "source": [
    "# Get summary statistics using the describe method, then switch rows and columns\n",
    "summary = df.describe(include = 'all').transpose()\n",
    "summary"
   ]
  },
  {
   "cell_type": "markdown",
   "metadata": {},
   "source": [
    "### Numeric variable distribution"
   ]
  },
  {
   "cell_type": "code",
   "execution_count": 6,
   "metadata": {
    "collapsed": false
   },
   "outputs": [
    {
     "data": {
      "image/png": "[encoded data removed]",
      "text/plain": [
       "<matplotlib.figure.Figure at 0x7ff26e6f92e8>"
      ]
     },
     "metadata": {},
     "output_type": "display_data"
    }
   ],
   "source": [
    "# Get the distribution of all numeric variables\n",
    "df.hist(figsize = (15, 10));"
   ]
  },
  {
   "cell_type": "markdown",
   "metadata": {},
   "source": [
    "### Investigate missingness"
   ]
  },
  {
   "cell_type": "code",
   "execution_count": 7,
   "metadata": {
    "collapsed": false
   },
   "outputs": [
    {
     "data": {
      "image/png": "[encoded data removed]",
      "text/plain": [
       "<matplotlib.figure.Figure at 0x7ff26e17f3c8>"
      ]
     },
     "metadata": {},
     "output_type": "display_data"
    }
   ],
   "source": [
    "# Create percent missing column for plotting\n",
    "summary['pctmiss'] = (len(castbl) - summary['count'])/len(castbl)\n",
    "\n",
    "# Make a bar graph using pandas/matplotlib functionality\n",
    "summary.query('pctmiss > 0')['pctmiss'].plot('bar', title = 'Pct Missing Values', figsize = (10, 6), color = 'c');"
   ]
  },
  {
   "cell_type": "markdown",
   "metadata": {},
   "source": [
    "## Split the data into training and validation before imputing"
   ]
  },
  {
   "cell_type": "code",
   "execution_count": 8,
   "metadata": {
    "collapsed": false
   },
   "outputs": [
    {
     "name": "stdout",
     "output_type": "stream",
     "text": [
      "NOTE: Added action set 'sampling'.\n",
      "NOTE: Using SEED=329570658 for sampling.\n"
     ]
    },
    {
     "data": {
      "text/plain": [
       "_PartInd_\n",
       "0.0    0.3\n",
       "1.0    0.7\n",
       "Name: _PartInd_, dtype: float64"
      ]
     },
     "execution_count": 8,
     "metadata": {},
     "output_type": "execute_result"
    }
   ],
   "source": [
    "# Load the sampling actionset\n",
    "conn.loadactionset('sampling')\n",
    "\n",
    "# Do a simple random sample with a 70/30 split\n",
    "df.srs(samppct = 70, partind = True, output = dict(casout = castbl, copyvars = 'all'))\n",
    "\n",
    "# Verify that the partition worked using the groupby method\n",
    "castbl.groupby('_PartInd_')['_PartInd_'].count()/len(castbl)"
   ]
  },
  {
   "cell_type": "markdown",
   "metadata": {},
   "source": [
    "## Impute missing values using pipefitter pipelines"
   ]
  },
  {
   "cell_type": "code",
   "execution_count": 9,
   "metadata": {
    "collapsed": false
   },
   "outputs": [
    {
     "name": "stdout",
     "output_type": "stream",
     "text": [
      "NOTE: Cloud Analytic Services dropped table IMPUTE_5373D5ED_F76F_4317_B212_B8DD29E6C53F from caslib DMlib.\n",
      "NOTE: Cloud Analytic Services dropped table IMPUTE_15245ACF_D875_40E4_850D_C4CDAADD6851 from caslib DMlib.\n"
     ]
    },
    {
     "data": {
      "text/html": [
       "<div class=\"cas-results-key\"><b>&#167; Fetch</b></div>\n",
       "<div class=\"cas-results-body\">\n",
       "<div>\n",
       "<table border=\"1\" class=\"dataframe\"><caption>Selected Rows from Table IMP_HMEQ</caption>\n",
       "  <thead>\n",
       "    <tr style=\"text-align: right;\">\n",
       "      <th title=\"\"></th>\n",
       "      <th title=\"BAD\">BAD</th>\n",
       "      <th title=\"LOAN\">LOAN</th>\n",
       "      <th title=\"MORTDUE\">MORTDUE</th>\n",
       "      <th title=\"VALUE\">VALUE</th>\n",
       "      <th title=\"REASON\">REASON</th>\n",
       "      <th title=\"JOB\">JOB</th>\n",
       "      <th title=\"YOJ\">YOJ</th>\n",
       "      <th title=\"DEROG\">DEROG</th>\n",
       "      <th title=\"DELINQ\">DELINQ</th>\n",
       "      <th title=\"CLAGE\">CLAGE</th>\n",
       "      <th title=\"NINQ\">NINQ</th>\n",
       "      <th title=\"CLNO\">CLNO</th>\n",
       "      <th title=\"DEBTINC\">DEBTINC</th>\n",
       "      <th title=\"MORTPAID\">MORTPAID</th>\n",
       "      <th title=\"_PartInd_\">_PartInd_</th>\n",
       "    </tr>\n",
       "  </thead>\n",
       "  <tbody>\n",
       "    <tr>\n",
       "      <th>0</th>\n",
       "      <td>1.0</td>\n",
       "      <td>1100.0</td>\n",
       "      <td>25860.0</td>\n",
       "      <td>39025.0</td>\n",
       "      <td>HomeImp</td>\n",
       "      <td>Other</td>\n",
       "      <td>10.5</td>\n",
       "      <td>0.0</td>\n",
       "      <td>0.0</td>\n",
       "      <td>94.366667</td>\n",
       "      <td>1.0</td>\n",
       "      <td>9.0</td>\n",
       "      <td>34.818262</td>\n",
       "      <td>13165.0</td>\n",
       "      <td>1.0</td>\n",
       "    </tr>\n",
       "    <tr>\n",
       "      <th>1</th>\n",
       "      <td>1.0</td>\n",
       "      <td>1300.0</td>\n",
       "      <td>70053.0</td>\n",
       "      <td>68400.0</td>\n",
       "      <td>HomeImp</td>\n",
       "      <td>Other</td>\n",
       "      <td>7.0</td>\n",
       "      <td>0.0</td>\n",
       "      <td>2.0</td>\n",
       "      <td>121.833333</td>\n",
       "      <td>0.0</td>\n",
       "      <td>14.0</td>\n",
       "      <td>34.818262</td>\n",
       "      <td>-1653.0</td>\n",
       "      <td>1.0</td>\n",
       "    </tr>\n",
       "    <tr>\n",
       "      <th>2</th>\n",
       "      <td>1.0</td>\n",
       "      <td>1500.0</td>\n",
       "      <td>13500.0</td>\n",
       "      <td>16700.0</td>\n",
       "      <td>HomeImp</td>\n",
       "      <td>Other</td>\n",
       "      <td>4.0</td>\n",
       "      <td>0.0</td>\n",
       "      <td>0.0</td>\n",
       "      <td>149.466667</td>\n",
       "      <td>1.0</td>\n",
       "      <td>10.0</td>\n",
       "      <td>34.818262</td>\n",
       "      <td>3200.0</td>\n",
       "      <td>1.0</td>\n",
       "    </tr>\n",
       "    <tr>\n",
       "      <th>3</th>\n",
       "      <td>1.0</td>\n",
       "      <td>1500.0</td>\n",
       "      <td>65019.0</td>\n",
       "      <td>89235.5</td>\n",
       "      <td>DebtCon</td>\n",
       "      <td>Other</td>\n",
       "      <td>7.0</td>\n",
       "      <td>0.0</td>\n",
       "      <td>0.0</td>\n",
       "      <td>173.466667</td>\n",
       "      <td>1.0</td>\n",
       "      <td>20.0</td>\n",
       "      <td>34.818262</td>\n",
       "      <td>26623.0</td>\n",
       "      <td>0.0</td>\n",
       "    </tr>\n",
       "    <tr>\n",
       "      <th>4</th>\n",
       "      <td>0.0</td>\n",
       "      <td>1700.0</td>\n",
       "      <td>97800.0</td>\n",
       "      <td>112000.0</td>\n",
       "      <td>HomeImp</td>\n",
       "      <td>Office</td>\n",
       "      <td>3.0</td>\n",
       "      <td>0.0</td>\n",
       "      <td>0.0</td>\n",
       "      <td>93.333333</td>\n",
       "      <td>0.0</td>\n",
       "      <td>14.0</td>\n",
       "      <td>34.818262</td>\n",
       "      <td>14200.0</td>\n",
       "      <td>1.0</td>\n",
       "    </tr>\n",
       "  </tbody>\n",
       "</table>\n",
       "</div>\n",
       "</div>\n",
       "<div class=\"cas-output-area\"></div>\n",
       "<p class=\"cas-results-performance\"><small><span class=\"cas-elapsed\">elapsed 0.0277s</span> &#183; <span class=\"cas-user\">user 0.009s</span> &#183; <span class=\"cas-sys\">sys 0.012s</span> &#183; <span class=\"cas-memory\">mem 2.26MB</span></small></p>"
      ],
      "text/plain": [
       "[Fetch]\n",
       "\n",
       " Selected Rows from Table IMP_HMEQ\n",
       " \n",
       "    BAD    LOAN  MORTDUE     VALUE   REASON     JOB   YOJ  DEROG  DELINQ  \\\n",
       " 0  1.0  1100.0  25860.0   39025.0  HomeImp   Other  10.5    0.0     0.0   \n",
       " 1  1.0  1300.0  70053.0   68400.0  HomeImp   Other   7.0    0.0     2.0   \n",
       " 2  1.0  1500.0  13500.0   16700.0  HomeImp   Other   4.0    0.0     0.0   \n",
       " 3  1.0  1500.0  65019.0   89235.5  DebtCon   Other   7.0    0.0     0.0   \n",
       " 4  0.0  1700.0  97800.0  112000.0  HomeImp  Office   3.0    0.0     0.0   \n",
       " \n",
       "         CLAGE  NINQ  CLNO    DEBTINC  MORTPAID  _PartInd_  \n",
       " 0   94.366667   1.0   9.0  34.818262   13165.0        1.0  \n",
       " 1  121.833333   0.0  14.0  34.818262   -1653.0        1.0  \n",
       " 2  149.466667   1.0  10.0  34.818262    3200.0        1.0  \n",
       " 3  173.466667   1.0  20.0  34.818262   26623.0        0.0  \n",
       " 4   93.333333   0.0  14.0  34.818262   14200.0        1.0  \n",
       "\n",
       "+ Elapsed: 0.0277s, user: 0.009s, sys: 0.012s, mem: 2.26mb"
      ]
     },
     "execution_count": 9,
     "metadata": {},
     "output_type": "execute_result"
    }
   ],
   "source": [
    "# Will end up imputing the median value for numeric variables, most common value for nominal\n",
    "imp_castbl = Pipeline([Imputer(Imputer.MEDIAN), Imputer(Imputer.MODE)]).transform(castbl)\n",
    "\n",
    "# I want my imputed dataset name to have the imp_ prefix\n",
    "imp_castbl.partition(casout = dict(name = 'imp_' + indata, replace = True))\n",
    "\n",
    "# Remove the unnecessary impute staging tables\n",
    "[conn.droptable(s) for s in conn.tableinfo()['TableInfo']['Name'] if 'IMPUTE' in s]\n",
    "\n",
    "# Make sure everything worked properly for the new imputed dataset\n",
    "conn.fetch('imp_' + indata, to = 5)"
   ]
  },
  {
   "cell_type": "markdown",
   "metadata": {},
   "source": [
    "### Do a quick check on the available datasets"
   ]
  },
  {
   "cell_type": "code",
   "execution_count": 10,
   "metadata": {
    "collapsed": false
   },
   "outputs": [
    {
     "data": {
      "text/html": [
       "<div class=\"cas-results-key\"><b>&#167; TableInfo</b></div>\n",
       "<div class=\"cas-results-body\">\n",
       "<div>\n",
       "<table border=\"1\" class=\"dataframe\">\n",
       "  <thead>\n",
       "    <tr style=\"text-align: right;\">\n",
       "      <th title=\"\"></th>\n",
       "      <th title=\"Name\">Name</th>\n",
       "      <th title=\"Rows\">Rows</th>\n",
       "      <th title=\"Columns\">Columns</th>\n",
       "      <th title=\"Encoding\">Encoding</th>\n",
       "      <th title=\"Created\">CreateTimeFormatted</th>\n",
       "      <th title=\"Last Modified\">ModTimeFormatted</th>\n",
       "      <th title=\"Character Set\">JavaCharSet</th>\n",
       "      <th title=\"CreateTime\">CreateTime</th>\n",
       "      <th title=\"ModTime\">ModTime</th>\n",
       "      <th title=\"Global\">Global</th>\n",
       "      <th title=\"Repeated\">Repeated</th>\n",
       "      <th title=\"View\">View</th>\n",
       "      <th title=\"Loaded Source\">SourceName</th>\n",
       "      <th title=\"Source Caslib\">SourceCaslib</th>\n",
       "      <th title=\"Compressed\">Compressed</th>\n",
       "      <th title=\"Table Creator\">Creator</th>\n",
       "      <th title=\"Last Table Modifier\">Modifier</th>\n",
       "    </tr>\n",
       "  </thead>\n",
       "  <tbody>\n",
       "    <tr>\n",
       "      <th>0</th>\n",
       "      <td>HMEQ</td>\n",
       "      <td>5960</td>\n",
       "      <td>15</td>\n",
       "      <td>utf-8</td>\n",
       "      <td>17Apr2017:17:57:14</td>\n",
       "      <td>17Apr2017:17:57:14</td>\n",
       "      <td>UTF8</td>\n",
       "      <td>1.808071e+09</td>\n",
       "      <td>1.808071e+09</td>\n",
       "      <td>0</td>\n",
       "      <td>0</td>\n",
       "      <td>0</td>\n",
       "      <td></td>\n",
       "      <td></td>\n",
       "      <td>0</td>\n",
       "      <td>jelueb</td>\n",
       "      <td></td>\n",
       "    </tr>\n",
       "    <tr>\n",
       "      <th>1</th>\n",
       "      <td>IMP_HMEQ</td>\n",
       "      <td>5960</td>\n",
       "      <td>15</td>\n",
       "      <td>utf-8</td>\n",
       "      <td>17Apr2017:17:57:15</td>\n",
       "      <td>17Apr2017:17:57:15</td>\n",
       "      <td>UTF8</td>\n",
       "      <td>1.808071e+09</td>\n",
       "      <td>1.808071e+09</td>\n",
       "      <td>0</td>\n",
       "      <td>0</td>\n",
       "      <td>0</td>\n",
       "      <td></td>\n",
       "      <td></td>\n",
       "      <td>0</td>\n",
       "      <td>jelueb</td>\n",
       "      <td></td>\n",
       "    </tr>\n",
       "  </tbody>\n",
       "</table>\n",
       "</div>\n",
       "</div>\n",
       "<div class=\"cas-output-area\"></div>\n",
       "<p class=\"cas-results-performance\"><small><span class=\"cas-elapsed\">elapsed 0.00946s</span> &#183; <span class=\"cas-sys\">sys 0.005s</span> &#183; <span class=\"cas-memory\">mem 0.193MB</span></small></p>"
      ],
      "text/plain": [
       "[TableInfo]\n",
       "\n",
       "        Name  Rows  Columns Encoding CreateTimeFormatted    ModTimeFormatted  \\\n",
       " 0      HMEQ  5960       15    utf-8  17Apr2017:17:57:14  17Apr2017:17:57:14   \n",
       " 1  IMP_HMEQ  5960       15    utf-8  17Apr2017:17:57:15  17Apr2017:17:57:15   \n",
       " \n",
       "   JavaCharSet    CreateTime       ModTime  Global  Repeated  View SourceName  \\\n",
       " 0        UTF8  1.808071e+09  1.808071e+09       0         0     0              \n",
       " 1        UTF8  1.808071e+09  1.808071e+09       0         0     0              \n",
       " \n",
       "   SourceCaslib  Compressed Creator Modifier  \n",
       " 0                        0  jelueb           \n",
       " 1                        0  jelueb           \n",
       "\n",
       "+ Elapsed: 0.00946s, sys: 0.005s, mem: 0.193mb"
      ]
     },
     "execution_count": 10,
     "metadata": {},
     "output_type": "execute_result"
    }
   ],
   "source": [
    "conn.tableinfo()"
   ]
  },
  {
   "cell_type": "markdown",
   "metadata": {},
   "source": [
    "## Prepare for modeling - shortcuts to make life easier"
   ]
  },
  {
   "cell_type": "code",
   "execution_count": 11,
   "metadata": {
    "collapsed": false
   },
   "outputs": [],
   "source": [
    "# Create CASTable objects for training and validation for models that can handle missing values\n",
    "train = conn.CASTable(indata, where = '_partind_ = 1')\n",
    "valid = conn.CASTable(indata, where = '_partind_ = 0')\n",
    "\n",
    "# Create CASTable objects for training and validation for models that cannot handle missing values\n",
    "imp_train = conn.CASTable('imp_' + indata, where = '_partind_ = 1')\n",
    "imp_valid = conn.CASTable('imp_' + indata, where = '_partind_ = 0')\n",
    "\n",
    "# Key word argument shortcuts for model building (common imputs)\n",
    "params = dict(\n",
    "    target = castbl.columns[0],\n",
    "    inputs = castbl.columns[1:-1].tolist(),\n",
    "    nominals = [castbl.columns[0]] + castbl.columninfo()['ColumnInfo'].query('Type == \"varchar\"')['Column'].tolist()\n",
    ")"
   ]
  },
  {
   "cell_type": "markdown",
   "metadata": {},
   "source": [
    "# Model Fitting & Scoring using Pipefitter"
   ]
  },
  {
   "cell_type": "markdown",
   "metadata": {},
   "source": [
    "## Decision Tree"
   ]
  },
  {
   "cell_type": "code",
   "execution_count": 12,
   "metadata": {
    "collapsed": false
   },
   "outputs": [
    {
     "data": {
      "text/plain": [
       "Target                            BAD\n",
       "Level                           CLASS\n",
       "Var                            _DT_P_\n",
       "NBins                             100\n",
       "NObsUsed                         1788\n",
       "TargetCount                      1788\n",
       "TargetMiss                          0\n",
       "PredCount                        1788\n",
       "PredMiss                            0\n",
       "Event                               0\n",
       "EventCount                       1415\n",
       "NonEventCount                     373\n",
       "EventMiss                           0\n",
       "AreaUnderROCCurve            0.826011\n",
       "CRCut                            0.72\n",
       "ClassificationCutOff              0.5\n",
       "KS                           0.630406\n",
       "KSCutOff                         0.72\n",
       "MisClassificationRate          14.094\n",
       "dtype: object"
      ]
     },
     "execution_count": 12,
     "metadata": {},
     "output_type": "execute_result"
    }
   ],
   "source": [
    "# Train decision tree on training dataset\n",
    "dt = DecisionTree(**params).fit(train)\n",
    "\n",
    "# Score decision tree on validation dataset\n",
    "dt_score = dt.score(valid)\n",
    "dt_score"
   ]
  },
  {
   "cell_type": "markdown",
   "metadata": {},
   "source": [
    "## Random Forest"
   ]
  },
  {
   "cell_type": "code",
   "execution_count": 13,
   "metadata": {
    "collapsed": false
   },
   "outputs": [
    {
     "data": {
      "text/plain": [
       "Target                            BAD\n",
       "Level                           CLASS\n",
       "Var                            _RF_P_\n",
       "NBins                             100\n",
       "NObsUsed                         1788\n",
       "TargetCount                      1788\n",
       "TargetMiss                          0\n",
       "PredCount                        1788\n",
       "PredMiss                            0\n",
       "Event                               0\n",
       "EventCount                       1415\n",
       "NonEventCount                     373\n",
       "EventMiss                           0\n",
       "AreaUnderROCCurve            0.877359\n",
       "CRCut                            0.58\n",
       "ClassificationCutOff              0.5\n",
       "KS                           0.654803\n",
       "KSCutOff                         0.83\n",
       "MisClassificationRate         11.9128\n",
       "dtype: object"
      ]
     },
     "execution_count": 13,
     "metadata": {},
     "output_type": "execute_result"
    }
   ],
   "source": [
    "# Train random forest on training dataset\n",
    "rf = DecisionForest(**params).fit(train)\n",
    "\n",
    "# Score decision tree on validation dataset\n",
    "rf_score = rf.score(valid)\n",
    "rf_score"
   ]
  },
  {
   "cell_type": "markdown",
   "metadata": {},
   "source": [
    "## Gradient Boosting"
   ]
  },
  {
   "cell_type": "code",
   "execution_count": 14,
   "metadata": {
    "collapsed": false
   },
   "outputs": [
    {
     "data": {
      "text/plain": [
       "Target                            BAD\n",
       "Level                           CLASS\n",
       "Var                           _GBT_P_\n",
       "NBins                             100\n",
       "NObsUsed                         1788\n",
       "TargetCount                      1788\n",
       "TargetMiss                          0\n",
       "PredCount                        1788\n",
       "PredMiss                            0\n",
       "Event                               0\n",
       "EventCount                       1415\n",
       "NonEventCount                     373\n",
       "EventMiss                           0\n",
       "AreaUnderROCCurve            0.937564\n",
       "CRCut                            0.59\n",
       "ClassificationCutOff              0.5\n",
       "KS                           0.734302\n",
       "KSCutOff                         0.75\n",
       "MisClassificationRate         9.67562\n",
       "dtype: object"
      ]
     },
     "execution_count": 14,
     "metadata": {},
     "output_type": "execute_result"
    }
   ],
   "source": [
    "# Train gradient boosting on training dataset\n",
    "gbt = GBTree(**params).fit(train)\n",
    "\n",
    "# Score gradient boosting on validation dataset\n",
    "gbt_score = gbt.score(valid)\n",
    "gbt_score"
   ]
  },
  {
   "cell_type": "markdown",
   "metadata": {},
   "source": [
    "## Neural Network"
   ]
  },
  {
   "cell_type": "code",
   "execution_count": 15,
   "metadata": {
    "collapsed": false
   },
   "outputs": [
    {
     "data": {
      "text/plain": [
       "Target                            BAD\n",
       "Level                           CLASS\n",
       "Var                            _NN_P_\n",
       "NBins                             100\n",
       "NObsUsed                         1788\n",
       "TargetCount                      1788\n",
       "TargetMiss                          0\n",
       "PredCount                        1788\n",
       "PredMiss                            0\n",
       "Event                               1\n",
       "EventCount                        373\n",
       "NonEventCount                    1415\n",
       "EventMiss                           0\n",
       "AreaUnderROCCurve             0.75782\n",
       "CRCut                            0.47\n",
       "ClassificationCutOff              0.5\n",
       "KS                           0.401029\n",
       "KSCutOff                         0.21\n",
       "MisClassificationRate          17.226\n",
       "dtype: object"
      ]
     },
     "execution_count": 15,
     "metadata": {},
     "output_type": "execute_result"
    }
   ],
   "source": [
    "# Train neural network on training dataset\n",
    "nn = NeuralNetwork(**params).fit(imp_train)\n",
    "\n",
    "# Score neural network on validation dataset\n",
    "nn_score = nn.score(imp_valid, event = 0)\n",
    "nn_score"
   ]
  },
  {
   "cell_type": "markdown",
   "metadata": {},
   "source": [
    "# Model Assessment"
   ]
  },
  {
   "cell_type": "markdown",
   "metadata": {},
   "source": [
    "## Compare model misclassification side-by-side"
   ]
  },
  {
   "cell_type": "code",
   "execution_count": 16,
   "metadata": {
    "collapsed": false
   },
   "outputs": [
    {
     "name": "stdout",
     "output_type": "stream",
     "text": [
      "\n",
      "                    Misclassification Rate\n",
      "Gradient Boosting                9.675615\n",
      "Random Forest                   11.912752\n",
      "Decision Tree                   14.093960\n",
      "Neural Network                  17.225951\n",
      "\n",
      " The Gradient Boosting model is the champion!\n"
     ]
    }
   ],
   "source": [
    "# Aggregate the misclassification metrics from previous output\n",
    "Models = ['Decision Tree', 'Random Forest', 'Gradient Boosting', 'Neural Network']\n",
    "Misclassification = [dt_score[-1], rf_score[-1], gbt_score[-1], nn_score[-1]]\n",
    "mcr = pd.DataFrame({'Misclassification Rate': Misclassification}, Models).sort_values('Misclassification Rate')\n",
    "print('\\n', mcr)\n",
    "\n",
    "# Which model is the champion?\n",
    "print('\\n', 'The', mcr.index[0], 'model is the champion!')"
   ]
  },
  {
   "cell_type": "markdown",
   "metadata": {},
   "source": [
    "# Optional: obtain more model assessment metrics"
   ]
  },
  {
   "cell_type": "markdown",
   "metadata": {},
   "source": [
    "## Check available tables\n",
    "There should be the prepared datasets and saved models"
   ]
  },
  {
   "cell_type": "code",
   "execution_count": 17,
   "metadata": {
    "collapsed": false
   },
   "outputs": [
    {
     "data": {
      "text/html": [
       "<div class=\"cas-results-key\"><b>&#167; TableInfo</b></div>\n",
       "<div class=\"cas-results-body\">\n",
       "<div>\n",
       "<table border=\"1\" class=\"dataframe\">\n",
       "  <thead>\n",
       "    <tr style=\"text-align: right;\">\n",
       "      <th title=\"\"></th>\n",
       "      <th title=\"Name\">Name</th>\n",
       "      <th title=\"Rows\">Rows</th>\n",
       "      <th title=\"Columns\">Columns</th>\n",
       "      <th title=\"Encoding\">Encoding</th>\n",
       "      <th title=\"Created\">CreateTimeFormatted</th>\n",
       "      <th title=\"Last Modified\">ModTimeFormatted</th>\n",
       "      <th title=\"Character Set\">JavaCharSet</th>\n",
       "      <th title=\"CreateTime\">CreateTime</th>\n",
       "      <th title=\"ModTime\">ModTime</th>\n",
       "      <th title=\"Global\">Global</th>\n",
       "      <th title=\"Repeated\">Repeated</th>\n",
       "      <th title=\"View\">View</th>\n",
       "      <th title=\"Loaded Source\">SourceName</th>\n",
       "      <th title=\"Source Caslib\">SourceCaslib</th>\n",
       "      <th title=\"Compressed\">Compressed</th>\n",
       "      <th title=\"Table Creator\">Creator</th>\n",
       "      <th title=\"Last Table Modifier\">Modifier</th>\n",
       "    </tr>\n",
       "  </thead>\n",
       "  <tbody>\n",
       "    <tr>\n",
       "      <th>0</th>\n",
       "      <td>HMEQ</td>\n",
       "      <td>5960</td>\n",
       "      <td>15</td>\n",
       "      <td>utf-8</td>\n",
       "      <td>17Apr2017:17:57:14</td>\n",
       "      <td>17Apr2017:17:57:14</td>\n",
       "      <td>UTF8</td>\n",
       "      <td>1.808071e+09</td>\n",
       "      <td>1.808071e+09</td>\n",
       "      <td>0</td>\n",
       "      <td>0</td>\n",
       "      <td>0</td>\n",
       "      <td></td>\n",
       "      <td></td>\n",
       "      <td>0</td>\n",
       "      <td>jelueb</td>\n",
       "      <td></td>\n",
       "    </tr>\n",
       "    <tr>\n",
       "      <th>1</th>\n",
       "      <td>IMP_HMEQ</td>\n",
       "      <td>5960</td>\n",
       "      <td>15</td>\n",
       "      <td>utf-8</td>\n",
       "      <td>17Apr2017:17:57:15</td>\n",
       "      <td>17Apr2017:17:57:15</td>\n",
       "      <td>UTF8</td>\n",
       "      <td>1.808071e+09</td>\n",
       "      <td>1.808071e+09</td>\n",
       "      <td>0</td>\n",
       "      <td>0</td>\n",
       "      <td>0</td>\n",
       "      <td></td>\n",
       "      <td></td>\n",
       "      <td>0</td>\n",
       "      <td>jelueb</td>\n",
       "      <td></td>\n",
       "    </tr>\n",
       "    <tr>\n",
       "      <th>2</th>\n",
       "      <td>KMODELTREEF6BEF868_5BEF_4F67_8A03_938A7038CA83</td>\n",
       "      <td>13</td>\n",
       "      <td>28</td>\n",
       "      <td>utf-8</td>\n",
       "      <td>17Apr2017:17:57:16</td>\n",
       "      <td>17Apr2017:17:57:16</td>\n",
       "      <td>UTF8</td>\n",
       "      <td>1.808071e+09</td>\n",
       "      <td>1.808071e+09</td>\n",
       "      <td>0</td>\n",
       "      <td>0</td>\n",
       "      <td>0</td>\n",
       "      <td></td>\n",
       "      <td></td>\n",
       "      <td>0</td>\n",
       "      <td>jelueb</td>\n",
       "      <td></td>\n",
       "    </tr>\n",
       "    <tr>\n",
       "      <th>3</th>\n",
       "      <td>KMODELFOREST_D99A1A67_3A12_4E87_B8B2_92A01EE175B9</td>\n",
       "      <td>690</td>\n",
       "      <td>42</td>\n",
       "      <td>utf-8</td>\n",
       "      <td>17Apr2017:17:57:16</td>\n",
       "      <td>17Apr2017:17:57:16</td>\n",
       "      <td>UTF8</td>\n",
       "      <td>1.808071e+09</td>\n",
       "      <td>1.808071e+09</td>\n",
       "      <td>0</td>\n",
       "      <td>0</td>\n",
       "      <td>0</td>\n",
       "      <td></td>\n",
       "      <td></td>\n",
       "      <td>0</td>\n",
       "      <td>jelueb</td>\n",
       "      <td></td>\n",
       "    </tr>\n",
       "    <tr>\n",
       "      <th>4</th>\n",
       "      <td>KMODELGBT_27489703_D6BA_4135_A2E2_3F04DF8BB81B</td>\n",
       "      <td>2480</td>\n",
       "      <td>32</td>\n",
       "      <td>utf-8</td>\n",
       "      <td>17Apr2017:17:57:24</td>\n",
       "      <td>17Apr2017:17:57:24</td>\n",
       "      <td>UTF8</td>\n",
       "      <td>1.808071e+09</td>\n",
       "      <td>1.808071e+09</td>\n",
       "      <td>0</td>\n",
       "      <td>0</td>\n",
       "      <td>0</td>\n",
       "      <td></td>\n",
       "      <td></td>\n",
       "      <td>0</td>\n",
       "      <td>jelueb</td>\n",
       "      <td></td>\n",
       "    </tr>\n",
       "    <tr>\n",
       "      <th>5</th>\n",
       "      <td>NNMODEL2E2DE424_B238_4FAE_9FD3_B470212B80FD</td>\n",
       "      <td>182</td>\n",
       "      <td>15</td>\n",
       "      <td>utf-8</td>\n",
       "      <td>17Apr2017:17:57:27</td>\n",
       "      <td>17Apr2017:17:57:27</td>\n",
       "      <td>UTF8</td>\n",
       "      <td>1.808071e+09</td>\n",
       "      <td>1.808071e+09</td>\n",
       "      <td>0</td>\n",
       "      <td>0</td>\n",
       "      <td>0</td>\n",
       "      <td></td>\n",
       "      <td></td>\n",
       "      <td>0</td>\n",
       "      <td>jelueb</td>\n",
       "      <td></td>\n",
       "    </tr>\n",
       "  </tbody>\n",
       "</table>\n",
       "</div>\n",
       "</div>\n",
       "<div class=\"cas-output-area\"></div>\n",
       "<p class=\"cas-results-performance\"><small><span class=\"cas-elapsed\">elapsed 0.0231s</span> &#183; <span class=\"cas-user\">user 0.001s</span> &#183; <span class=\"cas-sys\">sys 0.007s</span> &#183; <span class=\"cas-memory\">mem 0.198MB</span></small></p>"
      ],
      "text/plain": [
       "[TableInfo]\n",
       "\n",
       "                                                 Name  Rows  Columns Encoding  \\\n",
       " 0                                               HMEQ  5960       15    utf-8   \n",
       " 1                                           IMP_HMEQ  5960       15    utf-8   \n",
       " 2     KMODELTREEF6BEF868_5BEF_4F67_8A03_938A7038CA83    13       28    utf-8   \n",
       " 3  KMODELFOREST_D99A1A67_3A12_4E87_B8B2_92A01EE175B9   690       42    utf-8   \n",
       " 4     KMODELGBT_27489703_D6BA_4135_A2E2_3F04DF8BB81B  2480       32    utf-8   \n",
       " 5        NNMODEL2E2DE424_B238_4FAE_9FD3_B470212B80FD   182       15    utf-8   \n",
       " \n",
       "   CreateTimeFormatted    ModTimeFormatted JavaCharSet    CreateTime  \\\n",
       " 0  17Apr2017:17:57:14  17Apr2017:17:57:14        UTF8  1.808071e+09   \n",
       " 1  17Apr2017:17:57:15  17Apr2017:17:57:15        UTF8  1.808071e+09   \n",
       " 2  17Apr2017:17:57:16  17Apr2017:17:57:16        UTF8  1.808071e+09   \n",
       " 3  17Apr2017:17:57:16  17Apr2017:17:57:16        UTF8  1.808071e+09   \n",
       " 4  17Apr2017:17:57:24  17Apr2017:17:57:24        UTF8  1.808071e+09   \n",
       " 5  17Apr2017:17:57:27  17Apr2017:17:57:27        UTF8  1.808071e+09   \n",
       " \n",
       "         ModTime  Global  Repeated  View SourceName SourceCaslib  Compressed  \\\n",
       " 0  1.808071e+09       0         0     0                                   0   \n",
       " 1  1.808071e+09       0         0     0                                   0   \n",
       " 2  1.808071e+09       0         0     0                                   0   \n",
       " 3  1.808071e+09       0         0     0                                   0   \n",
       " 4  1.808071e+09       0         0     0                                   0   \n",
       " 5  1.808071e+09       0         0     0                                   0   \n",
       " \n",
       "   Creator Modifier  \n",
       " 0  jelueb           \n",
       " 1  jelueb           \n",
       " 2  jelueb           \n",
       " 3  jelueb           \n",
       " 4  jelueb           \n",
       " 5  jelueb           \n",
       "\n",
       "+ Elapsed: 0.0231s, user: 0.001s, sys: 0.007s, mem: 0.198mb"
      ]
     },
     "execution_count": 17,
     "metadata": {},
     "output_type": "execute_result"
    }
   ],
   "source": [
    "# What are the in-memory tables?\n",
    "conn.tableinfo()"
   ]
  },
  {
   "cell_type": "markdown",
   "metadata": {},
   "source": [
    "### Assessment dictionary shortcuts"
   ]
  },
  {
   "cell_type": "code",
   "execution_count": 18,
   "metadata": {
    "collapsed": false
   },
   "outputs": [],
   "source": [
    "# Give model tables appropriate shortcuts in a dictionary\n",
    "saved = {}\n",
    "saved['dt']  = next((s for s in conn.tableinfo()['TableInfo']['Name'] if 'MODELTREE' in s), None)\n",
    "saved['rf']  = next((s for s in conn.tableinfo()['TableInfo']['Name'] if 'MODELFOREST' in s), None)\n",
    "saved['gbt'] = next((s for s in conn.tableinfo()['TableInfo']['Name'] if 'MODELGBT' in s), None)\n",
    "saved['nn']  = next((s for s in conn.tableinfo()['TableInfo']['Name'] if 'NNMODEL' in s), None)\n",
    "\n",
    "# Models to be assessed\n",
    "models = collections.OrderedDict()\n",
    "models['dt']  = 'Decision Tree'\n",
    "models['rf']  = 'Random Forest'\n",
    "models['gbt'] = 'Gradient Boosting'\n",
    "models['nn']  = 'Neural Network'"
   ]
  },
  {
   "cell_type": "markdown",
   "metadata": {},
   "source": [
    "## Score the models built using Pipefitter"
   ]
  },
  {
   "cell_type": "code",
   "execution_count": 19,
   "metadata": {
    "collapsed": false
   },
   "outputs": [
    {
     "data": {
      "text/html": [
       "<div class=\"cas-results-key\"><b>&#167; TableInfo</b></div>\n",
       "<div class=\"cas-results-body\">\n",
       "<div>\n",
       "<table border=\"1\" class=\"dataframe\">\n",
       "  <thead>\n",
       "    <tr style=\"text-align: right;\">\n",
       "      <th title=\"\"></th>\n",
       "      <th title=\"Name\">Name</th>\n",
       "      <th title=\"Rows\">Rows</th>\n",
       "      <th title=\"Columns\">Columns</th>\n",
       "      <th title=\"Encoding\">Encoding</th>\n",
       "      <th title=\"Created\">CreateTimeFormatted</th>\n",
       "      <th title=\"Last Modified\">ModTimeFormatted</th>\n",
       "      <th title=\"Character Set\">JavaCharSet</th>\n",
       "      <th title=\"CreateTime\">CreateTime</th>\n",
       "      <th title=\"ModTime\">ModTime</th>\n",
       "      <th title=\"Global\">Global</th>\n",
       "      <th title=\"Repeated\">Repeated</th>\n",
       "      <th title=\"View\">View</th>\n",
       "      <th title=\"Loaded Source\">SourceName</th>\n",
       "      <th title=\"Source Caslib\">SourceCaslib</th>\n",
       "      <th title=\"Compressed\">Compressed</th>\n",
       "      <th title=\"Table Creator\">Creator</th>\n",
       "      <th title=\"Last Table Modifier\">Modifier</th>\n",
       "    </tr>\n",
       "  </thead>\n",
       "  <tbody>\n",
       "    <tr>\n",
       "      <th>0</th>\n",
       "      <td>HMEQ</td>\n",
       "      <td>5960</td>\n",
       "      <td>15</td>\n",
       "      <td>utf-8</td>\n",
       "      <td>17Apr2017:17:57:14</td>\n",
       "      <td>17Apr2017:17:57:14</td>\n",
       "      <td>UTF8</td>\n",
       "      <td>1.808071e+09</td>\n",
       "      <td>1.808071e+09</td>\n",
       "      <td>0</td>\n",
       "      <td>0</td>\n",
       "      <td>0</td>\n",
       "      <td></td>\n",
       "      <td></td>\n",
       "      <td>0</td>\n",
       "      <td>jelueb</td>\n",
       "      <td></td>\n",
       "    </tr>\n",
       "    <tr>\n",
       "      <th>1</th>\n",
       "      <td>IMP_HMEQ</td>\n",
       "      <td>5960</td>\n",
       "      <td>15</td>\n",
       "      <td>utf-8</td>\n",
       "      <td>17Apr2017:17:57:15</td>\n",
       "      <td>17Apr2017:17:57:15</td>\n",
       "      <td>UTF8</td>\n",
       "      <td>1.808071e+09</td>\n",
       "      <td>1.808071e+09</td>\n",
       "      <td>0</td>\n",
       "      <td>0</td>\n",
       "      <td>0</td>\n",
       "      <td></td>\n",
       "      <td></td>\n",
       "      <td>0</td>\n",
       "      <td>jelueb</td>\n",
       "      <td></td>\n",
       "    </tr>\n",
       "    <tr>\n",
       "      <th>2</th>\n",
       "      <td>KMODELTREEF6BEF868_5BEF_4F67_8A03_938A7038CA83</td>\n",
       "      <td>13</td>\n",
       "      <td>28</td>\n",
       "      <td>utf-8</td>\n",
       "      <td>17Apr2017:17:57:16</td>\n",
       "      <td>17Apr2017:17:57:16</td>\n",
       "      <td>UTF8</td>\n",
       "      <td>1.808071e+09</td>\n",
       "      <td>1.808071e+09</td>\n",
       "      <td>0</td>\n",
       "      <td>0</td>\n",
       "      <td>0</td>\n",
       "      <td></td>\n",
       "      <td></td>\n",
       "      <td>0</td>\n",
       "      <td>jelueb</td>\n",
       "      <td></td>\n",
       "    </tr>\n",
       "    <tr>\n",
       "      <th>3</th>\n",
       "      <td>KMODELFOREST_D99A1A67_3A12_4E87_B8B2_92A01EE175B9</td>\n",
       "      <td>690</td>\n",
       "      <td>42</td>\n",
       "      <td>utf-8</td>\n",
       "      <td>17Apr2017:17:57:16</td>\n",
       "      <td>17Apr2017:17:57:16</td>\n",
       "      <td>UTF8</td>\n",
       "      <td>1.808071e+09</td>\n",
       "      <td>1.808071e+09</td>\n",
       "      <td>0</td>\n",
       "      <td>0</td>\n",
       "      <td>0</td>\n",
       "      <td></td>\n",
       "      <td></td>\n",
       "      <td>0</td>\n",
       "      <td>jelueb</td>\n",
       "      <td></td>\n",
       "    </tr>\n",
       "    <tr>\n",
       "      <th>4</th>\n",
       "      <td>KMODELGBT_27489703_D6BA_4135_A2E2_3F04DF8BB81B</td>\n",
       "      <td>2480</td>\n",
       "      <td>32</td>\n",
       "      <td>utf-8</td>\n",
       "      <td>17Apr2017:17:57:24</td>\n",
       "      <td>17Apr2017:17:57:24</td>\n",
       "      <td>UTF8</td>\n",
       "      <td>1.808071e+09</td>\n",
       "      <td>1.808071e+09</td>\n",
       "      <td>0</td>\n",
       "      <td>0</td>\n",
       "      <td>0</td>\n",
       "      <td></td>\n",
       "      <td></td>\n",
       "      <td>0</td>\n",
       "      <td>jelueb</td>\n",
       "      <td></td>\n",
       "    </tr>\n",
       "    <tr>\n",
       "      <th>5</th>\n",
       "      <td>NNMODEL2E2DE424_B238_4FAE_9FD3_B470212B80FD</td>\n",
       "      <td>182</td>\n",
       "      <td>15</td>\n",
       "      <td>utf-8</td>\n",
       "      <td>17Apr2017:17:57:27</td>\n",
       "      <td>17Apr2017:17:57:27</td>\n",
       "      <td>UTF8</td>\n",
       "      <td>1.808071e+09</td>\n",
       "      <td>1.808071e+09</td>\n",
       "      <td>0</td>\n",
       "      <td>0</td>\n",
       "      <td>0</td>\n",
       "      <td></td>\n",
       "      <td></td>\n",
       "      <td>0</td>\n",
       "      <td>jelueb</td>\n",
       "      <td></td>\n",
       "    </tr>\n",
       "    <tr>\n",
       "      <th>6</th>\n",
       "      <td>DT_SCORED</td>\n",
       "      <td>1788</td>\n",
       "      <td>16</td>\n",
       "      <td>utf-8</td>\n",
       "      <td>17Apr2017:17:57:28</td>\n",
       "      <td>17Apr2017:17:57:28</td>\n",
       "      <td>UTF8</td>\n",
       "      <td>1.808071e+09</td>\n",
       "      <td>1.808071e+09</td>\n",
       "      <td>0</td>\n",
       "      <td>0</td>\n",
       "      <td>0</td>\n",
       "      <td></td>\n",
       "      <td></td>\n",
       "      <td>0</td>\n",
       "      <td>jelueb</td>\n",
       "      <td></td>\n",
       "    </tr>\n",
       "    <tr>\n",
       "      <th>7</th>\n",
       "      <td>RF_SCORED</td>\n",
       "      <td>1788</td>\n",
       "      <td>9</td>\n",
       "      <td>utf-8</td>\n",
       "      <td>17Apr2017:17:57:28</td>\n",
       "      <td>17Apr2017:17:57:28</td>\n",
       "      <td>UTF8</td>\n",
       "      <td>1.808071e+09</td>\n",
       "      <td>1.808071e+09</td>\n",
       "      <td>0</td>\n",
       "      <td>0</td>\n",
       "      <td>0</td>\n",
       "      <td></td>\n",
       "      <td></td>\n",
       "      <td>0</td>\n",
       "      <td>jelueb</td>\n",
       "      <td></td>\n",
       "    </tr>\n",
       "    <tr>\n",
       "      <th>8</th>\n",
       "      <td>GBT_SCORED</td>\n",
       "      <td>1788</td>\n",
       "      <td>8</td>\n",
       "      <td>utf-8</td>\n",
       "      <td>17Apr2017:17:57:28</td>\n",
       "      <td>17Apr2017:17:57:28</td>\n",
       "      <td>UTF8</td>\n",
       "      <td>1.808071e+09</td>\n",
       "      <td>1.808071e+09</td>\n",
       "      <td>0</td>\n",
       "      <td>0</td>\n",
       "      <td>0</td>\n",
       "      <td></td>\n",
       "      <td></td>\n",
       "      <td>0</td>\n",
       "      <td>jelueb</td>\n",
       "      <td></td>\n",
       "    </tr>\n",
       "    <tr>\n",
       "      <th>9</th>\n",
       "      <td>NN_SCORED</td>\n",
       "      <td>1788</td>\n",
       "      <td>6</td>\n",
       "      <td>utf-8</td>\n",
       "      <td>17Apr2017:17:57:28</td>\n",
       "      <td>17Apr2017:17:57:28</td>\n",
       "      <td>UTF8</td>\n",
       "      <td>1.808071e+09</td>\n",
       "      <td>1.808071e+09</td>\n",
       "      <td>0</td>\n",
       "      <td>0</td>\n",
       "      <td>0</td>\n",
       "      <td></td>\n",
       "      <td></td>\n",
       "      <td>0</td>\n",
       "      <td>jelueb</td>\n",
       "      <td></td>\n",
       "    </tr>\n",
       "  </tbody>\n",
       "</table>\n",
       "</div>\n",
       "</div>\n",
       "<div class=\"cas-output-area\"></div>\n",
       "<p class=\"cas-results-performance\"><small><span class=\"cas-elapsed\">elapsed 0.00993s</span> &#183; <span class=\"cas-user\">user 0.003s</span> &#183; <span class=\"cas-sys\">sys 0.008s</span> &#183; <span class=\"cas-memory\">mem 0.206MB</span></small></p>"
      ],
      "text/plain": [
       "[TableInfo]\n",
       "\n",
       "                                                 Name  Rows  Columns Encoding  \\\n",
       " 0                                               HMEQ  5960       15    utf-8   \n",
       " 1                                           IMP_HMEQ  5960       15    utf-8   \n",
       " 2     KMODELTREEF6BEF868_5BEF_4F67_8A03_938A7038CA83    13       28    utf-8   \n",
       " 3  KMODELFOREST_D99A1A67_3A12_4E87_B8B2_92A01EE175B9   690       42    utf-8   \n",
       " 4     KMODELGBT_27489703_D6BA_4135_A2E2_3F04DF8BB81B  2480       32    utf-8   \n",
       " 5        NNMODEL2E2DE424_B238_4FAE_9FD3_B470212B80FD   182       15    utf-8   \n",
       " 6                                          DT_SCORED  1788       16    utf-8   \n",
       " 7                                          RF_SCORED  1788        9    utf-8   \n",
       " 8                                         GBT_SCORED  1788        8    utf-8   \n",
       " 9                                          NN_SCORED  1788        6    utf-8   \n",
       " \n",
       "   CreateTimeFormatted    ModTimeFormatted JavaCharSet    CreateTime  \\\n",
       " 0  17Apr2017:17:57:14  17Apr2017:17:57:14        UTF8  1.808071e+09   \n",
       " 1  17Apr2017:17:57:15  17Apr2017:17:57:15        UTF8  1.808071e+09   \n",
       " 2  17Apr2017:17:57:16  17Apr2017:17:57:16        UTF8  1.808071e+09   \n",
       " 3  17Apr2017:17:57:16  17Apr2017:17:57:16        UTF8  1.808071e+09   \n",
       " 4  17Apr2017:17:57:24  17Apr2017:17:57:24        UTF8  1.808071e+09   \n",
       " 5  17Apr2017:17:57:27  17Apr2017:17:57:27        UTF8  1.808071e+09   \n",
       " 6  17Apr2017:17:57:28  17Apr2017:17:57:28        UTF8  1.808071e+09   \n",
       " 7  17Apr2017:17:57:28  17Apr2017:17:57:28        UTF8  1.808071e+09   \n",
       " 8  17Apr2017:17:57:28  17Apr2017:17:57:28        UTF8  1.808071e+09   \n",
       " 9  17Apr2017:17:57:28  17Apr2017:17:57:28        UTF8  1.808071e+09   \n",
       " \n",
       "         ModTime  Global  Repeated  View SourceName SourceCaslib  Compressed  \\\n",
       " 0  1.808071e+09       0         0     0                                   0   \n",
       " 1  1.808071e+09       0         0     0                                   0   \n",
       " 2  1.808071e+09       0         0     0                                   0   \n",
       " 3  1.808071e+09       0         0     0                                   0   \n",
       " 4  1.808071e+09       0         0     0                                   0   \n",
       " 5  1.808071e+09       0         0     0                                   0   \n",
       " 6  1.808071e+09       0         0     0                                   0   \n",
       " 7  1.808071e+09       0         0     0                                   0   \n",
       " 8  1.808071e+09       0         0     0                                   0   \n",
       " 9  1.808071e+09       0         0     0                                   0   \n",
       " \n",
       "   Creator Modifier  \n",
       " 0  jelueb           \n",
       " 1  jelueb           \n",
       " 2  jelueb           \n",
       " 3  jelueb           \n",
       " 4  jelueb           \n",
       " 5  jelueb           \n",
       " 6  jelueb           \n",
       " 7  jelueb           \n",
       " 8  jelueb           \n",
       " 9  jelueb           \n",
       "\n",
       "+ Elapsed: 0.00993s, user: 0.003s, sys: 0.008s, mem: 0.206mb"
      ]
     },
     "execution_count": 19,
     "metadata": {},
     "output_type": "execute_result"
    }
   ],
   "source": [
    "# Define function that will score the models based on the model prefix\n",
    "def score_model(model):\n",
    "    return dict(\n",
    "        table        = valid,\n",
    "        modelTable   = saved[model],\n",
    "        assessonerow = True,\n",
    "        copyvars     = [castbl.columns[0], castbl.columns[-1]],\n",
    "        casOut       = dict(name = model + '_scored', replace = True)\n",
    "    )\n",
    "\n",
    "### Decision Tree\n",
    "conn.dtreeScore(**score_model('dt'))\n",
    "\n",
    "### Random Forest\n",
    "conn.forestScore(**score_model('rf'))\n",
    "\n",
    "### Gradient Boosting\n",
    "conn.gbtreeScore(**score_model('gbt'))\n",
    "\n",
    "### Neural Network\n",
    "conn.annScore(**score_model('nn'))\n",
    "\n",
    "# See the available tables now\n",
    "conn.tableinfo()"
   ]
  },
  {
   "cell_type": "markdown",
   "metadata": {},
   "source": [
    "## Assess the models using the scored datasets"
   ]
  },
  {
   "cell_type": "code",
   "execution_count": 20,
   "metadata": {
    "collapsed": false
   },
   "outputs": [],
   "source": [
    "# Model assessment function\n",
    "def assess_model(model):\n",
    "    return conn.assess(\n",
    "        table    = dict(name = model + '_scored', where = '_partind_ = 0'),\n",
    "        inputs   = '_' + model + '_p_           1',      \n",
    "        response = castbl.columns[0],\n",
    "        event    = '1'  \n",
    "    )\n",
    "\n",
    "# Loop through the models and append to the roc_df dataframe\n",
    "roc_df  = pd.DataFrame()\n",
    "for i in range(len(models)):\n",
    "    tmp = assess_model(list(models)[i])\n",
    "    tmp.ROCInfo['Model'] = list(models.values())[i]\n",
    "    roc_df = pd.concat([roc_df, tmp.ROCInfo])"
   ]
  },
  {
   "cell_type": "markdown",
   "metadata": {},
   "source": [
    "## Additional Assessment"
   ]
  },
  {
   "cell_type": "markdown",
   "metadata": {},
   "source": [
    "### Confusion Matrix"
   ]
  },
  {
   "cell_type": "code",
   "execution_count": 21,
   "metadata": {
    "collapsed": false
   },
   "outputs": [
    {
     "name": "stdout",
     "output_type": "stream",
     "text": [
      "\n",
      "      Confusion Matrix Information     \n"
     ]
    },
    {
     "data": {
      "text/html": [
       "<div>\n",
       "<table border=\"1\" class=\"dataframe\">\n",
       "  <thead>\n",
       "    <tr style=\"text-align: right;\">\n",
       "      <th title=\"\"></th>\n",
       "      <th title=\"Model\">Model</th>\n",
       "      <th title=\"TP\">TP</th>\n",
       "      <th title=\"FP\">FP</th>\n",
       "      <th title=\"FN\">FN</th>\n",
       "      <th title=\"TN\">TN</th>\n",
       "    </tr>\n",
       "  </thead>\n",
       "  <tbody>\n",
       "    <tr>\n",
       "      <th>0</th>\n",
       "      <td>Decision Tree</td>\n",
       "      <td>273.0</td>\n",
       "      <td>153.0</td>\n",
       "      <td>100.0</td>\n",
       "      <td>1262.0</td>\n",
       "    </tr>\n",
       "    <tr>\n",
       "      <th>1</th>\n",
       "      <td>Random Forest</td>\n",
       "      <td>100.0</td>\n",
       "      <td>2.0</td>\n",
       "      <td>273.0</td>\n",
       "      <td>1413.0</td>\n",
       "    </tr>\n",
       "    <tr>\n",
       "      <th>2</th>\n",
       "      <td>Gradient Boosting</td>\n",
       "      <td>254.0</td>\n",
       "      <td>65.0</td>\n",
       "      <td>119.0</td>\n",
       "      <td>1350.0</td>\n",
       "    </tr>\n",
       "    <tr>\n",
       "      <th>3</th>\n",
       "      <td>Neural Network</td>\n",
       "      <td>22.0</td>\n",
       "      <td>22.0</td>\n",
       "      <td>73.0</td>\n",
       "      <td>890.0</td>\n",
       "    </tr>\n",
       "  </tbody>\n",
       "</table>\n",
       "</div>"
      ],
      "text/plain": [
       "               Model     TP     FP     FN      TN\n",
       "0      Decision Tree  273.0  153.0  100.0  1262.0\n",
       "1      Random Forest  100.0    2.0  273.0  1413.0\n",
       "2  Gradient Boosting  254.0   65.0  119.0  1350.0\n",
       "3     Neural Network   22.0   22.0   73.0   890.0"
      ]
     },
     "execution_count": 21,
     "metadata": {},
     "output_type": "execute_result"
    }
   ],
   "source": [
    "# Display stacked confusion matrix\n",
    "print('\\n', 'Confusion Matrix Information'.center(38, ' '))\n",
    "roc_df[round(roc_df['CutOff'], 2) == 0.5][['Model', 'TP', 'FP', 'FN', 'TN']].reset_index(drop = True)"
   ]
  },
  {
   "cell_type": "markdown",
   "metadata": {},
   "source": [
    "### ROC Curve"
   ]
  },
  {
   "cell_type": "code",
   "execution_count": 22,
   "metadata": {
    "collapsed": false
   },
   "outputs": [
    {
     "data": {
      "image/png": "[encoded data removed]",
      "text/plain": [
       "<matplotlib.figure.Figure at 0x7ff26e31b4e0>"
      ]
     },
     "metadata": {},
     "output_type": "display_data"
    }
   ],
   "source": [
    "# Plot ROC curve\n",
    "plt.figure(figsize = (7, 6))\n",
    "for key, grp in roc_df.groupby(['Model']):\n",
    "    plt.plot(grp['FPR'], grp['Sensitivity'], label = key + ' (C = %0.2f)' % grp['C'].mean())\n",
    "plt.plot([0,1], [0,1], 'k--')\n",
    "plt.xlabel('False Postivie Rate')\n",
    "plt.ylabel('True Positive Rate')\n",
    "plt.legend(loc = 'lower right')\n",
    "plt.title('ROC Curve (using validation data)');"
   ]
  },
  {
   "cell_type": "markdown",
   "metadata": {},
   "source": [
    "## End the session"
   ]
  },
  {
   "cell_type": "code",
   "execution_count": 23,
   "metadata": {
    "collapsed": false
   },
   "outputs": [
    {
     "data": {
      "text/html": [
       "<div class=\"cas-output-area\"></div>\n",
       "<p class=\"cas-results-performance\"><small><span class=\"cas-elapsed\">elapsed 0.0198s</span> &#183; <span class=\"cas-user\">user 0.002s</span> &#183; <span class=\"cas-sys\">sys 0.004s</span> &#183; <span class=\"cas-memory\">mem 0.109MB</span></small></p>"
      ],
      "text/plain": [
       "+ Elapsed: 0.0198s, user: 0.002s, sys: 0.004s, mem: 0.109mb"
      ]
     },
     "execution_count": 23,
     "metadata": {},
     "output_type": "execute_result"
    }
   ],
   "source": [
    "# End the session\n",
    "conn.endsession()"
   ]
  }
 ],
 "metadata": {
  "kernelspec": {
   "display_name": "Python 3",
   "language": "python",
   "name": "python3"
  },
  "language_info": {
   "codemirror_mode": {
    "name": "ipython",
    "version": 3
   },
   "file_extension": ".py",
   "mimetype": "text/x-python",
   "name": "python",
   "nbconvert_exporter": "python",
   "pygments_lexer": "ipython3",
   "version": "3.6.0"
  }
 },
 "nbformat": 4,
 "nbformat_minor": 2
}
