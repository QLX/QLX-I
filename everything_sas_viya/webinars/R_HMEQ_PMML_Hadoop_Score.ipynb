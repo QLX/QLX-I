{
 "cells": [
  {
   "cell_type": "markdown",
   "metadata": {},
   "source": [
    "## Score Model in Hadoop Published from Model Manager"
   ]
  },
  {
   "cell_type": "code",
   "execution_count": 1,
   "metadata": {
    "collapsed": false
   },
   "outputs": [
    {
     "name": "stdout",
     "output_type": "stream",
     "text": [
      "NOTE: Added action set 'modelpublishing'.\n",
      "NOTE: Running 'modelPublishing' action set with 3 workers.\n",
      "NOTE: SAS Embedded Process tracking URL: http://gtpviyaea22.unx.sas.com:8088/proxy/application_1523454812613_0380/\n",
      "NOTE: Job Status ......: SUCCEEDED\n",
      "NOTE: Job ID ..........: 1523454812613_380\n",
      "NOTE: Job Name ........: SASEP SuperReader DEFAULT.HMEQ\n",
      "NOTE: Tracking URL ....: http://gtpviyaea22.unx.sas.com:8088/proxy/application_1523454812613_0380/\n",
      "NOTE: File splits..... : 3\n",
      "NOTE: Input records ...: 5960\n",
      "NOTE: Input bytes .....: 575959\n",
      "NOTE: Output records ..: 5960\n",
      "NOTE: Output bytes ....: 1192000\n",
      "NOTE: Transcode errors : 0\n",
      "NOTE: Truncations .....: 0\n",
      "NOTE: Map Progress ....: 100.00%\n",
      "NOTE: Execution of model 'R_HMEQ' succeeded.\n"
     ]
    },
    {
     "data": {
      "text/html": [
       "<div class=\"cas-output-area\"></div>\n",
       "<p class=\"cas-results-performance\"><small><span class=\"cas-elapsed\">elapsed 25.7s</span> &#183; <span class=\"cas-user\">user 0.069s</span> &#183; <span class=\"cas-sys\">sys 0.147s</span> &#183; <span class=\"cas-memory\">mem 1.28MB</span></small></p>"
      ],
      "text/plain": [
       "+ Elapsed: 25.7s, user: 0.069s, sys: 0.147s, mem: 1.28mb"
      ]
     },
     "execution_count": 1,
     "metadata": {},
     "output_type": "execute_result"
    }
   ],
   "source": [
    "import swat\n",
    "conn = swat.CAS()\n",
    "conn.loadactionset('modelpublishing')\n",
    "conn.runmodelexternal(\n",
    "    externalOptions = dict(extType = 'hadoop', \n",
    "                           inTable = 'hmeq',\n",
    "                           outTable = 'mm_r_hmeq_scored',\n",
    "                           forceOverwrite = True,\n",
    "                           server = server,\n",
    "                           modelDir = modelDir,\n",
    "                           classpath = classpath),\n",
    "    modelName = 'r_hmeq',\n",
    ")"
   ]
  },
  {
   "cell_type": "markdown",
   "metadata": {},
   "source": [
    "## Verify Predictions Were Created"
   ]
  },
  {
   "cell_type": "code",
   "execution_count": 2,
   "metadata": {
    "collapsed": false
   },
   "outputs": [
    {
     "name": "stdout",
     "output_type": "stream",
     "text": [
      "NOTE: Performing parallel LoadTable action using SAS Data Connect Accelerator for Hadoop.\n",
      "NOTE: Cloud Analytic Services made the external data from mm_r_hmeq_scored available as table MM_R_HMEQ_SCORED in caslib CASUSERHDFS(jelueb).\n"
     ]
    },
    {
     "data": {
      "text/html": [
       "<div>\n",
       "<table border=\"1\" class=\"dataframe\"><caption>Selected Rows from Table MM_R_HMEQ_SCORED</caption>\n",
       "  <thead>\n",
       "    <tr style=\"text-align: right;\">\n",
       "      <th title=\"\"></th>\n",
       "      <th title=\"predicted_bad\">predicted_bad</th>\n",
       "      <th title=\"bad\">bad</th>\n",
       "      <th title=\"loan\">loan</th>\n",
       "      <th title=\"mortdue\">mortdue</th>\n",
       "      <th title=\"value\">value</th>\n",
       "      <th title=\"reason\">reason</th>\n",
       "      <th title=\"job\">job</th>\n",
       "      <th title=\"yoj\">yoj</th>\n",
       "      <th title=\"derog\">derog</th>\n",
       "      <th title=\"delinq\">delinq</th>\n",
       "      <th title=\"clage\">clage</th>\n",
       "      <th title=\"ninq\">ninq</th>\n",
       "      <th title=\"clno\">clno</th>\n",
       "      <th title=\"debtinc\">debtinc</th>\n",
       "      <th title=\"pscr_warn\">pscr_warn</th>\n",
       "      <th title=\"probability_0\">probability_0</th>\n",
       "      <th title=\"probability_1\">probability_1</th>\n",
       "    </tr>\n",
       "  </thead>\n",
       "  <tbody>\n",
       "    <tr>\n",
       "      <th>0</th>\n",
       "      <td>0</td>\n",
       "      <td>0.0</td>\n",
       "      <td>26800.0</td>\n",
       "      <td>46236.0</td>\n",
       "      <td>62711.0</td>\n",
       "      <td>DebtCon</td>\n",
       "      <td>Office</td>\n",
       "      <td>17.0</td>\n",
       "      <td>0.0</td>\n",
       "      <td>0.0</td>\n",
       "      <td>175.075058</td>\n",
       "      <td>1.0</td>\n",
       "      <td>22.0</td>\n",
       "      <td>33.059934</td>\n",
       "      <td>0.0</td>\n",
       "      <td>0.881349</td>\n",
       "      <td>0.118651</td>\n",
       "    </tr>\n",
       "    <tr>\n",
       "      <th>1</th>\n",
       "      <td>0</td>\n",
       "      <td>0.0</td>\n",
       "      <td>26800.0</td>\n",
       "      <td>35485.0</td>\n",
       "      <td>74949.0</td>\n",
       "      <td>DebtCon</td>\n",
       "      <td>Mgr</td>\n",
       "      <td>14.0</td>\n",
       "      <td>0.0</td>\n",
       "      <td>0.0</td>\n",
       "      <td>84.766625</td>\n",
       "      <td>5.0</td>\n",
       "      <td>15.0</td>\n",
       "      <td>36.191459</td>\n",
       "      <td>0.0</td>\n",
       "      <td>0.881349</td>\n",
       "      <td>0.118651</td>\n",
       "    </tr>\n",
       "    <tr>\n",
       "      <th>2</th>\n",
       "      <td>0</td>\n",
       "      <td>0.0</td>\n",
       "      <td>26800.0</td>\n",
       "      <td>145745.0</td>\n",
       "      <td>211400.0</td>\n",
       "      <td>HomeImp</td>\n",
       "      <td>ProfExe</td>\n",
       "      <td>6.0</td>\n",
       "      <td>0.0</td>\n",
       "      <td>0.0</td>\n",
       "      <td>184.711635</td>\n",
       "      <td>1.0</td>\n",
       "      <td>27.0</td>\n",
       "      <td>39.848391</td>\n",
       "      <td>0.0</td>\n",
       "      <td>0.881349</td>\n",
       "      <td>0.118651</td>\n",
       "    </tr>\n",
       "    <tr>\n",
       "      <th>3</th>\n",
       "      <td>0</td>\n",
       "      <td>0.0</td>\n",
       "      <td>26800.0</td>\n",
       "      <td>213165.0</td>\n",
       "      <td>282068.0</td>\n",
       "      <td>HomeImp</td>\n",
       "      <td>ProfExe</td>\n",
       "      <td>5.0</td>\n",
       "      <td>NaN</td>\n",
       "      <td>4.0</td>\n",
       "      <td>476.728281</td>\n",
       "      <td>NaN</td>\n",
       "      <td>55.0</td>\n",
       "      <td>31.181661</td>\n",
       "      <td>0.0</td>\n",
       "      <td>0.722892</td>\n",
       "      <td>0.277108</td>\n",
       "    </tr>\n",
       "    <tr>\n",
       "      <th>4</th>\n",
       "      <td>1</td>\n",
       "      <td>1.0</td>\n",
       "      <td>26800.0</td>\n",
       "      <td>138216.0</td>\n",
       "      <td>170052.0</td>\n",
       "      <td>DebtCon</td>\n",
       "      <td>ProfExe</td>\n",
       "      <td>10.0</td>\n",
       "      <td>0.0</td>\n",
       "      <td>0.0</td>\n",
       "      <td>199.738711</td>\n",
       "      <td>1.0</td>\n",
       "      <td>29.0</td>\n",
       "      <td>76.421478</td>\n",
       "      <td>0.0</td>\n",
       "      <td>0.000000</td>\n",
       "      <td>1.000000</td>\n",
       "    </tr>\n",
       "  </tbody>\n",
       "</table>\n",
       "</div>"
      ],
      "text/plain": [
       "Selected Rows from Table MM_R_HMEQ_SCORED\n",
       "\n",
       "  predicted_bad  bad     loan   mortdue     value   reason      job   yoj  \\\n",
       "0             0  0.0  26800.0   46236.0   62711.0  DebtCon   Office  17.0   \n",
       "1             0  0.0  26800.0   35485.0   74949.0  DebtCon      Mgr  14.0   \n",
       "2             0  0.0  26800.0  145745.0  211400.0  HomeImp  ProfExe   6.0   \n",
       "3             0  0.0  26800.0  213165.0  282068.0  HomeImp  ProfExe   5.0   \n",
       "4             1  1.0  26800.0  138216.0  170052.0  DebtCon  ProfExe  10.0   \n",
       "\n",
       "   derog  delinq       clage  ninq  clno    debtinc  pscr_warn  probability_0  \\\n",
       "0    0.0     0.0  175.075058   1.0  22.0  33.059934        0.0       0.881349   \n",
       "1    0.0     0.0   84.766625   5.0  15.0  36.191459        0.0       0.881349   \n",
       "2    0.0     0.0  184.711635   1.0  27.0  39.848391        0.0       0.881349   \n",
       "3    NaN     4.0  476.728281   NaN  55.0  31.181661        0.0       0.722892   \n",
       "4    0.0     0.0  199.738711   1.0  29.0  76.421478        0.0       0.000000   \n",
       "\n",
       "   probability_1  \n",
       "0       0.118651  \n",
       "1       0.118651  \n",
       "2       0.118651  \n",
       "3       0.277108  \n",
       "4       1.000000  "
      ]
     },
     "execution_count": 2,
     "metadata": {},
     "output_type": "execute_result"
    }
   ],
   "source": [
    "df_scored = conn.loadtable(caslib = 'hadoop', path = 'mm_r_hmeq_scored')['casTable']\n",
    "df_scored.head()"
   ]
  },
  {
   "cell_type": "code",
   "execution_count": 3,
   "metadata": {
    "collapsed": false
   },
   "outputs": [
    {
     "data": {
      "text/html": [
       "<div class=\"cas-output-area\"></div>\n",
       "<p class=\"cas-results-performance\"><small><span class=\"cas-elapsed\">elapsed 0.0201s</span> &#183; <span class=\"cas-user\">user 0.003s</span> &#183; <span class=\"cas-sys\">sys 0.008s</span> &#183; <span class=\"cas-memory\">mem 0.787MB</span></small></p>"
      ],
      "text/plain": [
       "+ Elapsed: 0.0201s, user: 0.003s, sys: 0.008s, mem: 0.787mb"
      ]
     },
     "execution_count": 3,
     "metadata": {},
     "output_type": "execute_result"
    }
   ],
   "source": [
    "conn.endsession()"
   ]
  }
 ],
 "metadata": {
  "kernelspec": {
   "display_name": "Python [Root]",
   "language": "python",
   "name": "Python [Root]"
  },
  "language_info": {
   "codemirror_mode": {
    "name": "ipython",
    "version": 3
   },
   "file_extension": ".py",
   "mimetype": "text/x-python",
   "name": "python",
   "nbconvert_exporter": "python",
   "pygments_lexer": "ipython3",
   "version": "3.5.2"
  }
 },
 "nbformat": 4,
 "nbformat_minor": 0
}
