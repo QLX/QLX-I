{
 "cells": [
  {
   "cell_type": "markdown",
   "metadata": {},
   "source": [
    "# XGBoost => Model Studio"
   ]
  },
  {
   "cell_type": "code",
   "execution_count": 1,
   "metadata": {
    "collapsed": false
   },
   "outputs": [
    {
     "data": {
      "text/html": [
       "<div>\n",
       "<table border=\"1\" class=\"dataframe\">\n",
       "  <thead>\n",
       "    <tr style=\"text-align: right;\">\n",
       "      <th></th>\n",
       "      <th>BAD</th>\n",
       "      <th>LOAN</th>\n",
       "      <th>MORTDUE</th>\n",
       "      <th>VALUE</th>\n",
       "      <th>REASON</th>\n",
       "      <th>JOB</th>\n",
       "      <th>YOJ</th>\n",
       "      <th>DEROG</th>\n",
       "      <th>DELINQ</th>\n",
       "      <th>CLAGE</th>\n",
       "      <th>NINQ</th>\n",
       "      <th>CLNO</th>\n",
       "      <th>DEBTINC</th>\n",
       "    </tr>\n",
       "  </thead>\n",
       "  <tbody>\n",
       "    <tr>\n",
       "      <th>0</th>\n",
       "      <td>1</td>\n",
       "      <td>1100</td>\n",
       "      <td>25860.0</td>\n",
       "      <td>39025.0</td>\n",
       "      <td>HomeImp</td>\n",
       "      <td>Other</td>\n",
       "      <td>10.5</td>\n",
       "      <td>0.0</td>\n",
       "      <td>0.0</td>\n",
       "      <td>94.366667</td>\n",
       "      <td>1.0</td>\n",
       "      <td>9.0</td>\n",
       "      <td>NaN</td>\n",
       "    </tr>\n",
       "    <tr>\n",
       "      <th>1</th>\n",
       "      <td>1</td>\n",
       "      <td>1300</td>\n",
       "      <td>70053.0</td>\n",
       "      <td>68400.0</td>\n",
       "      <td>HomeImp</td>\n",
       "      <td>Other</td>\n",
       "      <td>7.0</td>\n",
       "      <td>0.0</td>\n",
       "      <td>2.0</td>\n",
       "      <td>121.833333</td>\n",
       "      <td>0.0</td>\n",
       "      <td>14.0</td>\n",
       "      <td>NaN</td>\n",
       "    </tr>\n",
       "    <tr>\n",
       "      <th>2</th>\n",
       "      <td>1</td>\n",
       "      <td>1500</td>\n",
       "      <td>13500.0</td>\n",
       "      <td>16700.0</td>\n",
       "      <td>HomeImp</td>\n",
       "      <td>Other</td>\n",
       "      <td>4.0</td>\n",
       "      <td>0.0</td>\n",
       "      <td>0.0</td>\n",
       "      <td>149.466667</td>\n",
       "      <td>1.0</td>\n",
       "      <td>10.0</td>\n",
       "      <td>NaN</td>\n",
       "    </tr>\n",
       "    <tr>\n",
       "      <th>3</th>\n",
       "      <td>1</td>\n",
       "      <td>1500</td>\n",
       "      <td>NaN</td>\n",
       "      <td>NaN</td>\n",
       "      <td>NaN</td>\n",
       "      <td>NaN</td>\n",
       "      <td>NaN</td>\n",
       "      <td>NaN</td>\n",
       "      <td>NaN</td>\n",
       "      <td>NaN</td>\n",
       "      <td>NaN</td>\n",
       "      <td>NaN</td>\n",
       "      <td>NaN</td>\n",
       "    </tr>\n",
       "    <tr>\n",
       "      <th>4</th>\n",
       "      <td>0</td>\n",
       "      <td>1700</td>\n",
       "      <td>97800.0</td>\n",
       "      <td>112000.0</td>\n",
       "      <td>HomeImp</td>\n",
       "      <td>Office</td>\n",
       "      <td>3.0</td>\n",
       "      <td>0.0</td>\n",
       "      <td>0.0</td>\n",
       "      <td>93.333333</td>\n",
       "      <td>0.0</td>\n",
       "      <td>14.0</td>\n",
       "      <td>NaN</td>\n",
       "    </tr>\n",
       "  </tbody>\n",
       "</table>\n",
       "</div>"
      ],
      "text/plain": [
       "   BAD  LOAN  MORTDUE     VALUE   REASON     JOB   YOJ  DEROG  DELINQ  \\\n",
       "0    1  1100  25860.0   39025.0  HomeImp   Other  10.5    0.0     0.0   \n",
       "1    1  1300  70053.0   68400.0  HomeImp   Other   7.0    0.0     2.0   \n",
       "2    1  1500  13500.0   16700.0  HomeImp   Other   4.0    0.0     0.0   \n",
       "3    1  1500      NaN       NaN      NaN     NaN   NaN    NaN     NaN   \n",
       "4    0  1700  97800.0  112000.0  HomeImp  Office   3.0    0.0     0.0   \n",
       "\n",
       "        CLAGE  NINQ  CLNO  DEBTINC  \n",
       "0   94.366667   1.0   9.0      NaN  \n",
       "1  121.833333   0.0  14.0      NaN  \n",
       "2  149.466667   1.0  10.0      NaN  \n",
       "3         NaN   NaN   NaN      NaN  \n",
       "4   93.333333   0.0  14.0      NaN  "
      ]
     },
     "execution_count": 1,
     "metadata": {},
     "output_type": "execute_result"
    }
   ],
   "source": [
    "import pandas as pd\n",
    "from sklearn.model_selection import StratifiedShuffleSplit\n",
    "from sklearn.metrics import accuracy_score\n",
    "from xgboost import XGBClassifier\n",
    "\n",
    "df = pd.read_csv('http://support.sas.com/documentation/onlinedoc/viya/exampledatasets/hmeq.csv')\n",
    "df.head()"
   ]
  },
  {
   "cell_type": "markdown",
   "metadata": {},
   "source": [
    "## Handle categorical data"
   ]
  },
  {
   "cell_type": "code",
   "execution_count": 2,
   "metadata": {
    "collapsed": false
   },
   "outputs": [
    {
     "data": {
      "text/html": [
       "<div>\n",
       "<table border=\"1\" class=\"dataframe\">\n",
       "  <thead>\n",
       "    <tr style=\"text-align: right;\">\n",
       "      <th></th>\n",
       "      <th>BAD</th>\n",
       "      <th>LOAN</th>\n",
       "      <th>MORTDUE</th>\n",
       "      <th>VALUE</th>\n",
       "      <th>YOJ</th>\n",
       "      <th>DEROG</th>\n",
       "      <th>DELINQ</th>\n",
       "      <th>CLAGE</th>\n",
       "      <th>NINQ</th>\n",
       "      <th>CLNO</th>\n",
       "      <th>DEBTINC</th>\n",
       "      <th>REASON_DebtCon</th>\n",
       "      <th>REASON_HomeImp</th>\n",
       "      <th>JOB_Mgr</th>\n",
       "      <th>JOB_Office</th>\n",
       "      <th>JOB_Other</th>\n",
       "      <th>JOB_ProfExe</th>\n",
       "      <th>JOB_Sales</th>\n",
       "      <th>JOB_Self</th>\n",
       "    </tr>\n",
       "  </thead>\n",
       "  <tbody>\n",
       "    <tr>\n",
       "      <th>0</th>\n",
       "      <td>1</td>\n",
       "      <td>1100</td>\n",
       "      <td>25860.0</td>\n",
       "      <td>39025.0</td>\n",
       "      <td>10.5</td>\n",
       "      <td>0.0</td>\n",
       "      <td>0.0</td>\n",
       "      <td>94.366667</td>\n",
       "      <td>1.0</td>\n",
       "      <td>9.0</td>\n",
       "      <td>NaN</td>\n",
       "      <td>0</td>\n",
       "      <td>1</td>\n",
       "      <td>0</td>\n",
       "      <td>0</td>\n",
       "      <td>1</td>\n",
       "      <td>0</td>\n",
       "      <td>0</td>\n",
       "      <td>0</td>\n",
       "    </tr>\n",
       "    <tr>\n",
       "      <th>1</th>\n",
       "      <td>1</td>\n",
       "      <td>1300</td>\n",
       "      <td>70053.0</td>\n",
       "      <td>68400.0</td>\n",
       "      <td>7.0</td>\n",
       "      <td>0.0</td>\n",
       "      <td>2.0</td>\n",
       "      <td>121.833333</td>\n",
       "      <td>0.0</td>\n",
       "      <td>14.0</td>\n",
       "      <td>NaN</td>\n",
       "      <td>0</td>\n",
       "      <td>1</td>\n",
       "      <td>0</td>\n",
       "      <td>0</td>\n",
       "      <td>1</td>\n",
       "      <td>0</td>\n",
       "      <td>0</td>\n",
       "      <td>0</td>\n",
       "    </tr>\n",
       "    <tr>\n",
       "      <th>2</th>\n",
       "      <td>1</td>\n",
       "      <td>1500</td>\n",
       "      <td>13500.0</td>\n",
       "      <td>16700.0</td>\n",
       "      <td>4.0</td>\n",
       "      <td>0.0</td>\n",
       "      <td>0.0</td>\n",
       "      <td>149.466667</td>\n",
       "      <td>1.0</td>\n",
       "      <td>10.0</td>\n",
       "      <td>NaN</td>\n",
       "      <td>0</td>\n",
       "      <td>1</td>\n",
       "      <td>0</td>\n",
       "      <td>0</td>\n",
       "      <td>1</td>\n",
       "      <td>0</td>\n",
       "      <td>0</td>\n",
       "      <td>0</td>\n",
       "    </tr>\n",
       "    <tr>\n",
       "      <th>3</th>\n",
       "      <td>1</td>\n",
       "      <td>1500</td>\n",
       "      <td>NaN</td>\n",
       "      <td>NaN</td>\n",
       "      <td>NaN</td>\n",
       "      <td>NaN</td>\n",
       "      <td>NaN</td>\n",
       "      <td>NaN</td>\n",
       "      <td>NaN</td>\n",
       "      <td>NaN</td>\n",
       "      <td>NaN</td>\n",
       "      <td>0</td>\n",
       "      <td>0</td>\n",
       "      <td>0</td>\n",
       "      <td>0</td>\n",
       "      <td>0</td>\n",
       "      <td>0</td>\n",
       "      <td>0</td>\n",
       "      <td>0</td>\n",
       "    </tr>\n",
       "    <tr>\n",
       "      <th>4</th>\n",
       "      <td>0</td>\n",
       "      <td>1700</td>\n",
       "      <td>97800.0</td>\n",
       "      <td>112000.0</td>\n",
       "      <td>3.0</td>\n",
       "      <td>0.0</td>\n",
       "      <td>0.0</td>\n",
       "      <td>93.333333</td>\n",
       "      <td>0.0</td>\n",
       "      <td>14.0</td>\n",
       "      <td>NaN</td>\n",
       "      <td>0</td>\n",
       "      <td>1</td>\n",
       "      <td>0</td>\n",
       "      <td>1</td>\n",
       "      <td>0</td>\n",
       "      <td>0</td>\n",
       "      <td>0</td>\n",
       "      <td>0</td>\n",
       "    </tr>\n",
       "  </tbody>\n",
       "</table>\n",
       "</div>"
      ],
      "text/plain": [
       "   BAD  LOAN  MORTDUE     VALUE   YOJ  DEROG  DELINQ       CLAGE  NINQ  CLNO  \\\n",
       "0    1  1100  25860.0   39025.0  10.5    0.0     0.0   94.366667   1.0   9.0   \n",
       "1    1  1300  70053.0   68400.0   7.0    0.0     2.0  121.833333   0.0  14.0   \n",
       "2    1  1500  13500.0   16700.0   4.0    0.0     0.0  149.466667   1.0  10.0   \n",
       "3    1  1500      NaN       NaN   NaN    NaN     NaN         NaN   NaN   NaN   \n",
       "4    0  1700  97800.0  112000.0   3.0    0.0     0.0   93.333333   0.0  14.0   \n",
       "\n",
       "   DEBTINC  REASON_DebtCon  REASON_HomeImp  JOB_Mgr  JOB_Office  JOB_Other  \\\n",
       "0      NaN               0               1        0           0          1   \n",
       "1      NaN               0               1        0           0          1   \n",
       "2      NaN               0               1        0           0          1   \n",
       "3      NaN               0               0        0           0          0   \n",
       "4      NaN               0               1        0           1          0   \n",
       "\n",
       "   JOB_ProfExe  JOB_Sales  JOB_Self  \n",
       "0            0          0         0  \n",
       "1            0          0         0  \n",
       "2            0          0         0  \n",
       "3            0          0         0  \n",
       "4            0          0         0  "
      ]
     },
     "execution_count": 2,
     "metadata": {},
     "output_type": "execute_result"
    }
   ],
   "source": [
    "# One-hot encode character variables\n",
    "dtypes = df.dtypes\n",
    "nominals = dtypes[dtypes=='object'].keys().tolist()\n",
    "df = pd.concat([df, pd.get_dummies(df[nominals])], axis = 1).drop(nominals, axis = 1)\n",
    "df.head()"
   ]
  },
  {
   "cell_type": "markdown",
   "metadata": {},
   "source": [
    "## Split into training and validation"
   ]
  },
  {
   "cell_type": "code",
   "execution_count": 3,
   "metadata": {
    "collapsed": false
   },
   "outputs": [],
   "source": [
    "# Create partition indicator (70/30 split)\n",
    "target = 'BAD'\n",
    "stratification = list(StratifiedShuffleSplit(n_splits = 1, test_size = 0.3, random_state = 1234).split(df, df[target]))\n",
    "df['_PartInd_'] = df.index.isin(stratification[0][0]).astype(int)\n",
    "\n",
    "# Inputs for prediction\n",
    "X = df.iloc[:,1:-1]\n",
    "\n",
    "# Training inputs\n",
    "train = df[df['_PartInd_'] == 1]\n",
    "X_train = train.iloc[:,1:-1]\n",
    "y_train = train.iloc[:,0]"
   ]
  },
  {
   "cell_type": "markdown",
   "metadata": {},
   "source": [
    "## Fit and predict XGBoost model"
   ]
  },
  {
   "cell_type": "code",
   "execution_count": 4,
   "metadata": {
    "collapsed": false
   },
   "outputs": [
    {
     "name": "stdout",
     "output_type": "stream",
     "text": [
      "Misclassification Rate: 0.0912 \n",
      "\n"
     ]
    },
    {
     "data": {
      "text/html": [
       "<div>\n",
       "<table border=\"1\" class=\"dataframe\">\n",
       "  <thead>\n",
       "    <tr style=\"text-align: right;\">\n",
       "      <th></th>\n",
       "      <th>BAD</th>\n",
       "      <th>LOAN</th>\n",
       "      <th>MORTDUE</th>\n",
       "      <th>VALUE</th>\n",
       "      <th>YOJ</th>\n",
       "      <th>DEROG</th>\n",
       "      <th>DELINQ</th>\n",
       "      <th>CLAGE</th>\n",
       "      <th>NINQ</th>\n",
       "      <th>CLNO</th>\n",
       "      <th>...</th>\n",
       "      <th>REASON_HomeImp</th>\n",
       "      <th>JOB_Mgr</th>\n",
       "      <th>JOB_Office</th>\n",
       "      <th>JOB_Other</th>\n",
       "      <th>JOB_ProfExe</th>\n",
       "      <th>JOB_Sales</th>\n",
       "      <th>JOB_Self</th>\n",
       "      <th>_PartInd_</th>\n",
       "      <th>P_BAD1</th>\n",
       "      <th>P_BAD0</th>\n",
       "    </tr>\n",
       "  </thead>\n",
       "  <tbody>\n",
       "    <tr>\n",
       "      <th>0</th>\n",
       "      <td>1</td>\n",
       "      <td>1100</td>\n",
       "      <td>25860.0</td>\n",
       "      <td>39025.0</td>\n",
       "      <td>10.5</td>\n",
       "      <td>0.0</td>\n",
       "      <td>0.0</td>\n",
       "      <td>94.366667</td>\n",
       "      <td>1.0</td>\n",
       "      <td>9.0</td>\n",
       "      <td>...</td>\n",
       "      <td>1</td>\n",
       "      <td>0</td>\n",
       "      <td>0</td>\n",
       "      <td>1</td>\n",
       "      <td>0</td>\n",
       "      <td>0</td>\n",
       "      <td>0</td>\n",
       "      <td>0</td>\n",
       "      <td>0.854603</td>\n",
       "      <td>0.145397</td>\n",
       "    </tr>\n",
       "    <tr>\n",
       "      <th>1</th>\n",
       "      <td>1</td>\n",
       "      <td>1300</td>\n",
       "      <td>70053.0</td>\n",
       "      <td>68400.0</td>\n",
       "      <td>7.0</td>\n",
       "      <td>0.0</td>\n",
       "      <td>2.0</td>\n",
       "      <td>121.833333</td>\n",
       "      <td>0.0</td>\n",
       "      <td>14.0</td>\n",
       "      <td>...</td>\n",
       "      <td>1</td>\n",
       "      <td>0</td>\n",
       "      <td>0</td>\n",
       "      <td>1</td>\n",
       "      <td>0</td>\n",
       "      <td>0</td>\n",
       "      <td>0</td>\n",
       "      <td>1</td>\n",
       "      <td>0.866406</td>\n",
       "      <td>0.133594</td>\n",
       "    </tr>\n",
       "    <tr>\n",
       "      <th>2</th>\n",
       "      <td>1</td>\n",
       "      <td>1500</td>\n",
       "      <td>13500.0</td>\n",
       "      <td>16700.0</td>\n",
       "      <td>4.0</td>\n",
       "      <td>0.0</td>\n",
       "      <td>0.0</td>\n",
       "      <td>149.466667</td>\n",
       "      <td>1.0</td>\n",
       "      <td>10.0</td>\n",
       "      <td>...</td>\n",
       "      <td>1</td>\n",
       "      <td>0</td>\n",
       "      <td>0</td>\n",
       "      <td>1</td>\n",
       "      <td>0</td>\n",
       "      <td>0</td>\n",
       "      <td>0</td>\n",
       "      <td>0</td>\n",
       "      <td>0.909950</td>\n",
       "      <td>0.090050</td>\n",
       "    </tr>\n",
       "    <tr>\n",
       "      <th>3</th>\n",
       "      <td>1</td>\n",
       "      <td>1500</td>\n",
       "      <td>NaN</td>\n",
       "      <td>NaN</td>\n",
       "      <td>NaN</td>\n",
       "      <td>NaN</td>\n",
       "      <td>NaN</td>\n",
       "      <td>NaN</td>\n",
       "      <td>NaN</td>\n",
       "      <td>NaN</td>\n",
       "      <td>...</td>\n",
       "      <td>0</td>\n",
       "      <td>0</td>\n",
       "      <td>0</td>\n",
       "      <td>0</td>\n",
       "      <td>0</td>\n",
       "      <td>0</td>\n",
       "      <td>0</td>\n",
       "      <td>1</td>\n",
       "      <td>0.808513</td>\n",
       "      <td>0.191487</td>\n",
       "    </tr>\n",
       "    <tr>\n",
       "      <th>4</th>\n",
       "      <td>0</td>\n",
       "      <td>1700</td>\n",
       "      <td>97800.0</td>\n",
       "      <td>112000.0</td>\n",
       "      <td>3.0</td>\n",
       "      <td>0.0</td>\n",
       "      <td>0.0</td>\n",
       "      <td>93.333333</td>\n",
       "      <td>0.0</td>\n",
       "      <td>14.0</td>\n",
       "      <td>...</td>\n",
       "      <td>1</td>\n",
       "      <td>0</td>\n",
       "      <td>1</td>\n",
       "      <td>0</td>\n",
       "      <td>0</td>\n",
       "      <td>0</td>\n",
       "      <td>0</td>\n",
       "      <td>1</td>\n",
       "      <td>0.359471</td>\n",
       "      <td>0.640529</td>\n",
       "    </tr>\n",
       "  </tbody>\n",
       "</table>\n",
       "<p>5 rows × 22 columns</p>\n",
       "</div>"
      ],
      "text/plain": [
       "   BAD  LOAN  MORTDUE     VALUE   YOJ  DEROG  DELINQ       CLAGE  NINQ  CLNO  \\\n",
       "0    1  1100  25860.0   39025.0  10.5    0.0     0.0   94.366667   1.0   9.0   \n",
       "1    1  1300  70053.0   68400.0   7.0    0.0     2.0  121.833333   0.0  14.0   \n",
       "2    1  1500  13500.0   16700.0   4.0    0.0     0.0  149.466667   1.0  10.0   \n",
       "3    1  1500      NaN       NaN   NaN    NaN     NaN         NaN   NaN   NaN   \n",
       "4    0  1700  97800.0  112000.0   3.0    0.0     0.0   93.333333   0.0  14.0   \n",
       "\n",
       "     ...     REASON_HomeImp  JOB_Mgr  JOB_Office  JOB_Other  JOB_ProfExe  \\\n",
       "0    ...                  1        0           0          1            0   \n",
       "1    ...                  1        0           0          1            0   \n",
       "2    ...                  1        0           0          1            0   \n",
       "3    ...                  0        0           0          0            0   \n",
       "4    ...                  1        0           1          0            0   \n",
       "\n",
       "   JOB_Sales  JOB_Self  _PartInd_    P_BAD1    P_BAD0  \n",
       "0          0         0          0  0.854603  0.145397  \n",
       "1          0         0          1  0.866406  0.133594  \n",
       "2          0         0          0  0.909950  0.090050  \n",
       "3          0         0          1  0.808513  0.191487  \n",
       "4          0         0          1  0.359471  0.640529  \n",
       "\n",
       "[5 rows x 22 columns]"
      ]
     },
     "execution_count": 4,
     "metadata": {},
     "output_type": "execute_result"
    }
   ],
   "source": [
    "# Fit XGBoost model\n",
    "model = XGBClassifier()\n",
    "model.fit(X_train, y_train)\n",
    "\n",
    "# Find Misclassification rate\n",
    "valid = df[df['_PartInd_'] == 0]\n",
    "print('Misclassification Rate:', \"%.4f\" % round(1 - accuracy_score(valid.iloc[:,0], model.predict(valid.iloc[:,1:-1])), 4), '\\n')\n",
    "\n",
    "# Predict and create new columns\n",
    "tmp = model.predict_proba(X)\n",
    "df['P_' + target + '1'] = tmp[:,1]\n",
    "df['P_' + target + '0'] = tmp[:,0]\n",
    "df.head()"
   ]
  },
  {
   "cell_type": "markdown",
   "metadata": {},
   "source": [
    "## Upload results to CAS"
   ]
  },
  {
   "cell_type": "code",
   "execution_count": 5,
   "metadata": {
    "collapsed": false
   },
   "outputs": [
    {
     "name": "stdout",
     "output_type": "stream",
     "text": [
      "NOTE: Cloud Analytic Services made the uploaded file available as table HMEQ_XGBOOST in caslib public.\n",
      "NOTE: The table HMEQ_XGBOOST has been created in caslib public from binary data uploaded to Cloud Analytic Services.\n"
     ]
    },
    {
     "data": {
      "text/html": [
       "<div class=\"cas-output-area\"></div>\n",
       "<p class=\"cas-results-performance\"><small><span class=\"cas-elapsed\">elapsed 0.0107s</span> &#183; <span class=\"cas-user\">user 0.003s</span> &#183; <span class=\"cas-sys\">sys 0.005s</span> &#183; <span class=\"cas-memory\">mem 0.796MB</span></small></p>"
      ],
      "text/plain": [
       "+ Elapsed: 0.0107s, user: 0.003s, sys: 0.005s, mem: 0.796mb"
      ]
     },
     "execution_count": 5,
     "metadata": {},
     "output_type": "execute_result"
    }
   ],
   "source": [
    "import swat\n",
    "conn = swat.CAS()\n",
    "conn.upload_frame(df, casout = dict(name = 'hmeq_xgboost', caslib = 'public', promote = True))\n",
    "conn.endsession()"
   ]
  }
 ],
 "metadata": {
  "anaconda-cloud": {},
  "kernelspec": {
   "display_name": "Python [Root]",
   "language": "python",
   "name": "Python [Root]"
  },
  "language_info": {
   "codemirror_mode": {
    "name": "ipython",
    "version": 3
   },
   "file_extension": ".py",
   "mimetype": "text/x-python",
   "name": "python",
   "nbconvert_exporter": "python",
   "pygments_lexer": "ipython3",
   "version": "3.5.2"
  },
  "nbpresent": {
   "slides": {
    "030bd4f0-cc10-4f7d-b57c-a9fabae235ea": {
     "id": "030bd4f0-cc10-4f7d-b57c-a9fabae235ea",
     "prev": "0a186647-1c1e-4155-baee-f6444fa594eb",
     "regions": {
      "90c1426b-39af-47ab-8690-1f9f8f82c895": {
       "attrs": {
        "height": 0.8,
        "width": 0.8,
        "x": 0.1,
        "y": 0.1
       },
       "content": {
        "cell": "23161e84-52d8-4f55-92cd-696b151c5b45",
        "part": "whole"
       },
       "id": "90c1426b-39af-47ab-8690-1f9f8f82c895"
      }
     }
    },
    "06f0ceb0-a5bf-4c4d-9d3d-06c30d31c2ed": {
     "id": "06f0ceb0-a5bf-4c4d-9d3d-06c30d31c2ed",
     "prev": "3941b7e7-7329-419f-ba1d-ae19a0a441df",
     "regions": {
      "98250a28-84df-47ae-b0e1-56df785edab4": {
       "attrs": {
        "height": 0.8,
        "width": 0.8,
        "x": 0.1,
        "y": 0.1
       },
       "content": {
        "cell": "e41c723f-4128-490f-a10e-041f3c4c1178",
        "part": "whole"
       },
       "id": "98250a28-84df-47ae-b0e1-56df785edab4"
      },
      "c94b85e4-7131-47a0-9a1c-f191bcb43c6c": {
       "attrs": {
        "height": 0.4,
        "width": 0.8,
        "x": 0.1,
        "y": 0.5
       },
       "content": {
        "cell": "7e7f00e3-94ff-45eb-8010-e850782378f7",
        "part": "whole"
       },
       "id": "c94b85e4-7131-47a0-9a1c-f191bcb43c6c"
      }
     }
    },
    "0a186647-1c1e-4155-baee-f6444fa594eb": {
     "id": "0a186647-1c1e-4155-baee-f6444fa594eb",
     "prev": "1569c5c1-f125-49e0-b130-2da7206af93c",
     "regions": {
      "56d8a7ae-3206-4d1a-a8d3-ded42fb4cf55": {
       "attrs": {
        "height": 0.8,
        "width": 0.8,
        "x": 0.1,
        "y": 0.1
       },
       "content": null,
       "id": "56d8a7ae-3206-4d1a-a8d3-ded42fb4cf55"
      }
     }
    },
    "1569c5c1-f125-49e0-b130-2da7206af93c": {
     "id": "1569c5c1-f125-49e0-b130-2da7206af93c",
     "prev": null,
     "regions": {
      "d147245f-45ce-455f-a865-9a89d442236c": {
       "attrs": {
        "height": 0.8,
        "width": 0.8,
        "x": 0.1,
        "y": 0.1
       },
       "content": {
        "cell": "443b3b11-c92f-4c66-8731-8044813742c0",
        "part": "whole"
       },
       "id": "d147245f-45ce-455f-a865-9a89d442236c"
      }
     }
    },
    "193db271-de91-429f-b9ef-660acf5e3503": {
     "id": "193db271-de91-429f-b9ef-660acf5e3503",
     "prev": "e0bab9f9-020a-40a7-9536-c62d4a8fa315",
     "regions": {
      "094880cf-2d01-4c35-a028-e209d5e4590a": {
       "attrs": {
        "height": 0.4,
        "width": 0.8,
        "x": 0.1,
        "y": 0.5
       },
       "content": {
        "cell": "1fdacafc-5783-44c3-ad7f-4752633ae23b",
        "part": "whole"
       },
       "id": "094880cf-2d01-4c35-a028-e209d5e4590a"
      },
      "299de44e-15ce-4814-b439-72eb4401ac06": {
       "attrs": {
        "height": 0.8,
        "width": 0.8,
        "x": 0.1,
        "y": 0.1
       },
       "content": {
        "cell": "01cd068f-7c36-430c-9ea3-35d5e8a9cde7",
        "part": "whole"
       },
       "id": "299de44e-15ce-4814-b439-72eb4401ac06"
      }
     }
    },
    "3941b7e7-7329-419f-ba1d-ae19a0a441df": {
     "id": "3941b7e7-7329-419f-ba1d-ae19a0a441df",
     "prev": "e0e60236-1984-4d0d-b2c8-106c894bd86e",
     "regions": {
      "06ed1f87-7f84-427a-8bd7-cce8e07e459e": {
       "attrs": {
        "height": 0.4,
        "width": 0.8,
        "x": 0.1,
        "y": 0.5
       },
       "content": {
        "cell": "d6d741fd-13e0-479d-b9fa-d66e45004266",
        "part": "whole"
       },
       "id": "06ed1f87-7f84-427a-8bd7-cce8e07e459e"
      },
      "906ce82b-6448-4ff8-b6dc-20ad46b5634f": {
       "attrs": {
        "height": 0.8,
        "width": 0.8,
        "x": 0.1,
        "y": 0.1
       },
       "content": {
        "cell": "9a07405c-9de4-4f27-942e-8184d4db7f64",
        "part": "whole"
       },
       "id": "906ce82b-6448-4ff8-b6dc-20ad46b5634f"
      },
      "b888d4ea-e583-4e60-8f09-c4e4f0e1e08a": {
       "attrs": {
        "height": 0.4,
        "width": 0.8,
        "x": 0.1,
        "y": 0.5
       },
       "content": {
        "cell": "a1d73e11-1c9e-4655-9210-b9024f5c58d4",
        "part": "whole"
       },
       "id": "b888d4ea-e583-4e60-8f09-c4e4f0e1e08a"
      }
     }
    },
    "57dd84fc-cd21-494e-b068-5c600f2d2456": {
     "id": "57dd84fc-cd21-494e-b068-5c600f2d2456",
     "prev": "652e4030-84b6-415b-a48e-cc6144f3771d",
     "regions": {
      "798ec311-bc2c-4fe5-9353-ff0aa2c80f98": {
       "attrs": {
        "height": 0.4,
        "width": 0.8,
        "x": 0.1,
        "y": 0.5
       },
       "content": {
        "cell": "cf155931-7c71-49da-abc5-9a4db77bec4a",
        "part": "whole"
       },
       "id": "798ec311-bc2c-4fe5-9353-ff0aa2c80f98"
      },
      "94b2646d-db70-4c06-9bda-f992e691ec39": {
       "attrs": {
        "height": 0.8,
        "width": 0.8,
        "x": 0.1,
        "y": 0.1
       },
       "content": {
        "cell": "fdc4e4b3-a0d2-4daa-9275-05bda7f54f4f",
        "part": "whole"
       },
       "id": "94b2646d-db70-4c06-9bda-f992e691ec39"
      }
     }
    },
    "652e4030-84b6-415b-a48e-cc6144f3771d": {
     "id": "652e4030-84b6-415b-a48e-cc6144f3771d",
     "prev": "a9ac6c5f-446c-4380-b530-677808ca4ca2",
     "regions": {
      "1dbd495a-9f45-42fa-8ae4-70a9a0618e90": {
       "attrs": {
        "height": 0.8,
        "width": 0.8,
        "x": 0.1,
        "y": 0.1
       },
       "content": {
        "cell": "0ec3114b-8ac6-402b-bb7c-04a3449b1fdb",
        "part": "whole"
       },
       "id": "1dbd495a-9f45-42fa-8ae4-70a9a0618e90"
      },
      "f28a0d9c-55bf-4b0f-bc03-2bf84b64323f": {
       "attrs": {
        "height": 0.4,
        "width": 0.8,
        "x": 0.1,
        "y": 0.5
       },
       "content": {
        "cell": "2191d3a8-741c-4064-868b-47aa3fe4b929",
        "part": "whole"
       },
       "id": "f28a0d9c-55bf-4b0f-bc03-2bf84b64323f"
      },
      "fc5d8310-05cf-478b-bb4e-bdcdce7b67cf": {
       "attrs": {
        "height": 0.4,
        "width": 0.8,
        "x": 0.1,
        "y": 0.5
       },
       "content": {
        "cell": "889d11ae-9c41-48d6-a64a-bdc569efdc8c",
        "part": "whole"
       },
       "id": "fc5d8310-05cf-478b-bb4e-bdcdce7b67cf"
      }
     }
    },
    "787db817-0ae7-4a99-9ac4-1c66978c4385": {
     "id": "787db817-0ae7-4a99-9ac4-1c66978c4385",
     "prev": "193db271-de91-429f-b9ef-660acf5e3503",
     "regions": {
      "ac2f4765-43f4-465d-be19-6286c2e0edfa": {
       "attrs": {
        "height": 0.4,
        "width": 0.8,
        "x": 0.1,
        "y": 0.5
       },
       "content": {
        "cell": "21bb57d1-0d13-49ae-8d41-37dd5883e9dd",
        "part": "whole"
       },
       "id": "ac2f4765-43f4-465d-be19-6286c2e0edfa"
      },
      "df81957e-bdd6-41bf-ba63-8d4ad8b17f28": {
       "attrs": {
        "height": 0.8,
        "width": 0.8,
        "x": 0.1,
        "y": 0.1
       },
       "content": {
        "cell": "4a9c06c6-461f-46d9-ac1d-019ba1d779ad",
        "part": "whole"
       },
       "id": "df81957e-bdd6-41bf-ba63-8d4ad8b17f28"
      }
     }
    },
    "903077e7-efe7-4c84-bca4-69d064f829ae": {
     "id": "903077e7-efe7-4c84-bca4-69d064f829ae",
     "prev": "9dade49e-03e5-4433-afcd-5cd51ff4caa0",
     "regions": {
      "1a648e78-1b52-4c91-b501-5ff4a42e3363": {
       "attrs": {
        "height": 0.8,
        "width": 0.8,
        "x": 0.1,
        "y": 0.1
       },
       "content": {
        "cell": "830de82c-9ad0-4d32-b0cb-2e9d6197ef00",
        "part": "whole"
       },
       "id": "1a648e78-1b52-4c91-b501-5ff4a42e3363"
      },
      "387a96e6-1771-4214-bf91-04e7e2fc43a0": {
       "attrs": {
        "height": 0.4,
        "width": 0.8,
        "x": 0.1,
        "y": 0.5
       },
       "content": {
        "cell": "4fc057e8-737a-4209-8f5d-0b9f1c2847c5",
        "part": "whole"
       },
       "id": "387a96e6-1771-4214-bf91-04e7e2fc43a0"
      }
     }
    },
    "9dade49e-03e5-4433-afcd-5cd51ff4caa0": {
     "id": "9dade49e-03e5-4433-afcd-5cd51ff4caa0",
     "prev": "787db817-0ae7-4a99-9ac4-1c66978c4385",
     "regions": {
      "907b005e-b91e-4d6f-8b59-9a0900b1a7db": {
       "attrs": {
        "height": 0.8,
        "width": 0.8,
        "x": 0.1,
        "y": 0.1
       },
       "content": {
        "cell": "4efa5030-de17-49ce-ab52-d74ead65b25e",
        "part": "whole"
       },
       "id": "907b005e-b91e-4d6f-8b59-9a0900b1a7db"
      },
      "fa512459-b7b8-4c5e-94b5-5412a32f0b3d": {
       "attrs": {
        "height": 0.4,
        "width": 0.8,
        "x": 0.1,
        "y": 0.5
       },
       "content": {
        "cell": "96123696-1a29-4a94-ae88-987c80634701",
        "part": "whole"
       },
       "id": "fa512459-b7b8-4c5e-94b5-5412a32f0b3d"
      }
     }
    },
    "a9ac6c5f-446c-4380-b530-677808ca4ca2": {
     "id": "a9ac6c5f-446c-4380-b530-677808ca4ca2",
     "prev": "903077e7-efe7-4c84-bca4-69d064f829ae",
     "regions": {
      "58ee868b-7a07-4b4d-aade-7aa5b0a51a19": {
       "attrs": {
        "height": 0.4,
        "width": 0.8,
        "x": 0.1,
        "y": 0.5
       },
       "content": {
        "cell": "18aa0394-3bfb-4fad-8b91-fc0fef852a2b",
        "part": "whole"
       },
       "id": "58ee868b-7a07-4b4d-aade-7aa5b0a51a19"
      },
      "e9942074-1132-4794-ba92-d8fef2dd5d45": {
       "attrs": {
        "height": 0.8,
        "width": 0.8,
        "x": 0.1,
        "y": 0.1
       },
       "content": {
        "cell": "527898bc-6c07-43a3-81cf-6a5dceb4cd91",
        "part": "whole"
       },
       "id": "e9942074-1132-4794-ba92-d8fef2dd5d45"
      }
     }
    },
    "e0bab9f9-020a-40a7-9536-c62d4a8fa315": {
     "id": "e0bab9f9-020a-40a7-9536-c62d4a8fa315",
     "prev": "f6dc6d41-3400-4cd7-829f-0c6f43968cd9",
     "regions": {
      "4058fd19-1d57-4e91-bdb7-619a31136564": {
       "attrs": {
        "height": 0.4,
        "width": 0.8,
        "x": 0.1,
        "y": 0.5
       },
       "content": {
        "cell": "f613ed8e-de90-4ada-ac8f-76cd75385bfd",
        "part": "whole"
       },
       "id": "4058fd19-1d57-4e91-bdb7-619a31136564"
      },
      "5312a1ca-524c-49ee-b4a6-eb700d405787": {
       "attrs": {
        "height": 0.8,
        "width": 0.8,
        "x": 0.1,
        "y": 0.1
       },
       "content": {
        "cell": "78b70fb9-46bd-4463-a8b3-15d637867705",
        "part": "whole"
       },
       "id": "5312a1ca-524c-49ee-b4a6-eb700d405787"
      }
     }
    },
    "e0e60236-1984-4d0d-b2c8-106c894bd86e": {
     "id": "e0e60236-1984-4d0d-b2c8-106c894bd86e",
     "prev": "030bd4f0-cc10-4f7d-b57c-a9fabae235ea",
     "regions": {
      "2954c09d-da88-45a6-9828-fc1e177f443a": {
       "attrs": {
        "height": 0.4,
        "width": 0.8,
        "x": 0.1,
        "y": 0.5
       },
       "content": {
        "cell": "9a66be0a-4683-4a63-a1da-256ba46f660c",
        "part": "whole"
       },
       "id": "2954c09d-da88-45a6-9828-fc1e177f443a"
      },
      "c93f21b5-b294-41f0-a9d0-d1f2833e6a94": {
       "attrs": {
        "height": 0.8,
        "width": 0.8,
        "x": 0.1,
        "y": 0.1
       },
       "content": {
        "cell": "61da6a05-dd61-4116-ab51-3f73824e5b14",
        "part": "whole"
       },
       "id": "c93f21b5-b294-41f0-a9d0-d1f2833e6a94"
      }
     }
    },
    "e1c65956-3295-46c7-b73a-b98e031d5be5": {
     "id": "e1c65956-3295-46c7-b73a-b98e031d5be5",
     "prev": "f94a88b7-9c35-47d5-b3e1-39333e6694c5",
     "regions": {
      "231e5ef0-6c11-45ad-abb7-0b964bdbcf36": {
       "attrs": {
        "height": 0.4,
        "width": 0.8,
        "x": 0.1,
        "y": 0.5
       },
       "content": {
        "cell": "bc835812-e0b8-460a-85f2-080e6388c67e",
        "part": "whole"
       },
       "id": "231e5ef0-6c11-45ad-abb7-0b964bdbcf36"
      },
      "b57edf07-b355-44c7-8d9c-a57fda916faf": {
       "attrs": {
        "height": 0.8,
        "width": 0.8,
        "x": 0.1,
        "y": 0.1
       },
       "content": {
        "cell": "77b5d276-db06-46b7-97dd-d8597628a23a",
        "part": "whole"
       },
       "id": "b57edf07-b355-44c7-8d9c-a57fda916faf"
      },
      "f96d1276-f6a4-410e-b836-e23c1b172624": {
       "attrs": {
        "height": 0.4,
        "width": 0.8,
        "x": 0.1,
        "y": 0.5
       },
       "content": {
        "cell": "0340640e-4d98-47cc-9cfd-2f5ab988db67",
        "part": "whole"
       },
       "id": "f96d1276-f6a4-410e-b836-e23c1b172624"
      }
     }
    },
    "f6dc6d41-3400-4cd7-829f-0c6f43968cd9": {
     "id": "f6dc6d41-3400-4cd7-829f-0c6f43968cd9",
     "prev": "06f0ceb0-a5bf-4c4d-9d3d-06c30d31c2ed",
     "regions": {
      "3e3aea15-7e5c-4ea4-8708-4698289edbe6": {
       "attrs": {
        "height": 0.8,
        "width": 0.8,
        "x": 0.1,
        "y": 0.1
       },
       "content": {
        "cell": "d1698087-708a-4540-aae1-6a4c2e243bfb",
        "part": "whole"
       },
       "id": "3e3aea15-7e5c-4ea4-8708-4698289edbe6"
      },
      "df3c2143-7cf3-4966-ad56-27131cbf6716": {
       "attrs": {
        "height": 0.4,
        "width": 0.8,
        "x": 0.1,
        "y": 0.5
       },
       "content": {
        "cell": "61905f8f-3774-442f-a2f4-26cfe604c899",
        "part": "whole"
       },
       "id": "df3c2143-7cf3-4966-ad56-27131cbf6716"
      }
     }
    },
    "f94a88b7-9c35-47d5-b3e1-39333e6694c5": {
     "id": "f94a88b7-9c35-47d5-b3e1-39333e6694c5",
     "prev": "57dd84fc-cd21-494e-b068-5c600f2d2456",
     "regions": {
      "63ef95b4-3a85-4a21-947a-bfc0aadbd6c4": {
       "attrs": {
        "height": 0.8,
        "width": 0.8,
        "x": 0.1,
        "y": 0.1
       },
       "content": {
        "cell": "35e39587-6272-4ebb-8339-c1fd75a44b39",
        "part": "whole"
       },
       "id": "63ef95b4-3a85-4a21-947a-bfc0aadbd6c4"
      },
      "9c5ee4da-3e04-4a30-b82a-7528d1bf6c47": {
       "attrs": {
        "height": 0.4,
        "width": 0.8,
        "x": 0.1,
        "y": 0.5
       },
       "content": {
        "cell": "fd13b97f-8eaf-4bc5-885b-b04e1b03aebe",
        "part": "whole"
       },
       "id": "9c5ee4da-3e04-4a30-b82a-7528d1bf6c47"
      }
     }
    }
   },
   "themes": {
    "default": "8e4ddc42-183e-4ba2-b60f-6dc5ce186ba8",
    "theme": {}
   }
  }
 },
 "nbformat": 4,
 "nbformat_minor": 0
}
