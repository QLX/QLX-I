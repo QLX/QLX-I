{
 "cells": [
  {
   "cell_type": "markdown",
   "metadata": {},
   "source": [
    "# Data Preparation Workflow"
   ]
  },
  {
   "cell_type": "markdown",
   "metadata": {},
   "source": [
    "## Set Up the Jupyter Notebook for Analysis\n",
    "\n",
    "Note: We have our new package called swat - SAS Scripting Wrapper for Analytics Transfer - available on GitHub via pip install <br>"
   ]
  },
  {
   "cell_type": "code",
   "execution_count": 1,
   "metadata": {
    "collapsed": false,
    "slideshow": {
     "slide_type": "subslide"
    }
   },
   "outputs": [],
   "source": [
    "# Import necessary packages and modules\n",
    "import swat\n",
    "%matplotlib inline\n",
    "\n",
    "# Set the connection by specifying the hostname, port, username, and password\n",
    "conn = swat.CAS(hostname, port, username, password)\n",
    "\n",
    "# Get the hmeq csv file from SAS support documentation and lift into memory\n",
    "castbl = conn.read_csv('http://support.sas.com/documentation/onlinedoc/viya/exampledatasets/hmeq.csv', casout = 'hmeq')\n",
    "castbl.replace = True"
   ]
  },
  {
   "cell_type": "markdown",
   "metadata": {},
   "source": [
    "## Examine the first few rows"
   ]
  },
  {
   "cell_type": "code",
   "execution_count": 2,
   "metadata": {
    "collapsed": false
   },
   "outputs": [
    {
     "data": {
      "text/html": [
       "<div>\n",
       "<table border=\"1\" class=\"dataframe\"><caption>Selected Rows from Table HMEQ</caption>\n",
       "  <thead>\n",
       "    <tr style=\"text-align: right;\">\n",
       "      <th title=\"\"></th>\n",
       "      <th title=\"BAD\">BAD</th>\n",
       "      <th title=\"LOAN\">LOAN</th>\n",
       "      <th title=\"MORTDUE\">MORTDUE</th>\n",
       "      <th title=\"VALUE\">VALUE</th>\n",
       "      <th title=\"REASON\">REASON</th>\n",
       "      <th title=\"JOB\">JOB</th>\n",
       "      <th title=\"YOJ\">YOJ</th>\n",
       "      <th title=\"DEROG\">DEROG</th>\n",
       "      <th title=\"DELINQ\">DELINQ</th>\n",
       "      <th title=\"CLAGE\">CLAGE</th>\n",
       "      <th title=\"NINQ\">NINQ</th>\n",
       "      <th title=\"CLNO\">CLNO</th>\n",
       "      <th title=\"DEBTINC\">DEBTINC</th>\n",
       "    </tr>\n",
       "  </thead>\n",
       "  <tbody>\n",
       "    <tr>\n",
       "      <th>0</th>\n",
       "      <td>1.0</td>\n",
       "      <td>1100.0</td>\n",
       "      <td>25860.0</td>\n",
       "      <td>39025.0</td>\n",
       "      <td>HomeImp</td>\n",
       "      <td>Other</td>\n",
       "      <td>10.5</td>\n",
       "      <td>0.0</td>\n",
       "      <td>0.0</td>\n",
       "      <td>94.366667</td>\n",
       "      <td>1.0</td>\n",
       "      <td>9.0</td>\n",
       "      <td>NaN</td>\n",
       "    </tr>\n",
       "    <tr>\n",
       "      <th>1</th>\n",
       "      <td>1.0</td>\n",
       "      <td>1300.0</td>\n",
       "      <td>70053.0</td>\n",
       "      <td>68400.0</td>\n",
       "      <td>HomeImp</td>\n",
       "      <td>Other</td>\n",
       "      <td>7.0</td>\n",
       "      <td>0.0</td>\n",
       "      <td>2.0</td>\n",
       "      <td>121.833333</td>\n",
       "      <td>0.0</td>\n",
       "      <td>14.0</td>\n",
       "      <td>NaN</td>\n",
       "    </tr>\n",
       "    <tr>\n",
       "      <th>2</th>\n",
       "      <td>1.0</td>\n",
       "      <td>1500.0</td>\n",
       "      <td>13500.0</td>\n",
       "      <td>16700.0</td>\n",
       "      <td>HomeImp</td>\n",
       "      <td>Other</td>\n",
       "      <td>4.0</td>\n",
       "      <td>0.0</td>\n",
       "      <td>0.0</td>\n",
       "      <td>149.466667</td>\n",
       "      <td>1.0</td>\n",
       "      <td>10.0</td>\n",
       "      <td>NaN</td>\n",
       "    </tr>\n",
       "    <tr>\n",
       "      <th>3</th>\n",
       "      <td>1.0</td>\n",
       "      <td>1500.0</td>\n",
       "      <td>NaN</td>\n",
       "      <td>NaN</td>\n",
       "      <td></td>\n",
       "      <td></td>\n",
       "      <td>NaN</td>\n",
       "      <td>NaN</td>\n",
       "      <td>NaN</td>\n",
       "      <td>NaN</td>\n",
       "      <td>NaN</td>\n",
       "      <td>NaN</td>\n",
       "      <td>NaN</td>\n",
       "    </tr>\n",
       "    <tr>\n",
       "      <th>4</th>\n",
       "      <td>0.0</td>\n",
       "      <td>1700.0</td>\n",
       "      <td>97800.0</td>\n",
       "      <td>112000.0</td>\n",
       "      <td>HomeImp</td>\n",
       "      <td>Office</td>\n",
       "      <td>3.0</td>\n",
       "      <td>0.0</td>\n",
       "      <td>0.0</td>\n",
       "      <td>93.333333</td>\n",
       "      <td>0.0</td>\n",
       "      <td>14.0</td>\n",
       "      <td>NaN</td>\n",
       "    </tr>\n",
       "  </tbody>\n",
       "</table>\n",
       "</div>"
      ],
      "text/plain": [
       "Selected Rows from Table HMEQ\n",
       "\n",
       "   BAD    LOAN  MORTDUE     VALUE   REASON     JOB   YOJ  DEROG  DELINQ  \\\n",
       "0  1.0  1100.0  25860.0   39025.0  HomeImp   Other  10.5    0.0     0.0   \n",
       "1  1.0  1300.0  70053.0   68400.0  HomeImp   Other   7.0    0.0     2.0   \n",
       "2  1.0  1500.0  13500.0   16700.0  HomeImp   Other   4.0    0.0     0.0   \n",
       "3  1.0  1500.0      NaN       NaN                    NaN    NaN     NaN   \n",
       "4  0.0  1700.0  97800.0  112000.0  HomeImp  Office   3.0    0.0     0.0   \n",
       "\n",
       "        CLAGE  NINQ  CLNO  DEBTINC  \n",
       "0   94.366667   1.0   9.0      NaN  \n",
       "1  121.833333   0.0  14.0      NaN  \n",
       "2  149.466667   1.0  10.0      NaN  \n",
       "3         NaN   NaN   NaN      NaN  \n",
       "4   93.333333   0.0  14.0      NaN  "
      ]
     },
     "execution_count": 2,
     "metadata": {},
     "output_type": "execute_result"
    }
   ],
   "source": [
    "# Assign the variable name df to the new CASTable object\n",
    "df = conn.CASTable('hmeq')\n",
    "\n",
    "# Perform the head method to return the first 5 rows\n",
    "df.head()"
   ]
  },
  {
   "cell_type": "markdown",
   "metadata": {},
   "source": [
    "## Create new features"
   ]
  },
  {
   "cell_type": "code",
   "execution_count": 3,
   "metadata": {
    "collapsed": false
   },
   "outputs": [
    {
     "data": {
      "text/html": [
       "<div>\n",
       "<table border=\"1\" class=\"dataframe\"><caption>Selected Rows from Table HMEQ</caption>\n",
       "  <thead>\n",
       "    <tr style=\"text-align: right;\">\n",
       "      <th title=\"\"></th>\n",
       "      <th title=\"BAD\">BAD</th>\n",
       "      <th title=\"LOAN\">LOAN</th>\n",
       "      <th title=\"MORTDUE\">MORTDUE</th>\n",
       "      <th title=\"VALUE\">VALUE</th>\n",
       "      <th title=\"REASON\">REASON</th>\n",
       "      <th title=\"JOB\">JOB</th>\n",
       "      <th title=\"YOJ\">YOJ</th>\n",
       "      <th title=\"DEROG\">DEROG</th>\n",
       "      <th title=\"DELINQ\">DELINQ</th>\n",
       "      <th title=\"CLAGE\">CLAGE</th>\n",
       "      <th title=\"NINQ\">NINQ</th>\n",
       "      <th title=\"CLNO\">CLNO</th>\n",
       "      <th title=\"DEBTINC\">DEBTINC</th>\n",
       "      <th title=\"MORTPAID\">MORTPAID</th>\n",
       "    </tr>\n",
       "  </thead>\n",
       "  <tbody>\n",
       "    <tr>\n",
       "      <th>0</th>\n",
       "      <td>1.0</td>\n",
       "      <td>1100.0</td>\n",
       "      <td>25860.0</td>\n",
       "      <td>39025.0</td>\n",
       "      <td>HomeImp</td>\n",
       "      <td>Other</td>\n",
       "      <td>10.5</td>\n",
       "      <td>0.0</td>\n",
       "      <td>0.0</td>\n",
       "      <td>94.366667</td>\n",
       "      <td>1.0</td>\n",
       "      <td>9.0</td>\n",
       "      <td>NaN</td>\n",
       "      <td>13165.0</td>\n",
       "    </tr>\n",
       "    <tr>\n",
       "      <th>1</th>\n",
       "      <td>1.0</td>\n",
       "      <td>1300.0</td>\n",
       "      <td>70053.0</td>\n",
       "      <td>68400.0</td>\n",
       "      <td>HomeImp</td>\n",
       "      <td>Other</td>\n",
       "      <td>7.0</td>\n",
       "      <td>0.0</td>\n",
       "      <td>2.0</td>\n",
       "      <td>121.833333</td>\n",
       "      <td>0.0</td>\n",
       "      <td>14.0</td>\n",
       "      <td>NaN</td>\n",
       "      <td>-1653.0</td>\n",
       "    </tr>\n",
       "    <tr>\n",
       "      <th>2</th>\n",
       "      <td>1.0</td>\n",
       "      <td>1500.0</td>\n",
       "      <td>13500.0</td>\n",
       "      <td>16700.0</td>\n",
       "      <td>HomeImp</td>\n",
       "      <td>Other</td>\n",
       "      <td>4.0</td>\n",
       "      <td>0.0</td>\n",
       "      <td>0.0</td>\n",
       "      <td>149.466667</td>\n",
       "      <td>1.0</td>\n",
       "      <td>10.0</td>\n",
       "      <td>NaN</td>\n",
       "      <td>3200.0</td>\n",
       "    </tr>\n",
       "    <tr>\n",
       "      <th>3</th>\n",
       "      <td>1.0</td>\n",
       "      <td>1500.0</td>\n",
       "      <td>NaN</td>\n",
       "      <td>NaN</td>\n",
       "      <td></td>\n",
       "      <td></td>\n",
       "      <td>NaN</td>\n",
       "      <td>NaN</td>\n",
       "      <td>NaN</td>\n",
       "      <td>NaN</td>\n",
       "      <td>NaN</td>\n",
       "      <td>NaN</td>\n",
       "      <td>NaN</td>\n",
       "      <td>NaN</td>\n",
       "    </tr>\n",
       "    <tr>\n",
       "      <th>4</th>\n",
       "      <td>0.0</td>\n",
       "      <td>1700.0</td>\n",
       "      <td>97800.0</td>\n",
       "      <td>112000.0</td>\n",
       "      <td>HomeImp</td>\n",
       "      <td>Office</td>\n",
       "      <td>3.0</td>\n",
       "      <td>0.0</td>\n",
       "      <td>0.0</td>\n",
       "      <td>93.333333</td>\n",
       "      <td>0.0</td>\n",
       "      <td>14.0</td>\n",
       "      <td>NaN</td>\n",
       "      <td>14200.0</td>\n",
       "    </tr>\n",
       "  </tbody>\n",
       "</table>\n",
       "</div>"
      ],
      "text/plain": [
       "Selected Rows from Table HMEQ\n",
       "\n",
       "   BAD    LOAN  MORTDUE     VALUE   REASON     JOB   YOJ  DEROG  DELINQ  \\\n",
       "0  1.0  1100.0  25860.0   39025.0  HomeImp   Other  10.5    0.0     0.0   \n",
       "1  1.0  1300.0  70053.0   68400.0  HomeImp   Other   7.0    0.0     2.0   \n",
       "2  1.0  1500.0  13500.0   16700.0  HomeImp   Other   4.0    0.0     0.0   \n",
       "3  1.0  1500.0      NaN       NaN                    NaN    NaN     NaN   \n",
       "4  0.0  1700.0  97800.0  112000.0  HomeImp  Office   3.0    0.0     0.0   \n",
       "\n",
       "        CLAGE  NINQ  CLNO  DEBTINC  MORTPAID  \n",
       "0   94.366667   1.0   9.0      NaN   13165.0  \n",
       "1  121.833333   0.0  14.0      NaN   -1653.0  \n",
       "2  149.466667   1.0  10.0      NaN    3200.0  \n",
       "3         NaN   NaN   NaN      NaN       NaN  \n",
       "4   93.333333   0.0  14.0      NaN   14200.0  "
      ]
     },
     "execution_count": 3,
     "metadata": {},
     "output_type": "execute_result"
    }
   ],
   "source": [
    "# How much of their mortgage have they paid off?\n",
    "df['MORTPAID'] = df['VALUE'] - df['MORTDUE']\n",
    "df.head()"
   ]
  },
  {
   "cell_type": "code",
   "execution_count": 4,
   "metadata": {
    "collapsed": false
   },
   "outputs": [
    {
     "data": {
      "text/plain": [
       "0.0085570469798657723"
      ]
     },
     "execution_count": 4,
     "metadata": {},
     "output_type": "execute_result"
    }
   ],
   "source": [
    "# What percent of the time does this happen?\n",
    "df.query('MORTPAID < 0')['MORTPAID'].count()/len(df)"
   ]
  },
  {
   "cell_type": "markdown",
   "metadata": {},
   "source": [
    "## Examine numeric variable distribution"
   ]
  },
  {
   "cell_type": "code",
   "execution_count": 5,
   "metadata": {
    "collapsed": false,
    "scrolled": false
   },
   "outputs": [
    {
     "data": {
      "image/png": "[encoded data removed]",
      "text/plain": [
       "<matplotlib.figure.Figure at 0xb8a65c0>"
      ]
     },
     "metadata": {},
     "output_type": "display_data"
    }
   ],
   "source": [
    "# Use the pandas/matplotlib method for plotting a histogram of all numeric variables\n",
    "df.hist(figsize = (15, 10));"
   ]
  },
  {
   "cell_type": "markdown",
   "metadata": {},
   "source": [
    "## Examine summary statistics"
   ]
  },
  {
   "cell_type": "code",
   "execution_count": 6,
   "metadata": {
    "collapsed": false
   },
   "outputs": [
    {
     "data": {
      "text/html": [
       "<div>\n",
       "<table border=\"1\" class=\"dataframe\">\n",
       "  <thead>\n",
       "    <tr style=\"text-align: right;\">\n",
       "      <th></th>\n",
       "      <th>count</th>\n",
       "      <th>unique</th>\n",
       "      <th>top</th>\n",
       "      <th>freq</th>\n",
       "      <th>mean</th>\n",
       "      <th>std</th>\n",
       "      <th>min</th>\n",
       "      <th>25%</th>\n",
       "      <th>50%</th>\n",
       "      <th>75%</th>\n",
       "      <th>max</th>\n",
       "    </tr>\n",
       "  </thead>\n",
       "  <tbody>\n",
       "    <tr>\n",
       "      <th>BAD</th>\n",
       "      <td>5960</td>\n",
       "      <td>2</td>\n",
       "      <td>0</td>\n",
       "      <td>4771</td>\n",
       "      <td>0.199497</td>\n",
       "      <td>0.399656</td>\n",
       "      <td>0</td>\n",
       "      <td>0</td>\n",
       "      <td>0</td>\n",
       "      <td>0</td>\n",
       "      <td>1</td>\n",
       "    </tr>\n",
       "    <tr>\n",
       "      <th>LOAN</th>\n",
       "      <td>5960</td>\n",
       "      <td>540</td>\n",
       "      <td>15000</td>\n",
       "      <td>105</td>\n",
       "      <td>18608</td>\n",
       "      <td>11207.5</td>\n",
       "      <td>1100</td>\n",
       "      <td>11100</td>\n",
       "      <td>16300</td>\n",
       "      <td>23300</td>\n",
       "      <td>89900</td>\n",
       "    </tr>\n",
       "    <tr>\n",
       "      <th>MORTDUE</th>\n",
       "      <td>5442</td>\n",
       "      <td>5053</td>\n",
       "      <td>42000</td>\n",
       "      <td>11</td>\n",
       "      <td>73760.8</td>\n",
       "      <td>44457.6</td>\n",
       "      <td>2063</td>\n",
       "      <td>46268</td>\n",
       "      <td>65019</td>\n",
       "      <td>91491</td>\n",
       "      <td>399550</td>\n",
       "    </tr>\n",
       "    <tr>\n",
       "      <th>VALUE</th>\n",
       "      <td>5848</td>\n",
       "      <td>5381</td>\n",
       "      <td>60000</td>\n",
       "      <td>15</td>\n",
       "      <td>101776</td>\n",
       "      <td>57385.8</td>\n",
       "      <td>8000</td>\n",
       "      <td>66069</td>\n",
       "      <td>89235.5</td>\n",
       "      <td>119832</td>\n",
       "      <td>855909</td>\n",
       "    </tr>\n",
       "    <tr>\n",
       "      <th>REASON</th>\n",
       "      <td>5960</td>\n",
       "      <td>2</td>\n",
       "      <td>DebtCon</td>\n",
       "      <td>3928</td>\n",
       "      <td>NaN</td>\n",
       "      <td>NaN</td>\n",
       "      <td>DebtCon</td>\n",
       "      <td>NaN</td>\n",
       "      <td>NaN</td>\n",
       "      <td>NaN</td>\n",
       "      <td>HomeImp</td>\n",
       "    </tr>\n",
       "    <tr>\n",
       "      <th>JOB</th>\n",
       "      <td>5960</td>\n",
       "      <td>6</td>\n",
       "      <td>Other</td>\n",
       "      <td>2388</td>\n",
       "      <td>NaN</td>\n",
       "      <td>NaN</td>\n",
       "      <td>Mgr</td>\n",
       "      <td>NaN</td>\n",
       "      <td>NaN</td>\n",
       "      <td>NaN</td>\n",
       "      <td>Self</td>\n",
       "    </tr>\n",
       "    <tr>\n",
       "      <th>YOJ</th>\n",
       "      <td>5445</td>\n",
       "      <td>99</td>\n",
       "      <td>0</td>\n",
       "      <td>415</td>\n",
       "      <td>8.92227</td>\n",
       "      <td>7.57398</td>\n",
       "      <td>0</td>\n",
       "      <td>3</td>\n",
       "      <td>7</td>\n",
       "      <td>13</td>\n",
       "      <td>41</td>\n",
       "    </tr>\n",
       "    <tr>\n",
       "      <th>DEROG</th>\n",
       "      <td>5252</td>\n",
       "      <td>11</td>\n",
       "      <td>0</td>\n",
       "      <td>4527</td>\n",
       "      <td>0.25457</td>\n",
       "      <td>0.846047</td>\n",
       "      <td>0</td>\n",
       "      <td>0</td>\n",
       "      <td>0</td>\n",
       "      <td>0</td>\n",
       "      <td>10</td>\n",
       "    </tr>\n",
       "    <tr>\n",
       "      <th>DELINQ</th>\n",
       "      <td>5380</td>\n",
       "      <td>14</td>\n",
       "      <td>0</td>\n",
       "      <td>4179</td>\n",
       "      <td>0.449442</td>\n",
       "      <td>1.12727</td>\n",
       "      <td>0</td>\n",
       "      <td>0</td>\n",
       "      <td>0</td>\n",
       "      <td>0</td>\n",
       "      <td>15</td>\n",
       "    </tr>\n",
       "    <tr>\n",
       "      <th>CLAGE</th>\n",
       "      <td>5652</td>\n",
       "      <td>5314</td>\n",
       "      <td>206.967</td>\n",
       "      <td>7</td>\n",
       "      <td>179.766</td>\n",
       "      <td>85.8101</td>\n",
       "      <td>0</td>\n",
       "      <td>115.103</td>\n",
       "      <td>173.467</td>\n",
       "      <td>231.575</td>\n",
       "      <td>1168.23</td>\n",
       "    </tr>\n",
       "    <tr>\n",
       "      <th>NINQ</th>\n",
       "      <td>5450</td>\n",
       "      <td>16</td>\n",
       "      <td>0</td>\n",
       "      <td>2531</td>\n",
       "      <td>1.18606</td>\n",
       "      <td>1.72867</td>\n",
       "      <td>0</td>\n",
       "      <td>0</td>\n",
       "      <td>1</td>\n",
       "      <td>2</td>\n",
       "      <td>17</td>\n",
       "    </tr>\n",
       "    <tr>\n",
       "      <th>CLNO</th>\n",
       "      <td>5738</td>\n",
       "      <td>62</td>\n",
       "      <td>16</td>\n",
       "      <td>316</td>\n",
       "      <td>21.2961</td>\n",
       "      <td>10.1389</td>\n",
       "      <td>0</td>\n",
       "      <td>15</td>\n",
       "      <td>20</td>\n",
       "      <td>26</td>\n",
       "      <td>71</td>\n",
       "    </tr>\n",
       "    <tr>\n",
       "      <th>DEBTINC</th>\n",
       "      <td>4693</td>\n",
       "      <td>4693</td>\n",
       "      <td>203.312</td>\n",
       "      <td>1</td>\n",
       "      <td>33.7799</td>\n",
       "      <td>8.60175</td>\n",
       "      <td>0.524499</td>\n",
       "      <td>29.14</td>\n",
       "      <td>34.8183</td>\n",
       "      <td>39.0031</td>\n",
       "      <td>203.312</td>\n",
       "    </tr>\n",
       "    <tr>\n",
       "      <th>MORTPAID</th>\n",
       "      <td>5357</td>\n",
       "      <td>4915</td>\n",
       "      <td>18000</td>\n",
       "      <td>10</td>\n",
       "      <td>31235.2</td>\n",
       "      <td>26343.4</td>\n",
       "      <td>-205445</td>\n",
       "      <td>17355</td>\n",
       "      <td>26623</td>\n",
       "      <td>39757</td>\n",
       "      <td>287300</td>\n",
       "    </tr>\n",
       "  </tbody>\n",
       "</table>\n",
       "</div>"
      ],
      "text/plain": [
       "         count unique      top  freq      mean       std       min      25%  \\\n",
       "BAD       5960      2        0  4771  0.199497  0.399656         0        0   \n",
       "LOAN      5960    540    15000   105     18608   11207.5      1100    11100   \n",
       "MORTDUE   5442   5053    42000    11   73760.8   44457.6      2063    46268   \n",
       "VALUE     5848   5381    60000    15    101776   57385.8      8000    66069   \n",
       "REASON    5960      2  DebtCon  3928       NaN       NaN   DebtCon      NaN   \n",
       "JOB       5960      6    Other  2388       NaN       NaN       Mgr      NaN   \n",
       "YOJ       5445     99        0   415   8.92227   7.57398         0        3   \n",
       "DEROG     5252     11        0  4527   0.25457  0.846047         0        0   \n",
       "DELINQ    5380     14        0  4179  0.449442   1.12727         0        0   \n",
       "CLAGE     5652   5314  206.967     7   179.766   85.8101         0  115.103   \n",
       "NINQ      5450     16        0  2531   1.18606   1.72867         0        0   \n",
       "CLNO      5738     62       16   316   21.2961   10.1389         0       15   \n",
       "DEBTINC   4693   4693  203.312     1   33.7799   8.60175  0.524499    29.14   \n",
       "MORTPAID  5357   4915    18000    10   31235.2   26343.4   -205445    17355   \n",
       "\n",
       "              50%      75%      max  \n",
       "BAD             0        0        1  \n",
       "LOAN        16300    23300    89900  \n",
       "MORTDUE     65019    91491   399550  \n",
       "VALUE     89235.5   119832   855909  \n",
       "REASON        NaN      NaN  HomeImp  \n",
       "JOB           NaN      NaN     Self  \n",
       "YOJ             7       13       41  \n",
       "DEROG           0        0       10  \n",
       "DELINQ          0        0       15  \n",
       "CLAGE     173.467  231.575  1168.23  \n",
       "NINQ            1        2       17  \n",
       "CLNO           20       26       71  \n",
       "DEBTINC   34.8183  39.0031  203.312  \n",
       "MORTPAID    26623    39757   287300  "
      ]
     },
     "execution_count": 6,
     "metadata": {},
     "output_type": "execute_result"
    }
   ],
   "source": [
    "# Use the pandas describe method, then switch rows and columns\n",
    "summary = df.describe(include = 'all').transpose()\n",
    "summary"
   ]
  },
  {
   "cell_type": "markdown",
   "metadata": {},
   "source": [
    "## Is there an issue with missing data?"
   ]
  },
  {
   "cell_type": "code",
   "execution_count": 7,
   "metadata": {
    "collapsed": false
   },
   "outputs": [
    {
     "data": {
      "image/png": "[encoded data removed]",
      "text/plain": [
       "<matplotlib.figure.Figure at 0xe0390f0>"
      ]
     },
     "metadata": {},
     "output_type": "display_data"
    }
   ],
   "source": [
    "# Create percent missing column for plotting\n",
    "summary['pctmiss'] = (len(df) - summary['count'])/len(df)\n",
    "\n",
    "# Make a bar graph using pandas/matplotlib functionality\n",
    "summary.query('pctmiss > 0')['pctmiss'].plot('bar', title = 'Pct Missing Values', figsize = (10, 6), color = 'c');"
   ]
  },
  {
   "cell_type": "markdown",
   "metadata": {},
   "source": [
    "## The variables need to be imputed for missing values"
   ]
  },
  {
   "cell_type": "code",
   "execution_count": 8,
   "metadata": {
    "collapsed": false,
    "scrolled": true
   },
   "outputs": [
    {
     "data": {
      "text/html": [
       "<div class=\"cas-results-key\"><b>&#167; ImputeInfo</b></div>\n",
       "<div class=\"cas-results-body\">\n",
       "<div>\n",
       "<table border=\"1\" class=\"dataframe\"><caption>Imputation Information for HMEQ</caption>\n",
       "  <thead>\n",
       "    <tr style=\"text-align: right;\">\n",
       "      <th title=\"\"></th>\n",
       "      <th title=\"Variable\">Variable</th>\n",
       "      <th title=\"Imputation Technique\">ImputeTech</th>\n",
       "      <th title=\"Result Variable\">ResultVar</th>\n",
       "      <th title=\"Number of Observations\">N</th>\n",
       "      <th title=\"Number of Missing\">NMiss</th>\n",
       "      <th title=\"Imputed Value\">ImputedValueContinuous</th>\n",
       "      <th title=\"Imputed Value\">ImputedValueNominal</th>\n",
       "    </tr>\n",
       "  </thead>\n",
       "  <tbody>\n",
       "    <tr>\n",
       "      <th>0</th>\n",
       "      <td>LOAN</td>\n",
       "      <td>Median</td>\n",
       "      <td>IMP_LOAN</td>\n",
       "      <td>5960.0</td>\n",
       "      <td>0.0</td>\n",
       "      <td>16300.000000</td>\n",
       "      <td></td>\n",
       "    </tr>\n",
       "    <tr>\n",
       "      <th>1</th>\n",
       "      <td>MORTDUE</td>\n",
       "      <td>Median</td>\n",
       "      <td>IMP_MORTDUE</td>\n",
       "      <td>5442.0</td>\n",
       "      <td>518.0</td>\n",
       "      <td>65019.000000</td>\n",
       "      <td></td>\n",
       "    </tr>\n",
       "    <tr>\n",
       "      <th>2</th>\n",
       "      <td>VALUE</td>\n",
       "      <td>Median</td>\n",
       "      <td>IMP_VALUE</td>\n",
       "      <td>5848.0</td>\n",
       "      <td>112.0</td>\n",
       "      <td>89235.500000</td>\n",
       "      <td></td>\n",
       "    </tr>\n",
       "    <tr>\n",
       "      <th>3</th>\n",
       "      <td>REASON</td>\n",
       "      <td>Mode</td>\n",
       "      <td>IMP_REASON</td>\n",
       "      <td>5708.0</td>\n",
       "      <td>252.0</td>\n",
       "      <td>NaN</td>\n",
       "      <td>DebtCon</td>\n",
       "    </tr>\n",
       "    <tr>\n",
       "      <th>4</th>\n",
       "      <td>JOB</td>\n",
       "      <td>Mode</td>\n",
       "      <td>IMP_JOB</td>\n",
       "      <td>5681.0</td>\n",
       "      <td>279.0</td>\n",
       "      <td>NaN</td>\n",
       "      <td>Other</td>\n",
       "    </tr>\n",
       "    <tr>\n",
       "      <th>5</th>\n",
       "      <td>YOJ</td>\n",
       "      <td>Median</td>\n",
       "      <td>IMP_YOJ</td>\n",
       "      <td>5445.0</td>\n",
       "      <td>515.0</td>\n",
       "      <td>7.000000</td>\n",
       "      <td></td>\n",
       "    </tr>\n",
       "    <tr>\n",
       "      <th>6</th>\n",
       "      <td>DEROG</td>\n",
       "      <td>Median</td>\n",
       "      <td>IMP_DEROG</td>\n",
       "      <td>5252.0</td>\n",
       "      <td>708.0</td>\n",
       "      <td>0.000000</td>\n",
       "      <td></td>\n",
       "    </tr>\n",
       "    <tr>\n",
       "      <th>7</th>\n",
       "      <td>DELINQ</td>\n",
       "      <td>Median</td>\n",
       "      <td>IMP_DELINQ</td>\n",
       "      <td>5380.0</td>\n",
       "      <td>580.0</td>\n",
       "      <td>0.000000</td>\n",
       "      <td></td>\n",
       "    </tr>\n",
       "    <tr>\n",
       "      <th>8</th>\n",
       "      <td>CLAGE</td>\n",
       "      <td>Median</td>\n",
       "      <td>IMP_CLAGE</td>\n",
       "      <td>5652.0</td>\n",
       "      <td>308.0</td>\n",
       "      <td>173.466667</td>\n",
       "      <td></td>\n",
       "    </tr>\n",
       "    <tr>\n",
       "      <th>9</th>\n",
       "      <td>NINQ</td>\n",
       "      <td>Median</td>\n",
       "      <td>IMP_NINQ</td>\n",
       "      <td>5450.0</td>\n",
       "      <td>510.0</td>\n",
       "      <td>1.000000</td>\n",
       "      <td></td>\n",
       "    </tr>\n",
       "    <tr>\n",
       "      <th>10</th>\n",
       "      <td>CLNO</td>\n",
       "      <td>Median</td>\n",
       "      <td>IMP_CLNO</td>\n",
       "      <td>5738.0</td>\n",
       "      <td>222.0</td>\n",
       "      <td>20.000000</td>\n",
       "      <td></td>\n",
       "    </tr>\n",
       "    <tr>\n",
       "      <th>11</th>\n",
       "      <td>DEBTINC</td>\n",
       "      <td>Median</td>\n",
       "      <td>IMP_DEBTINC</td>\n",
       "      <td>4693.0</td>\n",
       "      <td>1267.0</td>\n",
       "      <td>34.818262</td>\n",
       "      <td></td>\n",
       "    </tr>\n",
       "    <tr>\n",
       "      <th>12</th>\n",
       "      <td>MORTPAID</td>\n",
       "      <td>Median</td>\n",
       "      <td>IMP_MORTPAID</td>\n",
       "      <td>5357.0</td>\n",
       "      <td>603.0</td>\n",
       "      <td>26623.000000</td>\n",
       "      <td></td>\n",
       "    </tr>\n",
       "  </tbody>\n",
       "</table>\n",
       "</div>\n",
       "</div>\n",
       "<div class=\"cas-results-key\"><hr/><b>&#167; OutputCasTables</b></div>\n",
       "<div class=\"cas-results-body\">\n",
       "<div>\n",
       "<table border=\"1\" class=\"dataframe\">\n",
       "  <thead>\n",
       "    <tr style=\"text-align: right;\">\n",
       "      <th title=\"\"></th>\n",
       "      <th title=\"CAS Library\">casLib</th>\n",
       "      <th title=\"Name\">Name</th>\n",
       "      <th title=\"Number of Rows\">Rows</th>\n",
       "      <th title=\"Number of Columns\">Columns</th>\n",
       "      <th title=\"Table\">casTable</th>\n",
       "    </tr>\n",
       "  </thead>\n",
       "  <tbody>\n",
       "    <tr>\n",
       "      <th>0</th>\n",
       "      <td>DMlib</td>\n",
       "      <td>HMEQ</td>\n",
       "      <td>5960</td>\n",
       "      <td>26</td>\n",
       "      <td>CASTable('HMEQ', caslib='DMlib')</td>\n",
       "    </tr>\n",
       "  </tbody>\n",
       "</table>\n",
       "</div>\n",
       "</div>\n",
       "<div class=\"cas-output-area\"></div>"
      ],
      "text/plain": [
       "[ImputeInfo]\n",
       "\n",
       " Imputation Information for HMEQ\n",
       " \n",
       "     Variable ImputeTech     ResultVar       N   NMiss  ImputedValueContinuous  \\\n",
       " 0       LOAN     Median      IMP_LOAN  5960.0     0.0            16300.000000   \n",
       " 1    MORTDUE     Median   IMP_MORTDUE  5442.0   518.0            65019.000000   \n",
       " 2      VALUE     Median     IMP_VALUE  5848.0   112.0            89235.500000   \n",
       " 3     REASON       Mode    IMP_REASON  5708.0   252.0                     NaN   \n",
       " 4        JOB       Mode       IMP_JOB  5681.0   279.0                     NaN   \n",
       " 5        YOJ     Median       IMP_YOJ  5445.0   515.0                7.000000   \n",
       " 6      DEROG     Median     IMP_DEROG  5252.0   708.0                0.000000   \n",
       " 7     DELINQ     Median    IMP_DELINQ  5380.0   580.0                0.000000   \n",
       " 8      CLAGE     Median     IMP_CLAGE  5652.0   308.0              173.466667   \n",
       " 9       NINQ     Median      IMP_NINQ  5450.0   510.0                1.000000   \n",
       " 10      CLNO     Median      IMP_CLNO  5738.0   222.0               20.000000   \n",
       " 11   DEBTINC     Median   IMP_DEBTINC  4693.0  1267.0               34.818262   \n",
       " 12  MORTPAID     Median  IMP_MORTPAID  5357.0   603.0            26623.000000   \n",
       " \n",
       "    ImputedValueNominal  \n",
       " 0                       \n",
       " 1                       \n",
       " 2                       \n",
       " 3              DebtCon  \n",
       " 4                Other  \n",
       " 5                       \n",
       " 6                       \n",
       " 7                       \n",
       " 8                       \n",
       " 9                       \n",
       " 10                      \n",
       " 11                      \n",
       " 12                      \n",
       "\n",
       "[OutputCasTables]\n",
       "\n",
       "   casLib  Name  Rows  Columns                          casTable\n",
       " 0  DMlib  HMEQ  5960       26  CASTable('HMEQ', caslib='DMlib')\n",
       "\n"
      ]
     },
     "execution_count": 8,
     "metadata": {},
     "output_type": "execute_result"
    }
   ],
   "source": [
    "# This is using the CAS action impute - really nice method for imputing all variables at once\n",
    "## Impute the median for numeric, most common for categorical\n",
    "df.impute(\n",
    "    methodContinuous = 'MEDIAN',\n",
    "    methodNominal    = 'MODE',\n",
    "    inputs           = list(summary.index[1:]), # exclude target column\n",
    "    copyAllVars      = True,\n",
    "    casOut           = castbl\n",
    ")"
   ]
  },
  {
   "cell_type": "markdown",
   "metadata": {},
   "source": [
    "## Create partition indicator so models won't overfit"
   ]
  },
  {
   "cell_type": "code",
   "execution_count": 9,
   "metadata": {
    "collapsed": false
   },
   "outputs": [
    {
     "name": "stdout",
     "output_type": "stream",
     "text": [
      "NOTE: Added action set 'sampling'.\n",
      "NOTE: Using SEED=1 for sampling.\n"
     ]
    },
    {
     "data": {
      "text/plain": [
       "_PartInd_\n",
       "0.0    0.7\n",
       "1.0    0.3\n",
       "Name: _PartInd_, dtype: float64"
      ]
     },
     "execution_count": 9,
     "metadata": {},
     "output_type": "execute_result"
    }
   ],
   "source": [
    "# Load the sampling actionset\n",
    "conn.loadactionset('sampling')\n",
    "\n",
    "# Do a simple random sample with a 70/30 split\n",
    "df.srs(samppct = 30, partind = True, seed = 1, output = dict(casout = castbl, copyvars = 'all'))\n",
    "\n",
    "# What percentage is in each split?\n",
    "castbl['_PartInd_'].groupby('_PartInd_').count()/len(castbl)"
   ]
  },
  {
   "cell_type": "markdown",
   "metadata": {},
   "source": [
    "## Make sure the dataset looks good"
   ]
  },
  {
   "cell_type": "code",
   "execution_count": 10,
   "metadata": {
    "collapsed": false
   },
   "outputs": [
    {
     "data": {
      "text/html": [
       "<div>\n",
       "<table border=\"1\" class=\"dataframe\"><caption>Selected Rows from Table HMEQ</caption>\n",
       "  <thead>\n",
       "    <tr style=\"text-align: right;\">\n",
       "      <th title=\"\"></th>\n",
       "      <th title=\"BAD\">BAD</th>\n",
       "      <th title=\"LOAN\">LOAN</th>\n",
       "      <th title=\"MORTDUE\">MORTDUE</th>\n",
       "      <th title=\"VALUE\">VALUE</th>\n",
       "      <th title=\"REASON\">REASON</th>\n",
       "      <th title=\"JOB\">JOB</th>\n",
       "      <th title=\"YOJ\">YOJ</th>\n",
       "      <th title=\"DEROG\">DEROG</th>\n",
       "      <th title=\"DELINQ\">DELINQ</th>\n",
       "      <th title=\"CLAGE\">CLAGE</th>\n",
       "      <th title=\"...\">...</th>\n",
       "      <th title=\"IMP_LOAN\">IMP_LOAN</th>\n",
       "      <th title=\"IMP_MORTDUE\">IMP_MORTDUE</th>\n",
       "      <th title=\"IMP_MORTPAID\">IMP_MORTPAID</th>\n",
       "      <th title=\"IMP_NINQ\">IMP_NINQ</th>\n",
       "      <th title=\"IMP_VALUE\">IMP_VALUE</th>\n",
       "      <th title=\"IMP_YOJ\">IMP_YOJ</th>\n",
       "      <th title=\"IMP_JOB\">IMP_JOB</th>\n",
       "      <th title=\"IMP_REASON\">IMP_REASON</th>\n",
       "      <th title=\"MORTPAID\">MORTPAID</th>\n",
       "      <th title=\"Partition Indicator\">_PartInd_</th>\n",
       "    </tr>\n",
       "  </thead>\n",
       "  <tbody>\n",
       "    <tr>\n",
       "      <th>0</th>\n",
       "      <td>1.0</td>\n",
       "      <td>1100.0</td>\n",
       "      <td>25860.0</td>\n",
       "      <td>39025.0</td>\n",
       "      <td>HomeImp</td>\n",
       "      <td>Other</td>\n",
       "      <td>10.5</td>\n",
       "      <td>0.0</td>\n",
       "      <td>0.0</td>\n",
       "      <td>94.366667</td>\n",
       "      <td>...</td>\n",
       "      <td>1100.0</td>\n",
       "      <td>25860.0</td>\n",
       "      <td>13165.0</td>\n",
       "      <td>1.0</td>\n",
       "      <td>39025.0</td>\n",
       "      <td>10.5</td>\n",
       "      <td>Other</td>\n",
       "      <td>HomeImp</td>\n",
       "      <td>13165.0</td>\n",
       "      <td>0.0</td>\n",
       "    </tr>\n",
       "    <tr>\n",
       "      <th>1</th>\n",
       "      <td>1.0</td>\n",
       "      <td>1300.0</td>\n",
       "      <td>70053.0</td>\n",
       "      <td>68400.0</td>\n",
       "      <td>HomeImp</td>\n",
       "      <td>Other</td>\n",
       "      <td>7.0</td>\n",
       "      <td>0.0</td>\n",
       "      <td>2.0</td>\n",
       "      <td>121.833333</td>\n",
       "      <td>...</td>\n",
       "      <td>1300.0</td>\n",
       "      <td>70053.0</td>\n",
       "      <td>-1653.0</td>\n",
       "      <td>0.0</td>\n",
       "      <td>68400.0</td>\n",
       "      <td>7.0</td>\n",
       "      <td>Other</td>\n",
       "      <td>HomeImp</td>\n",
       "      <td>-1653.0</td>\n",
       "      <td>0.0</td>\n",
       "    </tr>\n",
       "    <tr>\n",
       "      <th>2</th>\n",
       "      <td>1.0</td>\n",
       "      <td>1500.0</td>\n",
       "      <td>13500.0</td>\n",
       "      <td>16700.0</td>\n",
       "      <td>HomeImp</td>\n",
       "      <td>Other</td>\n",
       "      <td>4.0</td>\n",
       "      <td>0.0</td>\n",
       "      <td>0.0</td>\n",
       "      <td>149.466667</td>\n",
       "      <td>...</td>\n",
       "      <td>1500.0</td>\n",
       "      <td>13500.0</td>\n",
       "      <td>3200.0</td>\n",
       "      <td>1.0</td>\n",
       "      <td>16700.0</td>\n",
       "      <td>4.0</td>\n",
       "      <td>Other</td>\n",
       "      <td>HomeImp</td>\n",
       "      <td>3200.0</td>\n",
       "      <td>0.0</td>\n",
       "    </tr>\n",
       "    <tr>\n",
       "      <th>3</th>\n",
       "      <td>1.0</td>\n",
       "      <td>1500.0</td>\n",
       "      <td>NaN</td>\n",
       "      <td>NaN</td>\n",
       "      <td></td>\n",
       "      <td></td>\n",
       "      <td>NaN</td>\n",
       "      <td>NaN</td>\n",
       "      <td>NaN</td>\n",
       "      <td>NaN</td>\n",
       "      <td>...</td>\n",
       "      <td>1500.0</td>\n",
       "      <td>65019.0</td>\n",
       "      <td>26623.0</td>\n",
       "      <td>1.0</td>\n",
       "      <td>89235.5</td>\n",
       "      <td>7.0</td>\n",
       "      <td>Other</td>\n",
       "      <td>DebtCon</td>\n",
       "      <td>NaN</td>\n",
       "      <td>0.0</td>\n",
       "    </tr>\n",
       "    <tr>\n",
       "      <th>4</th>\n",
       "      <td>0.0</td>\n",
       "      <td>1700.0</td>\n",
       "      <td>97800.0</td>\n",
       "      <td>112000.0</td>\n",
       "      <td>HomeImp</td>\n",
       "      <td>Office</td>\n",
       "      <td>3.0</td>\n",
       "      <td>0.0</td>\n",
       "      <td>0.0</td>\n",
       "      <td>93.333333</td>\n",
       "      <td>...</td>\n",
       "      <td>1700.0</td>\n",
       "      <td>97800.0</td>\n",
       "      <td>14200.0</td>\n",
       "      <td>0.0</td>\n",
       "      <td>112000.0</td>\n",
       "      <td>3.0</td>\n",
       "      <td>Office</td>\n",
       "      <td>HomeImp</td>\n",
       "      <td>14200.0</td>\n",
       "      <td>0.0</td>\n",
       "    </tr>\n",
       "  </tbody>\n",
       "</table>\n",
       "<p>5 rows × 28 columns</p>\n",
       "</div>"
      ],
      "text/plain": [
       "Selected Rows from Table HMEQ\n",
       "\n",
       "   BAD    LOAN  MORTDUE     VALUE   REASON     JOB   YOJ  DEROG  DELINQ  \\\n",
       "0  1.0  1100.0  25860.0   39025.0  HomeImp   Other  10.5    0.0     0.0   \n",
       "1  1.0  1300.0  70053.0   68400.0  HomeImp   Other   7.0    0.0     2.0   \n",
       "2  1.0  1500.0  13500.0   16700.0  HomeImp   Other   4.0    0.0     0.0   \n",
       "3  1.0  1500.0      NaN       NaN                    NaN    NaN     NaN   \n",
       "4  0.0  1700.0  97800.0  112000.0  HomeImp  Office   3.0    0.0     0.0   \n",
       "\n",
       "        CLAGE    ...      IMP_LOAN  IMP_MORTDUE  IMP_MORTPAID  IMP_NINQ  \\\n",
       "0   94.366667    ...        1100.0      25860.0       13165.0       1.0   \n",
       "1  121.833333    ...        1300.0      70053.0       -1653.0       0.0   \n",
       "2  149.466667    ...        1500.0      13500.0        3200.0       1.0   \n",
       "3         NaN    ...        1500.0      65019.0       26623.0       1.0   \n",
       "4   93.333333    ...        1700.0      97800.0       14200.0       0.0   \n",
       "\n",
       "   IMP_VALUE  IMP_YOJ  IMP_JOB  IMP_REASON  MORTPAID  _PartInd_  \n",
       "0    39025.0     10.5    Other     HomeImp   13165.0        0.0  \n",
       "1    68400.0      7.0    Other     HomeImp   -1653.0        0.0  \n",
       "2    16700.0      4.0    Other     HomeImp    3200.0        0.0  \n",
       "3    89235.5      7.0    Other     DebtCon       NaN        0.0  \n",
       "4   112000.0      3.0   Office     HomeImp   14200.0        0.0  \n",
       "\n",
       "[5 rows x 28 columns]"
      ]
     },
     "execution_count": 10,
     "metadata": {},
     "output_type": "execute_result"
    }
   ],
   "source": [
    "castbl.head()"
   ]
  },
  {
   "cell_type": "markdown",
   "metadata": {},
   "source": [
    "## Promote the table to public memory"
   ]
  },
  {
   "cell_type": "code",
   "execution_count": 11,
   "metadata": {
    "collapsed": false
   },
   "outputs": [],
   "source": [
    "# This allows me to share my data across sessions and with other colleagues\n",
    "conn.promote(name = castbl, targetlib = 'public', target = 'hmeq_prepped')"
   ]
  },
  {
   "cell_type": "markdown",
   "metadata": {},
   "source": [
    "## Ensure that everything worked as intended"
   ]
  },
  {
   "cell_type": "code",
   "execution_count": 12,
   "metadata": {
    "collapsed": false
   },
   "outputs": [
    {
     "data": {
      "text/html": [
       "<div>\n",
       "<table border=\"1\" class=\"dataframe\">\n",
       "  <thead>\n",
       "    <tr style=\"text-align: right;\">\n",
       "      <th title=\"\"></th>\n",
       "      <th title=\"Name\">Name</th>\n",
       "      <th title=\"Rows\">Rows</th>\n",
       "      <th title=\"Columns\">Columns</th>\n",
       "      <th title=\"Encoding\">Encoding</th>\n",
       "      <th title=\"Created\">CreateTimeFormatted</th>\n",
       "      <th title=\"Last Modified\">ModTimeFormatted</th>\n",
       "      <th title=\"Character Set\">JavaCharSet</th>\n",
       "      <th title=\"CreateTime\">CreateTime</th>\n",
       "      <th title=\"ModTime\">ModTime</th>\n",
       "      <th title=\"Global\">Global</th>\n",
       "      <th title=\"Repeated\">Repeated</th>\n",
       "      <th title=\"View\">View</th>\n",
       "      <th title=\"Loaded Source\">SourceName</th>\n",
       "      <th title=\"Source Caslib\">SourceCaslib</th>\n",
       "      <th title=\"Compressed\">Compressed</th>\n",
       "      <th title=\"Table Creator\">Creator</th>\n",
       "      <th title=\"Last Table Modifier\">Modifier</th>\n",
       "    </tr>\n",
       "  </thead>\n",
       "  <tbody>\n",
       "    <tr>\n",
       "      <th>7</th>\n",
       "      <td>HMEQ_PREPPED</td>\n",
       "      <td>5960</td>\n",
       "      <td>28</td>\n",
       "      <td>utf-8</td>\n",
       "      <td>01Aug2017:21:17:11</td>\n",
       "      <td>01Aug2017:21:17:11</td>\n",
       "      <td>UTF8</td>\n",
       "      <td>1.817241e+09</td>\n",
       "      <td>1.817241e+09</td>\n",
       "      <td>1</td>\n",
       "      <td>0</td>\n",
       "      <td>0</td>\n",
       "      <td></td>\n",
       "      <td></td>\n",
       "      <td>0</td>\n",
       "      <td>jelueb</td>\n",
       "      <td></td>\n",
       "    </tr>\n",
       "  </tbody>\n",
       "</table>\n",
       "</div>"
      ],
      "text/plain": [
       "           Name  Rows  Columns Encoding CreateTimeFormatted  \\\n",
       "7  HMEQ_PREPPED  5960       28    utf-8  01Aug2017:21:17:11   \n",
       "\n",
       "     ModTimeFormatted JavaCharSet    CreateTime       ModTime  Global  \\\n",
       "7  01Aug2017:21:17:11        UTF8  1.817241e+09  1.817241e+09       1   \n",
       "\n",
       "   Repeated  View SourceName SourceCaslib  Compressed Creator Modifier  \n",
       "7         0     0                                   0  jelueb           "
      ]
     },
     "execution_count": 12,
     "metadata": {},
     "output_type": "execute_result"
    }
   ],
   "source": [
    "# Verify that hmeq_prepped has made it into the public caslib\n",
    "conn.tableinfo(caslib = 'public')['TableInfo'].query('Name == \"HMEQ_PREPPED\"')"
   ]
  },
  {
   "cell_type": "code",
   "execution_count": 13,
   "metadata": {
    "collapsed": false
   },
   "outputs": [
    {
     "data": {
      "text/html": [
       "<div class=\"cas-output-area\"></div>\n",
       "<p class=\"cas-results-performance\"><small><span class=\"cas-elapsed\">elapsed 0.00457s</span> &#183; <span class=\"cas-user\">user 0.001s</span> &#183; <span class=\"cas-sys\">sys 0.005s</span> &#183; <span class=\"cas-memory\">mem 0.114MB</span></small></p>"
      ],
      "text/plain": [
       "+ Elapsed: 0.00457s, user: 0.001s, sys: 0.005s, mem: 0.114mb"
      ]
     },
     "execution_count": 13,
     "metadata": {},
     "output_type": "execute_result"
    }
   ],
   "source": [
    "# End the session\n",
    "conn.endsession()"
   ]
  }
 ],
 "metadata": {
  "anaconda-cloud": {},
  "kernelspec": {
   "display_name": "Python [Root]",
   "language": "python",
   "name": "Python [Root]"
  },
  "language_info": {
   "codemirror_mode": {
    "name": "ipython",
    "version": 3
   },
   "file_extension": ".py",
   "mimetype": "text/x-python",
   "name": "python",
   "nbconvert_exporter": "python",
   "pygments_lexer": "ipython3",
   "version": "3.5.2"
  },
  "nbpresent": {
   "slides": {
    "030bd4f0-cc10-4f7d-b57c-a9fabae235ea": {
     "id": "030bd4f0-cc10-4f7d-b57c-a9fabae235ea",
     "prev": "0a186647-1c1e-4155-baee-f6444fa594eb",
     "regions": {
      "90c1426b-39af-47ab-8690-1f9f8f82c895": {
       "attrs": {
        "height": 0.8,
        "width": 0.8,
        "x": 0.1,
        "y": 0.1
       },
       "content": {
        "cell": "23161e84-52d8-4f55-92cd-696b151c5b45",
        "part": "whole"
       },
       "id": "90c1426b-39af-47ab-8690-1f9f8f82c895"
      }
     }
    },
    "06f0ceb0-a5bf-4c4d-9d3d-06c30d31c2ed": {
     "id": "06f0ceb0-a5bf-4c4d-9d3d-06c30d31c2ed",
     "prev": "3941b7e7-7329-419f-ba1d-ae19a0a441df",
     "regions": {
      "98250a28-84df-47ae-b0e1-56df785edab4": {
       "attrs": {
        "height": 0.8,
        "width": 0.8,
        "x": 0.1,
        "y": 0.1
       },
       "content": {
        "cell": "e41c723f-4128-490f-a10e-041f3c4c1178",
        "part": "whole"
       },
       "id": "98250a28-84df-47ae-b0e1-56df785edab4"
      },
      "c94b85e4-7131-47a0-9a1c-f191bcb43c6c": {
       "attrs": {
        "height": 0.4,
        "width": 0.8,
        "x": 0.1,
        "y": 0.5
       },
       "content": {
        "cell": "7e7f00e3-94ff-45eb-8010-e850782378f7",
        "part": "whole"
       },
       "id": "c94b85e4-7131-47a0-9a1c-f191bcb43c6c"
      }
     }
    },
    "0a186647-1c1e-4155-baee-f6444fa594eb": {
     "id": "0a186647-1c1e-4155-baee-f6444fa594eb",
     "prev": "1569c5c1-f125-49e0-b130-2da7206af93c",
     "regions": {
      "56d8a7ae-3206-4d1a-a8d3-ded42fb4cf55": {
       "attrs": {
        "height": 0.8,
        "width": 0.8,
        "x": 0.1,
        "y": 0.1
       },
       "content": null,
       "id": "56d8a7ae-3206-4d1a-a8d3-ded42fb4cf55"
      }
     }
    },
    "1569c5c1-f125-49e0-b130-2da7206af93c": {
     "id": "1569c5c1-f125-49e0-b130-2da7206af93c",
     "prev": null,
     "regions": {
      "d147245f-45ce-455f-a865-9a89d442236c": {
       "attrs": {
        "height": 0.8,
        "width": 0.8,
        "x": 0.1,
        "y": 0.1
       },
       "content": {
        "cell": "443b3b11-c92f-4c66-8731-8044813742c0",
        "part": "whole"
       },
       "id": "d147245f-45ce-455f-a865-9a89d442236c"
      }
     }
    },
    "193db271-de91-429f-b9ef-660acf5e3503": {
     "id": "193db271-de91-429f-b9ef-660acf5e3503",
     "prev": "e0bab9f9-020a-40a7-9536-c62d4a8fa315",
     "regions": {
      "094880cf-2d01-4c35-a028-e209d5e4590a": {
       "attrs": {
        "height": 0.4,
        "width": 0.8,
        "x": 0.1,
        "y": 0.5
       },
       "content": {
        "cell": "1fdacafc-5783-44c3-ad7f-4752633ae23b",
        "part": "whole"
       },
       "id": "094880cf-2d01-4c35-a028-e209d5e4590a"
      },
      "299de44e-15ce-4814-b439-72eb4401ac06": {
       "attrs": {
        "height": 0.8,
        "width": 0.8,
        "x": 0.1,
        "y": 0.1
       },
       "content": {
        "cell": "01cd068f-7c36-430c-9ea3-35d5e8a9cde7",
        "part": "whole"
       },
       "id": "299de44e-15ce-4814-b439-72eb4401ac06"
      }
     }
    },
    "3941b7e7-7329-419f-ba1d-ae19a0a441df": {
     "id": "3941b7e7-7329-419f-ba1d-ae19a0a441df",
     "prev": "e0e60236-1984-4d0d-b2c8-106c894bd86e",
     "regions": {
      "06ed1f87-7f84-427a-8bd7-cce8e07e459e": {
       "attrs": {
        "height": 0.4,
        "width": 0.8,
        "x": 0.1,
        "y": 0.5
       },
       "content": {
        "cell": "d6d741fd-13e0-479d-b9fa-d66e45004266",
        "part": "whole"
       },
       "id": "06ed1f87-7f84-427a-8bd7-cce8e07e459e"
      },
      "906ce82b-6448-4ff8-b6dc-20ad46b5634f": {
       "attrs": {
        "height": 0.8,
        "width": 0.8,
        "x": 0.1,
        "y": 0.1
       },
       "content": {
        "cell": "9a07405c-9de4-4f27-942e-8184d4db7f64",
        "part": "whole"
       },
       "id": "906ce82b-6448-4ff8-b6dc-20ad46b5634f"
      },
      "b888d4ea-e583-4e60-8f09-c4e4f0e1e08a": {
       "attrs": {
        "height": 0.4,
        "width": 0.8,
        "x": 0.1,
        "y": 0.5
       },
       "content": {
        "cell": "a1d73e11-1c9e-4655-9210-b9024f5c58d4",
        "part": "whole"
       },
       "id": "b888d4ea-e583-4e60-8f09-c4e4f0e1e08a"
      }
     }
    },
    "57dd84fc-cd21-494e-b068-5c600f2d2456": {
     "id": "57dd84fc-cd21-494e-b068-5c600f2d2456",
     "prev": "652e4030-84b6-415b-a48e-cc6144f3771d",
     "regions": {
      "798ec311-bc2c-4fe5-9353-ff0aa2c80f98": {
       "attrs": {
        "height": 0.4,
        "width": 0.8,
        "x": 0.1,
        "y": 0.5
       },
       "content": {
        "cell": "cf155931-7c71-49da-abc5-9a4db77bec4a",
        "part": "whole"
       },
       "id": "798ec311-bc2c-4fe5-9353-ff0aa2c80f98"
      },
      "94b2646d-db70-4c06-9bda-f992e691ec39": {
       "attrs": {
        "height": 0.8,
        "width": 0.8,
        "x": 0.1,
        "y": 0.1
       },
       "content": {
        "cell": "fdc4e4b3-a0d2-4daa-9275-05bda7f54f4f",
        "part": "whole"
       },
       "id": "94b2646d-db70-4c06-9bda-f992e691ec39"
      }
     }
    },
    "652e4030-84b6-415b-a48e-cc6144f3771d": {
     "id": "652e4030-84b6-415b-a48e-cc6144f3771d",
     "prev": "a9ac6c5f-446c-4380-b530-677808ca4ca2",
     "regions": {
      "1dbd495a-9f45-42fa-8ae4-70a9a0618e90": {
       "attrs": {
        "height": 0.8,
        "width": 0.8,
        "x": 0.1,
        "y": 0.1
       },
       "content": {
        "cell": "0ec3114b-8ac6-402b-bb7c-04a3449b1fdb",
        "part": "whole"
       },
       "id": "1dbd495a-9f45-42fa-8ae4-70a9a0618e90"
      },
      "f28a0d9c-55bf-4b0f-bc03-2bf84b64323f": {
       "attrs": {
        "height": 0.4,
        "width": 0.8,
        "x": 0.1,
        "y": 0.5
       },
       "content": {
        "cell": "2191d3a8-741c-4064-868b-47aa3fe4b929",
        "part": "whole"
       },
       "id": "f28a0d9c-55bf-4b0f-bc03-2bf84b64323f"
      },
      "fc5d8310-05cf-478b-bb4e-bdcdce7b67cf": {
       "attrs": {
        "height": 0.4,
        "width": 0.8,
        "x": 0.1,
        "y": 0.5
       },
       "content": {
        "cell": "889d11ae-9c41-48d6-a64a-bdc569efdc8c",
        "part": "whole"
       },
       "id": "fc5d8310-05cf-478b-bb4e-bdcdce7b67cf"
      }
     }
    },
    "787db817-0ae7-4a99-9ac4-1c66978c4385": {
     "id": "787db817-0ae7-4a99-9ac4-1c66978c4385",
     "prev": "193db271-de91-429f-b9ef-660acf5e3503",
     "regions": {
      "ac2f4765-43f4-465d-be19-6286c2e0edfa": {
       "attrs": {
        "height": 0.4,
        "width": 0.8,
        "x": 0.1,
        "y": 0.5
       },
       "content": {
        "cell": "21bb57d1-0d13-49ae-8d41-37dd5883e9dd",
        "part": "whole"
       },
       "id": "ac2f4765-43f4-465d-be19-6286c2e0edfa"
      },
      "df81957e-bdd6-41bf-ba63-8d4ad8b17f28": {
       "attrs": {
        "height": 0.8,
        "width": 0.8,
        "x": 0.1,
        "y": 0.1
       },
       "content": {
        "cell": "4a9c06c6-461f-46d9-ac1d-019ba1d779ad",
        "part": "whole"
       },
       "id": "df81957e-bdd6-41bf-ba63-8d4ad8b17f28"
      }
     }
    },
    "903077e7-efe7-4c84-bca4-69d064f829ae": {
     "id": "903077e7-efe7-4c84-bca4-69d064f829ae",
     "prev": "9dade49e-03e5-4433-afcd-5cd51ff4caa0",
     "regions": {
      "1a648e78-1b52-4c91-b501-5ff4a42e3363": {
       "attrs": {
        "height": 0.8,
        "width": 0.8,
        "x": 0.1,
        "y": 0.1
       },
       "content": {
        "cell": "830de82c-9ad0-4d32-b0cb-2e9d6197ef00",
        "part": "whole"
       },
       "id": "1a648e78-1b52-4c91-b501-5ff4a42e3363"
      },
      "387a96e6-1771-4214-bf91-04e7e2fc43a0": {
       "attrs": {
        "height": 0.4,
        "width": 0.8,
        "x": 0.1,
        "y": 0.5
       },
       "content": {
        "cell": "4fc057e8-737a-4209-8f5d-0b9f1c2847c5",
        "part": "whole"
       },
       "id": "387a96e6-1771-4214-bf91-04e7e2fc43a0"
      }
     }
    },
    "9dade49e-03e5-4433-afcd-5cd51ff4caa0": {
     "id": "9dade49e-03e5-4433-afcd-5cd51ff4caa0",
     "prev": "787db817-0ae7-4a99-9ac4-1c66978c4385",
     "regions": {
      "907b005e-b91e-4d6f-8b59-9a0900b1a7db": {
       "attrs": {
        "height": 0.8,
        "width": 0.8,
        "x": 0.1,
        "y": 0.1
       },
       "content": {
        "cell": "4efa5030-de17-49ce-ab52-d74ead65b25e",
        "part": "whole"
       },
       "id": "907b005e-b91e-4d6f-8b59-9a0900b1a7db"
      },
      "fa512459-b7b8-4c5e-94b5-5412a32f0b3d": {
       "attrs": {
        "height": 0.4,
        "width": 0.8,
        "x": 0.1,
        "y": 0.5
       },
       "content": {
        "cell": "96123696-1a29-4a94-ae88-987c80634701",
        "part": "whole"
       },
       "id": "fa512459-b7b8-4c5e-94b5-5412a32f0b3d"
      }
     }
    },
    "a9ac6c5f-446c-4380-b530-677808ca4ca2": {
     "id": "a9ac6c5f-446c-4380-b530-677808ca4ca2",
     "prev": "903077e7-efe7-4c84-bca4-69d064f829ae",
     "regions": {
      "58ee868b-7a07-4b4d-aade-7aa5b0a51a19": {
       "attrs": {
        "height": 0.4,
        "width": 0.8,
        "x": 0.1,
        "y": 0.5
       },
       "content": {
        "cell": "18aa0394-3bfb-4fad-8b91-fc0fef852a2b",
        "part": "whole"
       },
       "id": "58ee868b-7a07-4b4d-aade-7aa5b0a51a19"
      },
      "e9942074-1132-4794-ba92-d8fef2dd5d45": {
       "attrs": {
        "height": 0.8,
        "width": 0.8,
        "x": 0.1,
        "y": 0.1
       },
       "content": {
        "cell": "527898bc-6c07-43a3-81cf-6a5dceb4cd91",
        "part": "whole"
       },
       "id": "e9942074-1132-4794-ba92-d8fef2dd5d45"
      }
     }
    },
    "e0bab9f9-020a-40a7-9536-c62d4a8fa315": {
     "id": "e0bab9f9-020a-40a7-9536-c62d4a8fa315",
     "prev": "f6dc6d41-3400-4cd7-829f-0c6f43968cd9",
     "regions": {
      "4058fd19-1d57-4e91-bdb7-619a31136564": {
       "attrs": {
        "height": 0.4,
        "width": 0.8,
        "x": 0.1,
        "y": 0.5
       },
       "content": {
        "cell": "f613ed8e-de90-4ada-ac8f-76cd75385bfd",
        "part": "whole"
       },
       "id": "4058fd19-1d57-4e91-bdb7-619a31136564"
      },
      "5312a1ca-524c-49ee-b4a6-eb700d405787": {
       "attrs": {
        "height": 0.8,
        "width": 0.8,
        "x": 0.1,
        "y": 0.1
       },
       "content": {
        "cell": "78b70fb9-46bd-4463-a8b3-15d637867705",
        "part": "whole"
       },
       "id": "5312a1ca-524c-49ee-b4a6-eb700d405787"
      }
     }
    },
    "e0e60236-1984-4d0d-b2c8-106c894bd86e": {
     "id": "e0e60236-1984-4d0d-b2c8-106c894bd86e",
     "prev": "030bd4f0-cc10-4f7d-b57c-a9fabae235ea",
     "regions": {
      "2954c09d-da88-45a6-9828-fc1e177f443a": {
       "attrs": {
        "height": 0.4,
        "width": 0.8,
        "x": 0.1,
        "y": 0.5
       },
       "content": {
        "cell": "9a66be0a-4683-4a63-a1da-256ba46f660c",
        "part": "whole"
       },
       "id": "2954c09d-da88-45a6-9828-fc1e177f443a"
      },
      "c93f21b5-b294-41f0-a9d0-d1f2833e6a94": {
       "attrs": {
        "height": 0.8,
        "width": 0.8,
        "x": 0.1,
        "y": 0.1
       },
       "content": {
        "cell": "61da6a05-dd61-4116-ab51-3f73824e5b14",
        "part": "whole"
       },
       "id": "c93f21b5-b294-41f0-a9d0-d1f2833e6a94"
      }
     }
    },
    "e1c65956-3295-46c7-b73a-b98e031d5be5": {
     "id": "e1c65956-3295-46c7-b73a-b98e031d5be5",
     "prev": "f94a88b7-9c35-47d5-b3e1-39333e6694c5",
     "regions": {
      "231e5ef0-6c11-45ad-abb7-0b964bdbcf36": {
       "attrs": {
        "height": 0.4,
        "width": 0.8,
        "x": 0.1,
        "y": 0.5
       },
       "content": {
        "cell": "bc835812-e0b8-460a-85f2-080e6388c67e",
        "part": "whole"
       },
       "id": "231e5ef0-6c11-45ad-abb7-0b964bdbcf36"
      },
      "b57edf07-b355-44c7-8d9c-a57fda916faf": {
       "attrs": {
        "height": 0.8,
        "width": 0.8,
        "x": 0.1,
        "y": 0.1
       },
       "content": {
        "cell": "77b5d276-db06-46b7-97dd-d8597628a23a",
        "part": "whole"
       },
       "id": "b57edf07-b355-44c7-8d9c-a57fda916faf"
      },
      "f96d1276-f6a4-410e-b836-e23c1b172624": {
       "attrs": {
        "height": 0.4,
        "width": 0.8,
        "x": 0.1,
        "y": 0.5
       },
       "content": {
        "cell": "0340640e-4d98-47cc-9cfd-2f5ab988db67",
        "part": "whole"
       },
       "id": "f96d1276-f6a4-410e-b836-e23c1b172624"
      }
     }
    },
    "f6dc6d41-3400-4cd7-829f-0c6f43968cd9": {
     "id": "f6dc6d41-3400-4cd7-829f-0c6f43968cd9",
     "prev": "06f0ceb0-a5bf-4c4d-9d3d-06c30d31c2ed",
     "regions": {
      "3e3aea15-7e5c-4ea4-8708-4698289edbe6": {
       "attrs": {
        "height": 0.8,
        "width": 0.8,
        "x": 0.1,
        "y": 0.1
       },
       "content": {
        "cell": "d1698087-708a-4540-aae1-6a4c2e243bfb",
        "part": "whole"
       },
       "id": "3e3aea15-7e5c-4ea4-8708-4698289edbe6"
      },
      "df3c2143-7cf3-4966-ad56-27131cbf6716": {
       "attrs": {
        "height": 0.4,
        "width": 0.8,
        "x": 0.1,
        "y": 0.5
       },
       "content": {
        "cell": "61905f8f-3774-442f-a2f4-26cfe604c899",
        "part": "whole"
       },
       "id": "df3c2143-7cf3-4966-ad56-27131cbf6716"
      }
     }
    },
    "f94a88b7-9c35-47d5-b3e1-39333e6694c5": {
     "id": "f94a88b7-9c35-47d5-b3e1-39333e6694c5",
     "prev": "57dd84fc-cd21-494e-b068-5c600f2d2456",
     "regions": {
      "63ef95b4-3a85-4a21-947a-bfc0aadbd6c4": {
       "attrs": {
        "height": 0.8,
        "width": 0.8,
        "x": 0.1,
        "y": 0.1
       },
       "content": {
        "cell": "35e39587-6272-4ebb-8339-c1fd75a44b39",
        "part": "whole"
       },
       "id": "63ef95b4-3a85-4a21-947a-bfc0aadbd6c4"
      },
      "9c5ee4da-3e04-4a30-b82a-7528d1bf6c47": {
       "attrs": {
        "height": 0.4,
        "width": 0.8,
        "x": 0.1,
        "y": 0.5
       },
       "content": {
        "cell": "fd13b97f-8eaf-4bc5-885b-b04e1b03aebe",
        "part": "whole"
       },
       "id": "9c5ee4da-3e04-4a30-b82a-7528d1bf6c47"
      }
     }
    }
   },
   "themes": {
    "default": "8e4ddc42-183e-4ba2-b60f-6dc5ce186ba8",
    "theme": {}
   }
  }
 },
 "nbformat": 4,
 "nbformat_minor": 0
}
