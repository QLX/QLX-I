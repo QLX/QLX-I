{
 "cells": [
  {
   "cell_type": "markdown",
   "metadata": {},
   "source": [
    "# Overview\n",
    "This is a simple end to end example of how you can use SAS Viya for analysis\n",
    "The example follows these steps:\n",
    "1. Importing the needed R packages\n",
    "1. Starting a CAS session on an already running CAS server\n",
    "1. Load the needed CAS Action Sets\n",
    "1. Loading data from the local file system to the CAS server\n",
    "1. Explore the data\n",
    "1. Impute missing values\n",
    "1. Partition the data into training and validation partitions\n",
    "1. Build a decision tree\n",
    "1. Build a neural network\n",
    "1. Build a decision forest\n",
    "1. Build a gradient boost\n",
    "1. Assess the models\n",
    "1. Build ROC charts"
   ]
  },
  {
   "cell_type": "markdown",
   "metadata": {},
   "source": [
    "# Set Up the R Notebook for Analysis\n",
    "\n",
    "\n",
    "## Documentation Links:\n",
    "* [SAS® Viya™ 3.2: System Programming Guide](http://go.documentation.sas.com/?cdcId=vdmmlcdc&cdcVersion=8.11&docsetId=caspg&docsetTarget=titlepage.htm)\n",
    "* [Getting Started with SAS® Viya™ 3.2 for R](http://go.documentation.sas.com/?cdcId=vdmmlcdc&cdcVersion=8.11&docsetId=caspg3r&docsetTarget=titlepage.htm&locale=en)\n",
    "\n",
    "Load the needed packages to complete analysis"
   ]
  },
  {
   "cell_type": "code",
   "execution_count": null,
   "metadata": {
    "collapsed": false
   },
   "outputs": [],
   "source": [
    "# Load necessary packages\n",
    "library('swat')\n",
    "library('ggplot2')\n",
    "library('reshape2')\n",
    "options(cas.print.messages = FALSE)"
   ]
  },
  {
   "cell_type": "markdown",
   "metadata": {},
   "source": [
    "# Connect to CAS\n",
    "\n",
    "* Documentation to [Connect and Start a Session](http://go.documentation.sas.com/?cdcId=vdmmlcdc&cdcVersion=8.11&docsetId=caspg3r&docsetTarget=p0paczu3x2qu0wn1p94ees7y5ls8.htm&locale=en)\n",
    "\n",
    "This is the simpliest way to connect to CAS for more details see the [documentation] "
   ]
  },
  {
   "cell_type": "code",
   "execution_count": null,
   "metadata": {
    "collapsed": false
   },
   "outputs": [],
   "source": [
    "conn <- CAS('localhost', 5570)"
   ]
  },
  {
   "cell_type": "markdown",
   "metadata": {},
   "source": [
    "# Load Actionsets\n",
    "\n",
    "* Documentation for [How to Run Actions](http://go.documentation.sas.com/?cdcId=vdmmlcdc&cdcVersion=8.11&docsetId=caspg3r&docsetTarget=p11zy53gvlofvsn1glguw9vuuhru.htm&locale=en)"
   ]
  },
  {
   "cell_type": "code",
   "execution_count": null,
   "metadata": {
    "collapsed": false
   },
   "outputs": [],
   "source": [
    "actionsets <- c('sampling', 'fedsql', 'decisionTree', 'neuralNet', 'percentile')\n",
    "for(i in actionsets){\n",
    "    loadActionSet(conn, i)\n",
    "}"
   ]
  },
  {
   "cell_type": "markdown",
   "metadata": {},
   "source": [
    "# Load data from CSV\n",
    "For this trial you cannot add files to the system"
   ]
  },
  {
   "cell_type": "code",
   "execution_count": null,
   "metadata": {
    "collapsed": false
   },
   "outputs": [],
   "source": [
    "castbl <- cas.read.csv(conn, 'http://support.sas.com/documentation/onlinedoc/viya/exampledatasets/hmeq.csv')"
   ]
  },
  {
   "cell_type": "markdown",
   "metadata": {},
   "source": [
    "# Explore the data"
   ]
  },
  {
   "cell_type": "code",
   "execution_count": null,
   "metadata": {
    "collapsed": false
   },
   "outputs": [],
   "source": [
    "head(castbl)"
   ]
  },
  {
   "cell_type": "code",
   "execution_count": null,
   "metadata": {
    "collapsed": false
   },
   "outputs": [],
   "source": [
    "summary(castbl)"
   ]
  },
  {
   "cell_type": "markdown",
   "metadata": {},
   "source": [
    "## Visualize Numeric Variables"
   ]
  },
  {
   "cell_type": "code",
   "execution_count": null,
   "metadata": {
    "collapsed": false
   },
   "outputs": [],
   "source": [
    "# Bring data locally\n",
    "df <- to.casDataFrame(castbl, obs = nrow(castbl))\n",
    "# Use reshape2's melt to help with data formatting\n",
    "d <- melt(df[sapply(df, is.numeric)], id.vars=NULL)\n",
    "ggplot(d, aes(x = value)) +\n",
    "    facet_wrap(~variable,scales = 'free_x') +\n",
    "    geom_histogram(fill = 'blue', bins = 25)"
   ]
  },
  {
   "cell_type": "markdown",
   "metadata": {},
   "source": [
    "## Count Missing Values"
   ]
  },
  {
   "cell_type": "code",
   "execution_count": null,
   "metadata": {
    "collapsed": false
   },
   "outputs": [],
   "source": [
    "# Get the number of missing values for all variables\n",
    "tbl <- cas.simple.distinct(castbl)$Distinct[,c('Column', 'NMiss')]\n",
    "tbl\n"
   ]
  },
  {
   "cell_type": "code",
   "execution_count": null,
   "metadata": {
    "collapsed": false
   },
   "outputs": [],
   "source": [
    "# Easy way to get missing values for numeric variables\n",
    "cas.nmiss(castbl)"
   ]
  },
  {
   "cell_type": "code",
   "execution_count": null,
   "metadata": {
    "collapsed": false
   },
   "outputs": [],
   "source": [
    "# Visualize the missing data\n",
    "tbl$PctMiss <- tbl$NMiss/nrow(castbl)\n",
    "ggplot(tbl, aes(Column, PctMiss)) +\n",
    "    geom_col(fill = 'blue') +\n",
    "    ggtitle('Pct Missing Values') +\n",
    "    theme(plot.title = element_text(hjust = 0.5))"
   ]
  },
  {
   "cell_type": "markdown",
   "metadata": {},
   "source": [
    "# Impute Missing Values"
   ]
  },
  {
   "cell_type": "code",
   "execution_count": null,
   "metadata": {
    "collapsed": false
   },
   "outputs": [],
   "source": [
    "# Impute missing values\n",
    "cas.dataPreprocess.impute(castbl,\n",
    "    methodContinuous = 'MEDIAN',\n",
    "    methodNominal = 'MODE',\n",
    "    inputs = colnames(castbl)[-1],\n",
    "    copyAllVars = TRUE,\n",
    "    casOut = list(name = 'hmeq', \n",
    "                replace = TRUE)\n",
    ")"
   ]
  },
  {
   "cell_type": "markdown",
   "metadata": {},
   "source": [
    "# Partition the data into Training and Validation"
   ]
  },
  {
   "cell_type": "code",
   "execution_count": null,
   "metadata": {
    "collapsed": false
   },
   "outputs": [],
   "source": [
    "# Partition the data\n",
    "cas.sampling.srs(conn,\n",
    "    table = 'hmeq',\n",
    "    samppct = 30,\n",
    "    partind = TRUE,\n",
    "    output = list(casOut = list(name = 'hmeq', replace = T), copyVars = 'ALL')\n",
    ")"
   ]
  },
  {
   "cell_type": "markdown",
   "metadata": {},
   "source": [
    "# Variable Mapping\n",
    "Define varibles with generic labels and reuse between model calls"
   ]
  },
  {
   "cell_type": "code",
   "execution_count": null,
   "metadata": {
    "collapsed": false
   },
   "outputs": [],
   "source": [
    "#Note: I do not want to hard code any of my variable names.\n",
    "indata <- 'hmeq'\n",
    "\n",
    "# Get variable info and types\n",
    "colinfo <- head(cas.table.columnInfo(conn, table = indata)$ColumnInfo, -1)\n",
    "\n",
    "# My target variable is the first column\n",
    "target <- colinfo$Column[1]\n",
    "\n",
    "# For models that can inherently handle missing values (ex: Decision Tree)\n",
    "inputs <- colinfo$Column[-1]\n",
    "nominals <- c(target, subset(colinfo, Type == 'varchar')$Column)\n",
    "\n",
    "# For models that cannot handle missing values (ex: Neural Network)\n",
    "imp.inputs <- grep('IMP_', inputs, value = T)\n",
    "imp.nominals <- c(target, grep('IMP_', nominals, value = T))"
   ]
  },
  {
   "cell_type": "markdown",
   "metadata": {},
   "source": [
    "# Build Models"
   ]
  },
  {
   "cell_type": "markdown",
   "metadata": {},
   "source": [
    "## Decision Tree"
   ]
  },
  {
   "cell_type": "code",
   "execution_count": null,
   "metadata": {
    "collapsed": false
   },
   "outputs": [],
   "source": [
    "cas.decisionTree.dtreeTrain(conn,\n",
    "    table = list(name = indata, where = '_PartInd_ = 0'),\n",
    "    target = target,\n",
    "    inputs = inputs,\n",
    "    nominals = nominals,\n",
    "    varImp = TRUE,\n",
    "    casOut = list(name = 'dt_model', replace = TRUE)\n",
    ")"
   ]
  },
  {
   "cell_type": "markdown",
   "metadata": {},
   "source": [
    "## Forest"
   ]
  },
  {
   "cell_type": "code",
   "execution_count": null,
   "metadata": {
    "collapsed": false
   },
   "outputs": [],
   "source": [
    "# Train the forest model\n",
    "cas.decisionTree.forestTrain(conn,\n",
    "    table = list(name = indata, where = '_PartInd_ = 0'),\n",
    "    target = target,\n",
    "    inputs = inputs,\n",
    "    nominals = nominals,\n",
    "    casOut = list(name = 'rf_model', replace = TRUE)\n",
    ")"
   ]
  },
  {
   "cell_type": "markdown",
   "metadata": {},
   "source": [
    "## Gradient Boosting"
   ]
  },
  {
   "cell_type": "code",
   "execution_count": null,
   "metadata": {
    "collapsed": false
   },
   "outputs": [],
   "source": [
    "cas.decisionTree.gbtreeTrain(conn,\n",
    "    table = list(name = indata, where = '_PartInd_ = 0'),\n",
    "    target = target,\n",
    "    inputs = inputs,\n",
    "    nominals = nominals,\n",
    "    casOut = list(name = 'gbt_model', replace = TRUE)\n",
    ")"
   ]
  },
  {
   "cell_type": "markdown",
   "metadata": {},
   "source": [
    "## Neural Network"
   ]
  },
  {
   "cell_type": "code",
   "execution_count": null,
   "metadata": {
    "collapsed": false
   },
   "outputs": [],
   "source": [
    "cas.neuralNet.annTrain(conn,\n",
    "    table = list(name = indata, where = '_PartInd_ = 0'),\n",
    "    target = target,\n",
    "    inputs = imp.inputs,\n",
    "    hidden = 7,\n",
    "    nominals = imp.nominals,\n",
    "    casOut = list(name = 'nn_model', replace = TRUE)\n",
    ")"
   ]
  },
  {
   "cell_type": "markdown",
   "metadata": {},
   "source": [
    "# Score the Models"
   ]
  },
  {
   "cell_type": "code",
   "execution_count": null,
   "metadata": {
    "collapsed": false
   },
   "outputs": [],
   "source": [
    "models <- c('dt','rf','gbt','nn')\n",
    "scores <- c(cas.decisionTree.dtreeScore, cas.decisionTree.forestScore, \n",
    "            cas.decisionTree.gbtreeScore, cas.neuralNet.annScore)\n",
    "names(scores) <- models\n",
    "\n",
    "# Function to help automate prediction process on new data\n",
    "score.params <- function(model){return(list(\n",
    "    object       = defCasTable(conn, indata),\n",
    "    modelTable   = list(name = paste0(model, '_model')),\n",
    "    copyVars     = list(target, '_PartInd_'),\n",
    "    assessonerow = TRUE,\n",
    "    casOut       = list(name = paste0(model, '_scored'), replace = T)\n",
    "))}\n",
    "lapply(models, function(x) {do.call(scores[[x]], score.params(x))})"
   ]
  },
  {
   "cell_type": "markdown",
   "metadata": {},
   "source": [
    "# Assess Models"
   ]
  },
  {
   "cell_type": "markdown",
   "metadata": {},
   "source": [
    "## Confusion Matrix"
   ]
  },
  {
   "cell_type": "code",
   "execution_count": null,
   "metadata": {
    "collapsed": false
   },
   "outputs": [],
   "source": [
    "# Load the percentile actionset for scoring\n",
    "loadActionSet(conn, 'percentile')\n",
    "\n",
    "# Useful function for model assessment\n",
    "assess.model <- function(model){\n",
    "    cas.percentile.assess(conn,\n",
    "        table    = list(name = paste0(model,'_scored'), \n",
    "                        where = '_PartInd_ = 1'),\n",
    "        inputs   = paste0('_', model, '_P_           1'),\n",
    "        response = target,\n",
    "        event    = '1')\n",
    "}\n",
    "\n",
    "model.names <- c('Decision Tree', 'Random Forest', \n",
    "                 'Gradient Boosting', 'Neural Network')\n",
    "roc.df <- data.frame()\n",
    "for (i in 1:length(models)){\n",
    "    tmp <- (assess.model(models[i]))$ROCInfo\n",
    "    tmp$Model <- model.names[i] \n",
    "    roc.df <- rbind(roc.df, tmp)\n",
    "}\n",
    "\n",
    "# Manipulate the dataframe\n",
    "compare <- subset(roc.df, round(roc.df$CutOff, 2) == 0.5)\n",
    "rownames(compare) <- NULL\n",
    "compare[,c('Model','TP','FP','FN','TN')]"
   ]
  },
  {
   "cell_type": "markdown",
   "metadata": {},
   "source": [
    "## Misclassification"
   ]
  },
  {
   "cell_type": "code",
   "execution_count": null,
   "metadata": {
    "collapsed": false
   },
   "outputs": [],
   "source": [
    "# Build a dataframe to compare the misclassification rates\n",
    "compare$Misclassification <- 1 - compare$ACC\n",
    "miss <- compare[order(compare$Misclassification), c('Model','Misclassification')]\n",
    "rownames(miss) <- NULL\n",
    "miss"
   ]
  },
  {
   "cell_type": "markdown",
   "metadata": {},
   "source": [
    "## ROC"
   ]
  },
  {
   "cell_type": "code",
   "execution_count": null,
   "metadata": {
    "collapsed": false
   },
   "outputs": [],
   "source": [
    "# Add a new column to be used as the ROC curve label\n",
    "roc.df$Models <- paste(roc.df$Model, round(roc.df$C, 3), sep = ' - ')\n",
    "\n",
    "# Create the ROC curve\n",
    "ggplot(data = roc.df[c('FPR', 'Sensitivity', 'Models')],\n",
    "    aes(x = as.numeric(FPR), y = as.numeric(Sensitivity), colour = Models)) +\n",
    "    geom_line() +\n",
    "    labs(x = 'False Positive Rate', y = 'True Positive Rate')"
   ]
  },
  {
   "cell_type": "markdown",
   "metadata": {},
   "source": [
    "## End the session"
   ]
  },
  {
   "cell_type": "code",
   "execution_count": null,
   "metadata": {
    "collapsed": false
   },
   "outputs": [],
   "source": [
    "# End the session\n",
    "cas.session.endSession(conn)"
   ]
  },
  {
   "cell_type": "code",
   "execution_count": null,
   "metadata": {
    "collapsed": true
   },
   "outputs": [],
   "source": []
  }
 ],
 "metadata": {
  "kernelspec": {
   "display_name": "R",
   "language": "R",
   "name": "ir"
  },
  "language_info": {
   "codemirror_mode": "r",
   "file_extension": ".r",
   "mimetype": "text/x-r-source",
   "name": "R",
   "pygments_lexer": "r",
   "version": "3.4.1"
  }
 },
 "nbformat": 4,
 "nbformat_minor": 2
}
