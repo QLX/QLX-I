{
 "cells": [
  {
   "cell_type": "markdown",
   "metadata": {},
   "source": [
    "# Overview\n",
    " This is a simple end to end example of how you can use SAS Viya for analysis\n",
    " The example follows these steps:\n",
    "1. Starting a CAS session on an already running CAS server\n",
    "1. Loading data from the local file system to the CAS server\n",
    "1. Explore the data\n",
    "1. Impute missing values\n",
    "1. Partition the data into training, validation, and test partitions\n",
    "1. Build a decision tree model\n",
    "1. Build a gradient boost model\n",
    "1. Build a decision forest model\n",
    "1. Build a neural network model\n",
    "1. Assess the models\n",
    "1. Build ROC and Lift charts\n",
    "\n",
    "## Documentation\n",
    "* [SAS® Viya™ 3.2: System Programming Guide](http://go.documentation.sas.com/?cdcId=vdmmlcdc&cdcVersion=8.11&docsetId=caspg&docsetTarget=titlepage.htm)\n",
    "* [Getting Started with SAS® Visual Data Mining and Machine Learning 8.1](http://go.documentation.sas.com/?cdcId=vdmmlcdc&cdcVersion=8.11&docsetId=mlgs&docsetTarget=titlepage.htm&locale=en)"
   ]
  },
  {
   "cell_type": "markdown",
   "metadata": {},
   "source": [
    "## Start CAS session"
   ]
  },
  {
   "cell_type": "code",
   "execution_count": null,
   "metadata": {
    "collapsed": false
   },
   "outputs": [],
   "source": [
    "option casport=5570 cashost=\"localhost\";\n",
    "cas casauto;\n",
    "caslib _all_ assign;"
   ]
  },
  {
   "cell_type": "code",
   "execution_count": null,
   "metadata": {
    "collapsed": false
   },
   "outputs": [],
   "source": [
    "%let target          = bad;\n",
    "%let class_inputs    = reason job;\n",
    "%let class_vars      = &target &class_inputs;\n",
    "%let interval_inputs = im_clage clno im_debtinc loan mortdue value im_yoj im_ninq derog im_delinq;\n",
    "%let all_inputs      = &interval_inputs &class_inputs;\n",
    "\n",
    "%let indata = hmeq;\n"
   ]
  },
  {
   "cell_type": "code",
   "execution_count": null,
   "metadata": {
    "collapsed": false
   },
   "outputs": [],
   "source": [
    "filename hmeq url 'http://support.sas.com/documentation/onlinedoc/viya/exampledatasets/hmeq.csv'; \n",
    "libname mycas cas;\n",
    "proc import file=hmeq out=mycas.hmeq dbms=csv;\n",
    "run; "
   ]
  },
  {
   "cell_type": "markdown",
   "metadata": {},
   "source": [
    "## Explore and Impute missing values\n",
    "* Documentation [MDSUMMARY Procedure](http://go.documentation.sas.com/?cdcId=vdmmlcdc&cdcVersion=8.11&docsetId=casref&docsetTarget=n11ya1chrkoyykn17iewtol63xtx.htm&locale=en)"
   ]
  },
  {
   "cell_type": "code",
   "execution_count": null,
   "metadata": {
    "collapsed": false
   },
   "outputs": [],
   "source": [
    "proc mdsummary data = mycas.&indata.;\n",
    "  var _numeric_;\n",
    "  output out=mycas.summary1;\n",
    "run;\n",
    "proc print data=mycas.summary1;\n",
    "run;"
   ]
  },
  {
   "cell_type": "code",
   "execution_count": null,
   "metadata": {
    "collapsed": false
   },
   "outputs": [],
   "source": [
    "ods graphics;\n",
    "proc sgplot data = mycas.summary1;\n",
    "  vbar _column_ / response=_nmiss_;\n",
    "run;"
   ]
  },
  {
   "cell_type": "markdown",
   "metadata": {},
   "source": [
    "## Impute missing values\n",
    "* Documentation [VARIMPUTE Procedure](http://go.documentation.sas.com/?cdcId=vdmmlcdc&cdcVersion=8.11&docsetId=casstat&docsetTarget=viyastat_varimpute_toc.htm&locale=en)"
   ]
  },
  {
   "cell_type": "code",
   "execution_count": null,
   "metadata": {
    "collapsed": false
   },
   "outputs": [],
   "source": [
    "proc varimpute data=mycas.&indata.;\n",
    "  input clage       / ctech = mean;\n",
    "  input delinq      / ctech = median;\n",
    "  input ninq        / ctech = value cvalues=2;\n",
    "  input debtinc yoj / ctech = value cvalues=35.0, 7, 2;\n",
    "  output out=mycas.out COPYVARS=(_all_);\n",
    "run;"
   ]
  },
  {
   "cell_type": "markdown",
   "metadata": {},
   "source": [
    "## Partition data into Training, Validation, and Test\n",
    "* Documentation [PARTITION Procedure](http://go.documentation.sas.com/?cdcId=vdmmlcdc&cdcVersion=8.11&docsetId=casstat&docsetTarget=viyastat_partition_toc.htm&locale=en)"
   ]
  },
  {
   "cell_type": "code",
   "execution_count": null,
   "metadata": {
    "collapsed": false
   },
   "outputs": [],
   "source": [
    "%let part_data = hmeq_part;\n",
    "proc partition data = mycas.out partind samppct=30 samppct2=10;\n",
    "  target bad;\n",
    "  output out=mycas.&part_data copyvars=(_all_);\n",
    "run;"
   ]
  },
  {
   "cell_type": "markdown",
   "metadata": {},
   "source": [
    "## Decision Tree\n",
    "* Documentation [TREESPLIT Procedure](http://go.documentation.sas.com/?cdcId=vdmmlcdc&cdcVersion=8.11&docsetId=casstat&docsetTarget=viyastat_treesplit_toc.htm&locale=en)"
   ]
  },
  {
   "cell_type": "code",
   "execution_count": null,
   "metadata": {
    "collapsed": false
   },
   "outputs": [],
   "source": [
    "proc treesplit data=mycas.&part_data.\n",
    "                outmodel=mycas.model_treesplit;\n",
    "  autotune;\n",
    "  target &target. / level=nominal;\n",
    "  input &class_inputs. / level=nominal;\n",
    "  input &interval_inputs. / level=interval;\n",
    "  partition rolevar = _partind_(train='0' valid='1' test='2');\n",
    "  output out=mycas._scored_treesplit copyvars=(_partind_ &target.);\n",
    "run;"
   ]
  },
  {
   "cell_type": "markdown",
   "metadata": {},
   "source": [
    "## Gradient Boosting\n",
    "* Documentation [GRADBOOST Procedure](http://go.documentation.sas.com/?cdcId=vdmmlcdc&cdcVersion=8.11&docsetId=casml&docsetTarget=viyaml_gradboost_toc.htm&locale=en)"
   ]
  },
  {
   "cell_type": "code",
   "execution_count": null,
   "metadata": {
    "collapsed": false,
    "scrolled": false
   },
   "outputs": [],
   "source": [
    "/* Create Decision Trees with Gradient Boosting */\n",
    "proc gradboost data=mycas.&part_data. maxdepth=8 minleafsize=5 seed=9878 outmodel=mycas.model_gradboost;\n",
    "   autotune;\n",
    "   target &target. / level=nominal;\n",
    "   input &class_inputs. / level=nominal;\n",
    "   input &interval_inputs. / level=interval;\n",
    "   partition rolevar = _partind_(train='0' valid='1' test='2');\n",
    "   output out=mycas._scored_gradboost copyvars=(_partind_ &target.);\n",
    "   title \"Gradient Boost\";\n",
    "run;  "
   ]
  },
  {
   "cell_type": "markdown",
   "metadata": {},
   "source": [
    "## Forest\n",
    "* Documentation [FOREST Procedure](http://go.documentation.sas.com/?cdcId=vdmmlcdc&cdcVersion=8.11&docsetId=casml&docsetTarget=viyaml_forest_toc.htm&locale=en)"
   ]
  },
  {
   "cell_type": "code",
   "execution_count": null,
   "metadata": {
    "collapsed": false,
    "scrolled": false
   },
   "outputs": [],
   "source": [
    "proc forest data=mycas.&part_data. ntrees=50 minleafsize=5 outmodel=mycas.model_forest;\n",
    "   autotune;\n",
    "   target &target. / level=nominal; \n",
    "   input &class_inputs. / level=nominal;\n",
    "   input &interval_inputs. / level=interval;\n",
    "   partition rolevar = _partind_(train='0' valid='1' test='2');\n",
    "   output out=mycas._scored_forest copyvars=(_partind_ &target);\n",
    "   title \"Random Forest\";\n",
    "run; "
   ]
  },
  {
   "cell_type": "markdown",
   "metadata": {},
   "source": [
    "## Neural Network\n",
    "* Documentation [NNET Procedure](http://go.documentation.sas.com/?cdcId=vdmmlcdc&cdcVersion=8.11&docsetId=casml&docsetTarget=viyaml_nnet_toc.htm&locale=en)"
   ]
  },
  {
   "cell_type": "code",
   "execution_count": null,
   "metadata": {
    "collapsed": false,
    "scrolled": false
   },
   "outputs": [],
   "source": [
    "proc nnet data=mycas.&part_data.;\n",
    "   autotune;\n",
    "   architecture mlp;\n",
    "   target &target. / level=nominal; \n",
    "   input &class_inputs. / level=nominal;\n",
    "   input &interval_inputs. / level=interval;\n",
    "   hidden 7;\n",
    "   optimization algorithm=lbfgs maxiter=300;\n",
    "   partition rolevar = _partind_(train='0' valid='1' test='2');\n",
    "   train outmodel=mycas.model_neural seed=12345 numtries=3;\n",
    "   output out=mycas._scored_neural copyvars=(_partind_ &target);\n",
    "   \n",
    "   title \"Neural Network\";\n",
    "run; "
   ]
  },
  {
   "cell_type": "markdown",
   "metadata": {},
   "source": [
    "## Assess Models\n",
    "* Documentation [ASSESS Procedure](http://go.documentation.sas.com/?cdcId=vdmmlcdc&cdcVersion=8.11&docsetId=casstat&docsetTarget=viyastat_assess_toc.htm&locale=en)"
   ]
  },
  {
   "cell_type": "code",
   "execution_count": null,
   "metadata": {
    "collapsed": false,
    "scrolled": false
   },
   "outputs": [],
   "source": [
    "/* Macro to assess the different models */\n",
    "%macro assess_model(prefix=, var_evt=, var_nevt=);\n",
    "proc assess data=mycas._scored_&prefix. nbins=20;\n",
    "  input &var_evt.;\n",
    "  target &target. / level=nominal event='1';\n",
    "  fitstat pvar=&var_nevt. / pevent='0';\n",
    "  by _partind_;\n",
    "\n",
    "ods output fitstat=work.&prefix._fitstat\n",
    "           rocinfo=work.&prefix._rocinfo\n",
    "           liftinfo=work.&prefix._liftinfo;\n",
    "run;\n",
    "%mend assess_model;\n",
    "\n",
    "title \"Assess Forest\";\n",
    "%assess_model(prefix=forest, \n",
    "              var_evt=P_BAD1, \n",
    "              var_nevt=P_BAD0);\n",
    "\n",
    "title \"Assess Gradient Boost\";\n",
    "%assess_model(prefix=gradboost, \n",
    "              var_evt=P_BAD1, \n",
    "              var_nevt=P_BAD0);\n",
    "\n",
    "\n",
    "title \"Assess Decision Tree\";\n",
    "%assess_model(prefix=treesplit, \n",
    "              var_evt=P_BAD1, \n",
    "              var_nevt=P_BAD0);\n",
    "\n",
    "\n",
    "title \"Assess Neural\";\n",
    "%assess_model(prefix=neural, \n",
    "              var_evt=P_BAD1, \n",
    "              var_nevt=P_BAD0);\n",
    "\n",
    "\n",
    "/*Prepare ROC and Lift Data Sets for Plotting*/\n",
    "data work.all_rocinfo;\n",
    "  set work.neural_rocinfo(keep=sensitivity fpr _partind_ in=n) \n",
    "      work.forest_rocinfo(keep=sensitivity fpr _partind_ in=f)\n",
    "      work.treesplit_rocinfo(keep=sensitivity fpr _partind_ in=t)\n",
    "      work.gradboost_rocinfo(keep=sensitivity fpr _partind_ in=g);\n",
    "\n",
    "  length model $ 16;\n",
    "  select;\n",
    "    when (n) model='Neural';\n",
    "    when (f) model='Forest';\n",
    "    when (g) model='GradientBoosting';\n",
    "    when (t) model='TreeSplit';\n",
    "  end;\n",
    "run;\n",
    "\n",
    "data work.all_liftinfo;\n",
    "  set work.neural_liftinfo(keep=depth lift cumlift _partind_ in=n)\n",
    "      work.forest_liftinfo(keep=depth lift cumlift _partind_ in=f)\n",
    "      work.treesplit_liftinfo(keep=depth lift cumlift _partind_ in=t)\n",
    "      work.gradboost_liftinfo(keep=depth lift cumlift _partind_ in=g);\n",
    "\n",
    "  length model $ 16;\n",
    "  select;\n",
    "    when (n) model='Neural';\n",
    "    when (f) model='Forest';\n",
    "    when (g) model='GradientBoosting';\n",
    "    when (t) model='TreeSplit';\n",
    "  end;\n",
    "run;\n"
   ]
  },
  {
   "cell_type": "markdown",
   "metadata": {},
   "source": [
    "## Build ROC and Lift charts"
   ]
  },
  {
   "cell_type": "code",
   "execution_count": null,
   "metadata": {
    "collapsed": false
   },
   "outputs": [],
   "source": [
    "/*Plot ROC Curves*/\n",
    "ods graphics on;\n",
    "\n",
    "/* _partind_=2 specifies the test partition */\n",
    "proc sgplot data=work.all_rocinfo(where=(_partind_=2)) aspect=1;\n",
    "  title \"ROC Curves for Test Partition (Unbiased)\";\n",
    "  series x=fpr y=sensitivity / group=model;\n",
    "  lineparm x=0 y=0 slope=1 / transparency=.7;\n",
    "  yaxis values=(0 to 1 by 0.25) grid offsetmin=.05 offsetmax=.05;\n",
    "  xaxis values=(0 to 1 by 0.25) grid offsetmin=.05 offsetmax=.05;\n",
    "run; \n"
   ]
  },
  {
   "cell_type": "code",
   "execution_count": null,
   "metadata": {
    "collapsed": false
   },
   "outputs": [],
   "source": [
    "/*Plot Lift*/\n",
    "proc sgplot data=work.all_liftinfo(where=(_partind_=2));\n",
    "   title \"Cumulative Lift Chart for Test Partition (Unbiased)\";\n",
    "   xaxis label=\"Percentile\" grid;\n",
    "   series x=depth y=CumLift / group=model markers \n",
    "                           markerattrs=(symbol=circlefilled);\n",
    "run;\n"
   ]
  },
  {
   "cell_type": "code",
   "execution_count": null,
   "metadata": {
    "collapsed": false
   },
   "outputs": [],
   "source": [
    "/* Create Fit Statistics */\n",
    "%macro print_fitstats(prefix=);\n",
    "proc print data=work.&prefix._fitstat;\n",
    "run;\n",
    "%mend print_fitstats;\n",
    "\n",
    "title \"Forest Fit Statistics\";\n",
    "%print_fitstats(prefix=forest);\n",
    "\n",
    "title \"Gradient Boosting Fit Statistics\";\n",
    "%print_fitstats(prefix=gradboost);\n",
    "\n",
    "title \"Neural Fit Statistics\";\n",
    "%print_fitstats(prefix=neural);\n",
    "\n",
    "title \"TreeSplit Fit Statistics\";\n",
    "%print_fitstats(prefix=treesplit);\n"
   ]
  },
  {
   "cell_type": "code",
   "execution_count": null,
   "metadata": {
    "collapsed": true
   },
   "outputs": [],
   "source": []
  }
 ],
 "metadata": {
  "kernelspec": {
   "display_name": "SAS",
   "language": "sas",
   "name": "sas"
  },
  "language_info": {
   "codemirror_mode": "sas",
   "file_extension": ".sas",
   "mimetype": "text/x-sas",
   "name": "sas"
  }
 },
 "nbformat": 4,
 "nbformat_minor": 2
}
