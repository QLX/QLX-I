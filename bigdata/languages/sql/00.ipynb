{
 "cells": [
  {
   "cell_type": "markdown",
   "metadata": {},
   "source": [
    "![images](../../images/logo.png)"
   ]
  },
  {
   "cell_type": "markdown",
   "metadata": {},
   "source": [
    "# [Table Of Contents](../../index.ipynb)\n",
    "### Master Big Data In Little Time"
   ]
  },
  {
   "cell_type": "markdown",
   "metadata": {},
   "source": [
    "# Language: SQL"
   ]
  },
  {
   "cell_type": "markdown",
   "metadata": {},
   "source": [
    "SQL is a database computer language designed for the retrieval and management of data in a relational database. SQL stands for Structured Query Language. This tutorial will give you a quick start to SQL. It covers most of the topics required for a basic understanding of SQL and to get a feel of how it works.\n",
    "\n",
    "SQL is a language to operate databases; it includes database creation, deletion, fetching rows, modifying rows, etc. SQL is an ANSI (American National Standards Institute) standard language, but there are many different versions of the SQL language."
   ]
  },
  {
   "cell_type": "markdown",
   "metadata": {},
   "source": [
    "## What is SQL?\n",
    "\n",
    "SQL is Structured Query Language, which is a computer language for storing, manipulating and retrieving data stored in a relational database.\n",
    "\n",
    "SQL is the standard language for Relational Database System. All the Relational Database Management Systems (RDMS) like MySQL, MS Access, Oracle, Sybase, Informix, Postgres and SQL Server use SQL as their standard database language.\n",
    "\n",
    "Also, they are using different dialects, such as −\n",
    "\n",
    "- MS SQL Server using T-SQL,\n",
    "- Oracle using PL/SQL,\n",
    "- MS Access version of SQL is called JET SQL (native format) etc."
   ]
  },
  {
   "cell_type": "markdown",
   "metadata": {},
   "source": [
    "## A Brief History of SQL\n",
    "\n",
    "- 1970 − Dr. Edgar F. \"Ted\" Codd of IBM is known as the father of relational databases. He described a relational model for databases.\n",
    "- 1974 − Structured Query Language appeared.\n",
    "- 1978 − IBM worked to develop Codd's ideas and released a product named System/R.\n",
    "- 1986 − IBM developed the first prototype of relational database and standardized by ANSI. The first relational database was released by Relational Software which later came to be known as Oracle."
   ]
  },
  {
   "cell_type": "markdown",
   "metadata": {},
   "source": [
    "## SQL Process\n",
    "When you are executing an SQL command for any RDBMS, the system determines the best way to carry out your request and SQL engine figures out how to interpret the task.\n",
    "\n",
    "There are various components included in this process.  These components are −\n",
    "\n",
    "- Query Dispatcher\n",
    "- Optimization Engines\n",
    "- Classic Query Engine\n",
    "- SQL Query Engine, etc.\n",
    "\n",
    "A classic query engine handles all the non-SQL queries, but a SQL query engine won't handle logical files."
   ]
  },
  {
   "cell_type": "markdown",
   "metadata": {},
   "source": [
    "![images](../images/sql-architecture.jpg)"
   ]
  },
  {
   "cell_type": "markdown",
   "metadata": {},
   "source": [
    "## SQL Client"
   ]
  },
  {
   "cell_type": "markdown",
   "metadata": {},
   "source": [
    "A SQL Client is a resource for database administration using Structured Query Language (SQL). SQL is a programming standard originally developed in the 1970s that is now used in many databases and related technologies. SqlClient is also a namespace designated for these resources in order to help implement SQL operations.  In the following exercises we will use [DBeaver](#)."
   ]
  },
  {
   "cell_type": "markdown",
   "metadata": {},
   "source": [
    "### SQL Client: [DBeaver](https://dbeaver.io/download/)"
   ]
  },
  {
   "cell_type": "markdown",
   "metadata": {},
   "source": [
    "A database created should look like this:"
   ]
  },
  {
   "cell_type": "markdown",
   "metadata": {},
   "source": [
    "![image](images/dbeaver1.png)"
   ]
  },
  {
   "cell_type": "markdown",
   "metadata": {},
   "source": [
    "![image](images/dbeaver2.png)"
   ]
  },
  {
   "cell_type": "markdown",
   "metadata": {},
   "source": [
    "Using the MySQL 8+ connection: "
   ]
  },
  {
   "cell_type": "markdown",
   "metadata": {},
   "source": [
    "![images](images/dbeaver3.png)"
   ]
  },
  {
   "cell_type": "markdown",
   "metadata": {},
   "source": [
    "Making sure your timezone reflects your location: "
   ]
  },
  {
   "cell_type": "markdown",
   "metadata": {},
   "source": [
    "![image](images/dbeaver4.png)"
   ]
  },
  {
   "cell_type": "markdown",
   "metadata": {},
   "source": [
    "To change the settings on Dbeaver:\n",
    "\n",
    "- Right click your connection, choose \"Edit Connection\"\n",
    "- On the \"Connection settings\" screen (main screen) click on \"Edit Driver Settings\""
   ]
  },
  {
   "cell_type": "markdown",
   "metadata": {},
   "source": [
    "![image](images/dbeaver5.png)"
   ]
  },
  {
   "cell_type": "markdown",
   "metadata": {},
   "source": [
    "- Add two properties: \"useSSL\" and \"allowPublicKeyRetrieval\"\n",
    "- Set their values to  \"false\" and \"true\" by double clicking on the \"value\" column."
   ]
  },
  {
   "cell_type": "markdown",
   "metadata": {},
   "source": [
    "## SQL Database: [MySQL](https://www.mysql.com/)\n",
    "### Create a Python Script to Connect with MySQL"
   ]
  },
  {
   "cell_type": "code",
   "execution_count": 1,
   "metadata": {},
   "outputs": [
    {
     "name": "stdout",
     "output_type": "stream",
     "text": [
      "Requirement already satisfied: pymysql in /usr/local/Cellar/jupyterlab/2.2.0/libexec/lib/python3.8/site-packages (0.10.0)\n",
      "\u001b[33mWARNING: You are using pip version 20.1.1; however, version 20.2.2 is available.\n",
      "You should consider upgrading via the '/usr/local/Cellar/jupyterlab/2.2.0/libexec/bin/python3.8 -m pip install --upgrade pip' command.\u001b[0m\n",
      "Note: you may need to restart the kernel to use updated packages.\n"
     ]
    }
   ],
   "source": [
    "pip install pymysql"
   ]
  },
  {
   "cell_type": "code",
   "execution_count": 2,
   "metadata": {},
   "outputs": [
    {
     "name": "stdout",
     "output_type": "stream",
     "text": [
      "Database version : 8.0.21 \n"
     ]
    }
   ],
   "source": [
    "#!/usr/bin/python3\n",
    "# -*- coding: utf-8 -*-\n",
    "\n",
    "import pymysql\n",
    "\n",
    "#!/usr/bin/python3\n",
    "\n",
    "import pymysql\n",
    "\n",
    "# Open database connection\n",
    "db = pymysql.connect(\"localhost\", \"root\", \"password\", \"employees\")\n",
    "\n",
    "# prepare a cursor object using cursor() method\n",
    "cursor = db.cursor()\n",
    "\n",
    "# execute SQL query using execute() method.\n",
    "cursor.execute(\"SELECT VERSION()\")\n",
    "\n",
    "# Fetch a single row using fetchone() method.\n",
    "data = cursor.fetchone()\n",
    "print(\"Database version : %s \" % data)\n",
    "\n",
    "# disconnect from server\n",
    "db.close()"
   ]
  },
  {
   "cell_type": "markdown",
   "metadata": {},
   "source": [
    "## Update Python Program for SQL"
   ]
  },
  {
   "cell_type": "code",
   "execution_count": 5,
   "metadata": {},
   "outputs": [],
   "source": [
    "#!/usr/bin/python3\n",
    "\n",
    "# tutorial - https://www.tutorialspoint.com/python3/python_database_access.htm\n",
    "\n",
    "import pymysql\n",
    "\n",
    "# Open database connection\n",
    "db = pymysql.connect(\"localhost\", \"root\", \"password\", \"employee\")\n",
    "\n",
    "# prepare a cursor object using cursor() method\n",
    "cursor = db.cursor()\n",
    "\n",
    "# Drop table if it already exist using execute() method.\n",
    "cursor.execute(\"DROP TABLE IF EXISTS EMPLOYEE\")\n",
    "\n",
    "# Create table as per requirement\n",
    "sql = \"\"\"CREATE TABLE EMPLOYEE (\n",
    "   FIRST_NAME  CHAR(20) NOT NULL,\n",
    "   LAST_NAME  CHAR(20),\n",
    "   AGE INT,  \n",
    "   SEX CHAR(1),\n",
    "   INCOME FLOAT )\"\"\"\n",
    "\n",
    "cursor.execute(sql)\n",
    "\n",
    "# disconnect from server\n",
    "db.close()\n",
    "\n",
    "# mysql command line\n",
    "# use employees;\n",
    "# show tables;\n"
   ]
  },
  {
   "cell_type": "code",
   "execution_count": null,
   "metadata": {},
   "outputs": [],
   "source": []
  }
 ],
 "metadata": {
  "kernelspec": {
   "display_name": "Python 3",
   "language": "python",
   "name": "python3"
  },
  "language_info": {
   "codemirror_mode": {
    "name": "ipython",
    "version": 3
   },
   "file_extension": ".py",
   "mimetype": "text/x-python",
   "name": "python",
   "nbconvert_exporter": "python",
   "pygments_lexer": "ipython3",
   "version": "3.8.5"
  }
 },
 "nbformat": 4,
 "nbformat_minor": 4
}
