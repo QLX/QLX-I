{
 "cells": [
  {
   "cell_type": "markdown",
   "metadata": {},
   "source": [
    "![images](../../images/logo.png)"
   ]
  },
  {
   "cell_type": "markdown",
   "metadata": {},
   "source": [
    "# [Table Of Contents](../../index.ipynb)\n",
    "### Master Big Data In Little Time\n",
    "## NoSQL"
   ]
  },
  {
   "cell_type": "markdown",
   "metadata": {},
   "source": [
    "#### [Introduction](#) | Installation & Configuration of [HBase](hbase.ipynb) | [Apache Cassandra](https://cassandra.apache.org/doc/latest/getting_started/installing.html) | [MongoDB](https://docs.mongodb.com/manual/installation/) | [Couchbase](https://learn.couchbase.com/store?utf8=%E2%9C%93&ss=1&ct=78327&commit=Filter) | [Neo4j](https://neo4j.com/download/) | [Using Python](#)"
   ]
  },
  {
   "cell_type": "markdown",
   "metadata": {},
   "source": [
    "## What is a NoSQL Database?\n",
    "\n",
    "NoSQL databases are databases designed to be used across large distrusted systems. They are notably much more scalable and much faster at handling very large data loads than traditional relational databases. Unlike other databases, NoSQL databases do not use the standard tabular relationships the relational databases employ. Instead, NoSQL databases allow for the querying and storage of data by a variety of other means, depending on the specific software."
   ]
  },
  {
   "cell_type": "markdown",
   "metadata": {},
   "source": [
    "## NoSQL Features & Capabilities\n",
    "\n",
    "- Performance\n",
    "- Availability\n",
    "- Multi-Model\n",
    "- Concurrency\n",
    "- Security\n",
    "- Scalability\n",
    "- Data Model Flexibility\n",
    "- Deployment Model Flexibility"
   ]
  },
  {
   "cell_type": "markdown",
   "metadata": {},
   "source": [
    "## Advantages of NoSQL over Relational Databases?\n",
    "\n",
    "Traditional relational databases store data in highly structured tabular form, with multiple rows and columns. While these data stores are highly flexible, easy to maintain, and effective for data stored on a single server, they do not scale very well in a distributed system compared to NoSQL database alternatives.\n",
    "\n",
    "Distributed systems using inexpensive storage and processing power are becoming much more common and are often used in environments where there is a need for high availability and speed. NoSQL databases work significantly better across this kind of distributed system.\n",
    "\n",
    "The other main advantages are:\n",
    "\n",
    "- NoSQL databases are Non-Relational meaning they are table-less and easier to manage. They provide a higher level of flexibility with newer data models.\n",
    "\n",
    "- They are often open source and therefore lower cost. NoSQL databases can be an appealing solution for smaller organizations with limited budgets.\n",
    "\n",
    "- NoSQL databases are optimized for specific data models that enable higher performance than trying to accomplish similar functionality with relational databases."
   ]
  },
  {
   "cell_type": "markdown",
   "metadata": {},
   "source": [
    "## NoSQL Data Models\n",
    "\n",
    "Not all NoSQL databases use the same data model. Although the primary distinction between a relational data store and a NoSQL database is the data model, there are several different types of NoSQL data model. Below are descriptions of three of the most popular data models used in NoSQL databases:\n",
    "\n",
    "- **Document model**: These NoSQL databases replace the familiar rows and columns structure with a document storage model. Each document is structured, frequently using the JavaScript Object Notation (JSON) model. The document data model is associated with object-oriented programming where each document is an object.\n",
    "\n",
    "- **Graph model**: NoSQL databases using the graph model usually require all the data to reside on one machine which negates one of the key advantages of NoSQL databases. This class of databases uses structures like data modes, edges and properties, making it easier to model relationships between entities in an application.\n",
    "\n",
    "- **Key-value model**: In this NoSQL database model, a key is required to retrieve and update data. The key-value data model is very simple and therefore scales well. However, this simplicity and scalability come at the cost of query complexity."
   ]
  },
  {
   "cell_type": "markdown",
   "metadata": {},
   "source": [
    "### Key-Value Store Database:\n",
    "\n",
    "This model is one of the most basic models of NoSQL databses. As the name suggests, the data is stored in form of Key-Value Pairs.The key is usually a sequence of strings, integers or characters but can also be a more advanced data type. The value is typically linked or co-related to the key. The key-value pair storage databases generally store data as a hash table where each key is unique. The value can be of any type (JSON, BLOB(Binary Large Object), strings, etc). This type of pattern is usually used in shopping websites or e-commerce applications.\n",
    "\n",
    "**Advantages**\n",
    "- Can handle large amounts of data and heavy load,\n",
    "- Easy retrieval of data by keys.\n",
    "\n",
    "**Limitations**\n",
    "- Complex queries may attempt to involve multiple key-value pairs which may delay performance.\n",
    "- Data can be involving many-to-many relationships which may collide.\n",
    "\n",
    "![images](images/key2-1.jpg)"
   ]
  },
  {
   "cell_type": "markdown",
   "metadata": {},
   "source": [
    "**Examples**\n",
    "- DynamoDB\n",
    "- Berkeley DB"
   ]
  },
  {
   "cell_type": "markdown",
   "metadata": {},
   "source": [
    "### Column Store Database:\n",
    "Rather than storing data in relational tuples, the data is stored in individual cells which are further grouped into columns. Column-oriented databases work only on columns. They store large amounts of data into columns together. Format and titles of the columns can diverge from one row to other. Every column is treated separately.But still, each individual column may contain multiple other columns like traditional databases.\n",
    "\n",
    "Basically, columns are mode of storage in this type.\n",
    "\n",
    "**Advantages**\n",
    "\n",
    "- Data is readily available\n",
    "- Queries like SUM, AVERAGE, COUNT can be easily performed on columns.\n",
    "\n",
    "![images](images/column-store.png)"
   ]
  },
  {
   "cell_type": "markdown",
   "metadata": {},
   "source": [
    "**Examples**\n",
    "\n",
    "- HBase\n",
    "- Bigtable by Google\n",
    "- Cassandra"
   ]
  },
  {
   "cell_type": "markdown",
   "metadata": {},
   "source": [
    "### Document Database:\n",
    "\n",
    "The document database fetches and accumulates data in forms of key-value pairs but here, the values are called as Documents. Document can be stated as a complex data structure. Document here can be a form of text, arrays, strings, JSON, XML or any such format. The use of nested documents is also very common. It is very affective as most of the data created is usually in form of JSONs and is unstructured.\n",
    "\n",
    "**Advantages**\n",
    "- This type of format is very useful and apt for semi-structured data.\n",
    "- Storage retrieval and managing of documents is easy.\n",
    "\n",
    "**Limitations**\n",
    "- Handling multiple documents is challenging\n",
    "- Aggregation operations may not work accurately.\n",
    "\n",
    "![images](images/doc.jpg)"
   ]
  },
  {
   "cell_type": "markdown",
   "metadata": {},
   "source": [
    "**Examples**\n",
    "\n",
    "- MongoDB\n",
    "- CouchDB"
   ]
  },
  {
   "cell_type": "markdown",
   "metadata": {},
   "source": [
    "### Graph Databases:\n",
    "\n",
    "Clearly, this architecture pattern deals with storage and management of data in graphs. Graphs are basically structures that depict connections between two or more objects in some data.The objects or entities are called as nodes and are joined together by relationships called Edges. Each edge has a unique identifier. Each node serves as a point of contact for the graph.This pattern is very commonly used in social networks where there are a large number of entities and each entity has one or many characteristics which are connected by edges. The relational database pattern has tables which are loosely connected, whereas graphs are often very strong and rigid in nature.\n",
    "\n",
    "**Advantages**\n",
    "- Fastest traversal because of connections.\n",
    "- Spatial data can be easily handled.\n",
    "\n",
    "**Limitations**\n",
    "- Wrong connections may lead to infinite loops.\n",
    "\n",
    "![images](images/graph9.jpg)"
   ]
  },
  {
   "cell_type": "markdown",
   "metadata": {},
   "source": [
    "**Examples**\n",
    "\n",
    "- Neo4J\n",
    "- FlockDB( Used by Twitter)"
   ]
  },
  {
   "cell_type": "code",
   "execution_count": null,
   "metadata": {},
   "outputs": [],
   "source": []
  }
 ],
 "metadata": {
  "kernelspec": {
   "display_name": "Python 3",
   "language": "python",
   "name": "python3"
  },
  "language_info": {
   "codemirror_mode": {
    "name": "ipython",
    "version": 3
   },
   "file_extension": ".py",
   "mimetype": "text/x-python",
   "name": "python",
   "nbconvert_exporter": "python",
   "pygments_lexer": "ipython3",
   "version": "3.8.5"
  }
 },
 "nbformat": 4,
 "nbformat_minor": 1
}
