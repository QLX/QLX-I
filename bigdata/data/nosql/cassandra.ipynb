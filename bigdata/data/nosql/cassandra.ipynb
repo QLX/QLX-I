{
 "cells": [
  {
   "cell_type": "markdown",
   "metadata": {},
   "source": [
    "![images](../../images/logo.png)"
   ]
  },
  {
   "cell_type": "markdown",
   "metadata": {},
   "source": [
    "# [Table Of Contents](../../index.ipynb)\n",
    "### Master Big Data In Little Time\n",
    "- - -"
   ]
  },
  {
   "cell_type": "markdown",
   "metadata": {},
   "source": [
    "#### [Introduction](#) | Installation & Configuration of [HBase](hbase.ipynb) | [Apache Cassandra](cassandra.ipynb) | [MongoDB](https://docs.mongodb.com/manual/installation/) | [Couchbase](https://learn.couchbase.com/store?utf8=%E2%9C%93&ss=1&ct=78327&commit=Filter) | [Neo4j](https://neo4j.com/download/)"
   ]
  },
  {
   "cell_type": "markdown",
   "metadata": {},
   "source": [
    "**Apache Cassandra [Installation & Demo](cassandra/01.ipynb)** | [Blah, Blah](cassandra/02.ipynb) | [Blah, Blah](cassandra/03.ipynb)"
   ]
  },
  {
   "cell_type": "markdown",
   "metadata": {},
   "source": [
    "# Introduction to Apache Cassandra"
   ]
  },
  {
   "cell_type": "markdown",
   "metadata": {},
   "source": [
    "Apache Cassandra is a highly scalable, high-performance distributed database designed to handle large amounts of data across many commodity servers, providing high availability with no single point of failure. It is a type of NoSQL database. Let us first understand what a NoSQL database does."
   ]
  },
  {
   "cell_type": "markdown",
   "metadata": {},
   "source": [
    "## What is Apache Cassandra?"
   ]
  },
  {
   "cell_type": "markdown",
   "metadata": {},
   "source": [
    "Apache Cassandra is an open source, distributed and decentralized/distributed storage system (database), for managing very large amounts of structured data spread out across the world. It provides highly available service with no single point of failure.\n",
    "\n",
    "Listed below are some of the notable points of Apache Cassandra −\n",
    "\n",
    "- It is scalable, fault-tolerant, and consistent.\n",
    "- It is a column-oriented database.\n",
    "- Its distribution design is based on Amazon’s Dynamo and its data model on Google’s Bigtable.\n",
    "- Created at Facebook, it differs sharply from relational database management systems.\n",
    "- Cassandra implements a Dynamo-style replication model with no single point of failure, but adds a more powerful “column family” data model.\n",
    "- Cassandra is being used by some of the biggest companies such as Facebook, Twitter, Cisco, Rackspace, ebay, Twitter, Netflix, and more."
   ]
  },
  {
   "cell_type": "markdown",
   "metadata": {},
   "source": [
    "## Features of Apache Cassandra"
   ]
  },
  {
   "cell_type": "markdown",
   "metadata": {},
   "source": [
    "Cassandra has become so popular because of its outstanding technical features. Given below are some of the features of Cassandra:\n",
    "\n",
    "- Elastic scalability − Cassandra is highly scalable; it allows to add more hardware to accommodate more customers and more data as per requirement.\n",
    "- Always on architecture − Cassandra has no single point of failure and it is continuously available for business-critical applications that cannot afford a failure.\n",
    "- Fast linear-scale performance − Cassandra is linearly scalable, i.e., it increases your throughput as you increase the number of nodes in the cluster. Therefore it maintains a quick response time.\n",
    "- Flexible data storage − Cassandra accommodates all possible data formats including: structured, semi-structured, and unstructured. It can dynamically accommodate changes to your data structures according to your need.\n",
    "- Easy data distribution − Cassandra provides the flexibility to distribute data where you need by replicating data across multiple data centers.\n",
    "- Transaction support − Cassandra supports properties like Atomicity, Consistency, Isolation, and Durability (ACID).\n",
    "- Fast writes − Cassandra was designed to run on cheap commodity hardware. It performs blazingly fast writes and can store hundreds of terabytes of data, without sacrificing the read efficiency."
   ]
  },
  {
   "cell_type": "markdown",
   "metadata": {},
   "source": [
    "## History of Apache Cassandra"
   ]
  },
  {
   "cell_type": "markdown",
   "metadata": {},
   "source": [
    "- Cassandra was developed at Facebook for inbox search.\n",
    "- It was open-sourced by Facebook in July 2008.\n",
    "- Cassandra was accepted into Apache Incubator in March 2009.\n",
    "- It was made an Apache top-level project since February 2010."
   ]
  },
  {
   "cell_type": "code",
   "execution_count": null,
   "metadata": {},
   "outputs": [],
   "source": []
  }
 ],
 "metadata": {
  "kernelspec": {
   "display_name": "Python 3",
   "language": "python",
   "name": "python3"
  },
  "language_info": {
   "codemirror_mode": {
    "name": "ipython",
    "version": 3
   },
   "file_extension": ".py",
   "mimetype": "text/x-python",
   "name": "python",
   "nbconvert_exporter": "python",
   "pygments_lexer": "ipython3",
   "version": "3.8.5"
  }
 },
 "nbformat": 4,
 "nbformat_minor": 1
}
