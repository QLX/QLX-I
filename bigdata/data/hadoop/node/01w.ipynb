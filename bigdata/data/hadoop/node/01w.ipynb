{
 "cells": [
  {
   "cell_type": "markdown",
   "metadata": {},
   "source": [
    "![images](../../../images/logo.png)"
   ]
  },
  {
   "cell_type": "markdown",
   "metadata": {},
   "source": [
    "# [Table Of Contents](../../../../index.ipynb)\n",
    "## Master Big Data In Little Time:  Hadoop"
   ]
  },
  {
   "cell_type": "markdown",
   "metadata": {},
   "source": [
    "[Introduction](../00.ipynb) | [Hadoop: Sizing Requirements](00.ipynb) | **[Hadoop for Windows](01w.ipynb)** | [Hadoop for MacOS/Linux](01o.ipynb)\n",
    "\n",
    "- - - "
   ]
  },
  {
   "cell_type": "markdown",
   "metadata": {},
   "source": [
    "# Install and Configuration of Hadoop 3.3.0\n",
    "Setting Up A Single Node Cluster\n",
    "--"
   ]
  },
  {
   "cell_type": "markdown",
   "metadata": {},
   "source": [
    "Installation for Windows via Apache Hadoop\n",
    "---\n",
    "Download Apache Hadoop 3.3 tar file from [here](http://apache.mirrors.hoobly.com/hadoop/common/hadoop-3.3.0/hadoop-3.3.0.tar.gz). Then extract tar file into the following directory. "
   ]
  },
  {
   "cell_type": "raw",
   "metadata": {},
   "source": [
    "mkdir Documents\\Repositories\\hadoop\\3.3.0"
   ]
  },
  {
   "cell_type": "markdown",
   "metadata": {},
   "source": [
    "![caption](files/windows_tar.png)"
   ]
  },
  {
   "cell_type": "markdown",
   "metadata": {},
   "source": [
    "Create HDFS directory for use as a single node cluster."
   ]
  },
  {
   "cell_type": "raw",
   "metadata": {},
   "source": [
    "mkdir Documents\\Repositories\\hadoop\\hdfs"
   ]
  },
  {
   "cell_type": "markdown",
   "metadata": {},
   "source": [
    "### Error Extracting tar.gz\n",
    "\n",
    "If extracting <b>.tar.gz</b> on Windows 10 using 7ZIP if you encounter the following error:"
   ]
  },
  {
   "cell_type": "markdown",
   "metadata": {},
   "source": [
    "![caption](files/7zip.png)"
   ]
  },
  {
   "cell_type": "raw",
   "metadata": {},
   "source": [
    "\"Cannot create symbolic link : Access is denied\""
   ]
  },
  {
   "cell_type": "markdown",
   "metadata": {},
   "source": [
    "You need to run 7-Zip File Manager in administrator mode.  Right-click the icon of 7-Zip File Manager, and then click \"Run as administrator\"."
   ]
  },
  {
   "cell_type": "markdown",
   "metadata": {
    "collapsed": true
   },
   "source": [
    "Set HADOOP_HOME path for Environment Variable\n",
    "---"
   ]
  },
  {
   "cell_type": "markdown",
   "metadata": {},
   "source": [
    "Right click on My Computer > Properties > Advanced System Settings > Advance Tab > Environment Variables > click on New"
   ]
  },
  {
   "cell_type": "markdown",
   "metadata": {},
   "source": [
    "![caption](files/hadoop_home.png)"
   ]
  },
  {
   "cell_type": "raw",
   "metadata": {},
   "source": [
    "cd DRIVE:/Documents/Repositories/hadoop/3.3.0/bin"
   ]
  },
  {
   "cell_type": "markdown",
   "metadata": {},
   "source": [
    "Set HADOOP_BIN path for System Variable\n",
    "---"
   ]
  },
  {
   "cell_type": "markdown",
   "metadata": {},
   "source": [
    "Find path variable in System Variable > click on Edit > at the end insert ‘; (semicolon)’ and paste path up to HADOOP BIN directory."
   ]
  },
  {
   "cell_type": "raw",
   "metadata": {},
   "source": [
    "DRIVE:/Documents/Repositories/hadoop/3.3.0/bin"
   ]
  },
  {
   "cell_type": "markdown",
   "metadata": {},
   "source": [
    "![caption](files/hadoop_bin.png)"
   ]
  },
  {
   "cell_type": "markdown",
   "metadata": {},
   "source": [
    "HADOOP Configuration Files\n",
    "---"
   ]
  },
  {
   "cell_type": "markdown",
   "metadata": {},
   "source": [
    "Edit ```Documents/Repositories/hadoop/3.3.0/etc/hadoop/core-site.xml```"
   ]
  },
  {
   "cell_type": "raw",
   "metadata": {},
   "source": [
    "<configuration>\n",
    "   <property>\n",
    "       <name>fs.defaultFS</name>\n",
    "       <value>hdfs://localhost:9000</value>\n",
    "   </property>\n",
    "</configuration>"
   ]
  },
  {
   "cell_type": "markdown",
   "metadata": {},
   "source": [
    "Edit ```Documents/Repositories/hadoop/3.3.0/etc/hadoop/mapred-site.xml```"
   ]
  },
  {
   "cell_type": "raw",
   "metadata": {},
   "source": [
    "<configuration>\n",
    "   <property>\n",
    "       <name>mapreduce.framework.name</name>\n",
    "       <value>yarn</value>\n",
    "   </property>\n",
    "</configuration>"
   ]
  },
  {
   "cell_type": "markdown",
   "metadata": {},
   "source": [
    "Edit ```Documents/Repositories/hadoop/3.3.0/etc/hadoop/hdfs-site.xml```"
   ]
  },
  {
   "cell_type": "raw",
   "metadata": {},
   "source": [
    "<configuration>\n",
    "   <property>\n",
    "       <name>dfs.replication</name>\n",
    "       <value>1</value>\n",
    "   </property>\n",
    "   <property>\n",
    "       <name>dfs.namenode.name.dir</name>\n",
    "       <value>DRIVE:/Globe/hadoop/2.7.1/data/namenode</value>\n",
    "   </property>\n",
    "   <property>\n",
    "       <name>dfs.datanode.data.dir</name>\n",
    "     <value>DRIVE:/Globe/hadoop/2.7.1/data/datanode</value>\n",
    "   </property>\n",
    "</configuration>"
   ]
  },
  {
   "cell_type": "markdown",
   "metadata": {},
   "source": [
    "Create DATA directory"
   ]
  },
  {
   "cell_type": "markdown",
   "metadata": {},
   "source": [
    "```mkdir DRIVE:/Documents/Repositories/hadoop/3.3.0/data```"
   ]
  },
  {
   "cell_type": "markdown",
   "metadata": {},
   "source": [
    "Edit ```/Documents/Repositories/hadoop/3.3.0/etc/hadoop/yarn-site.xml```"
   ]
  },
  {
   "cell_type": "raw",
   "metadata": {},
   "source": [
    "<configuration>\n",
    "   <property>\n",
    "       <name>yarn.nodemanager.aux-services</name>\n",
    "       <value>mapreduce_shuffle</value>\n",
    "   </property>\n",
    "   <property>\n",
    "       <name>yarn.nodemanager.aux-services.mapreduce.shuffle.class</name>\n",
    "       <value>org.apache.hadoop.mapred.ShuffleHandler</value>\n",
    "   </property>\n",
    "</configuration>"
   ]
  },
  {
   "cell_type": "markdown",
   "metadata": {},
   "source": [
    "Edit ```/Documents/Repositories/hadoop/3.3.0/etc/hadoop/hadoop-env.cmd```"
   ]
  },
  {
   "cell_type": "markdown",
   "metadata": {},
   "source": [
    "Comment existing %JAVA_HOME% using @rem at start, give proper path and save it. Note: for JDK avoid spaces and use  PROGRA~1."
   ]
  },
  {
   "cell_type": "markdown",
   "metadata": {},
   "source": [
    "![caption](files/windows_java.png)"
   ]
  },
  {
   "cell_type": "markdown",
   "metadata": {},
   "source": [
    "Begin the Start Up\n",
    "---"
   ]
  },
  {
   "cell_type": "markdown",
   "metadata": {},
   "source": [
    "Download [here](https://qlx.services/institute/review/bigdata/hadoop/exercises/#elf_l1_aGFkb29w) in order to add some [dot].dll and [dot].exe files.  Make a backup copy of your ./BIN folder and replace with downloaded one.  Note that the ./ETC is only for reference and you still require to change configuration files as outlined above.  \n",
    "\n",
    "Start the <b>Namenode</b>"
   ]
  },
  {
   "cell_type": "markdown",
   "metadata": {},
   "source": [
    "Open cmd and type ‘hdfs namenode -format’ – after execution you will see below logs.  "
   ]
  },
  {
   "cell_type": "markdown",
   "metadata": {},
   "source": [
    "![caption](files/windows_cmd.png)"
   ]
  },
  {
   "cell_type": "markdown",
   "metadata": {},
   "source": [
    "Open cmd and point to sbin directory and type ‘start-all.cmd’"
   ]
  },
  {
   "cell_type": "raw",
   "metadata": {},
   "source": [
    "cd DRIVE\\Documents\\Repositories\\hadoop\\3.3.0\\sbin"
   ]
  },
  {
   "cell_type": "markdown",
   "metadata": {},
   "source": [
    "![caption](files/cmd_startups.png)"
   ]
  },
  {
   "cell_type": "markdown",
   "metadata": {},
   "source": [
    "It will start following processes -"
   ]
  },
  {
   "cell_type": "raw",
   "metadata": {},
   "source": [
    "Namenode\n",
    "\n",
    "Datanode\n",
    "\n",
    "YARN resourcemanager\n",
    "\n",
    "YARN nodemanager"
   ]
  },
  {
   "cell_type": "markdown",
   "metadata": {},
   "source": [
    "<b>JPS</b> - to see if services are running\n",
    "\n",
    "Open cmd and type - jps (for jps make sure your java path is set properly)"
   ]
  },
  {
   "cell_type": "markdown",
   "metadata": {
    "collapsed": true
   },
   "source": [
    "![caption](files/windows_jps.png)"
   ]
  },
  {
   "cell_type": "markdown",
   "metadata": {},
   "source": [
    "Use Web Interfaces\n",
    "---"
   ]
  },
  {
   "cell_type": "markdown",
   "metadata": {},
   "source": [
    "[Resource Manager](http://localhost:50070)<br><br>\n",
    "![caption](files/hadoop_resourcemgr.png)<br><br>\n",
    "[Specific Node Information](http://localhost:8042)<br><br>\n",
    "![caption](files/hadoop_namenode.png)<br><br>"
   ]
  }
 ],
 "metadata": {
  "kernelspec": {
   "display_name": "Python 3",
   "language": "python",
   "name": "python3"
  },
  "language_info": {
   "codemirror_mode": {
    "name": "ipython",
    "version": 3
   },
   "file_extension": ".py",
   "mimetype": "text/x-python",
   "name": "python",
   "nbconvert_exporter": "python",
   "pygments_lexer": "ipython3",
   "version": "3.8.5"
  }
 },
 "nbformat": 4,
 "nbformat_minor": 1
}
