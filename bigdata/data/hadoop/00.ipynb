{
 "cells": [
  {
   "cell_type": "markdown",
   "metadata": {},
   "source": [
    "![images](../../images/logo.png)"
   ]
  },
  {
   "cell_type": "markdown",
   "metadata": {},
   "source": [
    "# [Table Of Contents](../../../index.ipynb)\n",
    "## Master Big Data In Little Time: Hadoop"
   ]
  },
  {
   "cell_type": "markdown",
   "metadata": {},
   "source": [
    "**[Introduction](#)** | Installation and Configuration [Hadoop: Setting Up A Single Node Cluster](node/00.ipynb)\n",
    "\n",
    "- - - "
   ]
  },
  {
   "cell_type": "markdown",
   "metadata": {},
   "source": [
    "## What is Hadoop?\n",
    "\n",
    "Hadoop is an open-source framework that allows to store and process big data in a distributed environment across clusters of computers using simple programming models. It is designed to scale up from single servers to thousands of machines, each offering local computation and storage."
   ]
  },
  {
   "cell_type": "markdown",
   "metadata": {},
   "source": [
    "<blockquote>“90% of the world’s data was generated in the last few years.”</blockquote>\n",
    "\n",
    "\n",
    "Due to the advent of new technologies, devices, and communication means like social networking sites, the amount of data produced by mankind is growing rapidly every year. The amount of data produced by us from the beginning of time till 2003 was 5 billion gigabytes. If you pile up the data in the form of disks it may fill an entire football field. The same amount was created in every two days in 2011, and in every ten minutes in 2013. This rate is still growing enormously. Though all this information produced is meaningful and can be useful when processed, it is being neglected."
   ]
  },
  {
   "cell_type": "markdown",
   "metadata": {},
   "source": [
    "## What is Big Data?\n",
    "\n",
    "Big data is a collection of large datasets that cannot be processed using traditional computing techniques. It is not a single technique or a tool, rather it has become a complete subject, which involves various tools, technqiues and frameworks.\n",
    "\n",
    "## What Comes Under Big Data?\n",
    "\n",
    "Big data involves the data produced by different devices and applications. Given below are some of the fields that come under the umbrella of Big Data.\n",
    "\n",
    "- Black Box Data − It is a component of helicopter, airplanes, and jets, etc. It captures voices of the flight crew, recordings of microphones and earphones, and the performance information of the aircraft.\n",
    "- Social Media Data − Social media such as Facebook and Twitter hold information and the views posted by millions of people across the globe.\n",
    "- Stock Exchange Data − The stock exchange data holds information about the ‘buy’ and ‘sell’ decisions made on a share of different companies made by the customers.\n",
    "- Power Grid Data − The power grid data holds information consumed by a particular node with respect to a base station.\n",
    "- Transport Data − Transport data includes model, capacity, distance and availability of a vehicle.\n",
    "- Search Engine Data − Search engines retrieve lots of data from different databases."
   ]
  },
  {
   "cell_type": "markdown",
   "metadata": {},
   "source": [
    "![images](images/big_data.jpg)"
   ]
  },
  {
   "cell_type": "markdown",
   "metadata": {},
   "source": [
    "Thus Big Data includes huge volume, high velocity, and extensible variety of data. The data in it will be of three types.\n",
    "\n",
    "- **Structured data** − Relational data.\n",
    "- **Semi Structured data** − XML data.\n",
    "- **Unstructured data** − Word, PDF, Text, Media Logs.\n",
    "\n",
    "## Benefits of Big Data\n",
    "\n",
    "- Using the information kept in the social network like Facebook, the marketing agencies are learning about the response for their campaigns, promotions, and other advertising mediums.\n",
    "- Using the information in the social media like preferences and product perception of their consumers, product companies and retail organizations are planning their production.\n",
    "- Using the data regarding the previous medical history of patients, hospitals are providing better and quick service.\n",
    "\n",
    "## Big Data Technologies\n",
    "\n",
    "Big data technologies are important in providing more accurate analysis, which may lead to more concrete decision-making resulting in greater operational efficiencies, cost reductions, and reduced risks for the business.\n",
    "\n",
    "To harness the power of big data, you would require an infrastructure that can manage and process huge volumes of structured and unstructured data in realtime and can protect data privacy and security.\n",
    "\n",
    "There are various technologies in the market from different vendors including Amazon, IBM, Microsoft, etc., to handle big data. While looking into the technologies that handle big data, we examine the following two classes of technology −"
   ]
  },
  {
   "cell_type": "markdown",
   "metadata": {},
   "source": [
    "### Operational Big Data\n",
    "\n",
    "This include systems like MongoDB that provide operational capabilities for real-time, interactive workloads where data is primarily captured and stored.\n",
    "\n",
    "NoSQL Big Data systems are designed to take advantage of new cloud computing architectures that have emerged over the past decade to allow massive computations to be run inexpensively and efficiently. This makes operational big data workloads much easier to manage, cheaper, and faster to implement.\n",
    "\n",
    "Some NoSQL systems can provide insights into patterns and trends based on real-time data with minimal coding and without the need for data scientists and additional infrastructure.\n",
    "\n",
    "### Analytical Big Data\n",
    "\n",
    "These includes systems like Massively Parallel Processing (MPP) database systems and MapReduce that provide analytical capabilities for retrospective and complex analysis that may touch most or all of the data.\n",
    "\n",
    "MapReduce provides a new method of analyzing data that is complementary to the capabilities provided by SQL, and a system based on MapReduce that can be scaled up from single servers to thousands of high and low end machines.\n",
    "\n",
    "These two classes of technology are complementary and frequently deployed together.\n",
    "\n",
    "### Operational vs. Analytical Systems\n",
    "\n"
   ]
  },
  {
   "cell_type": "markdown",
   "metadata": {},
   "source": [
    "|     | Operational | Analytical | \n",
    "|-----|-------|------| \n",
    "| **Latency**\t| 1 ms - 100 ms\t| 1 min - 100 min |\n",
    "| **Concurrency** |\t1000 - 100,000 |\t1 - 10 |\n",
    "| **Access Pattern** |\tWrites and Reads |\tReads |\n",
    "| **Queries** |\tSelective |\tUnselective |\n",
    "| **Data Scope** |\tOperational |\tRetrospective |\n",
    "| **End User** |\tCustomer |\tData Scientist |\n",
    "| **Technology** |\tNoSQL |\tMapReduce, MPP Database |"
   ]
  },
  {
   "cell_type": "markdown",
   "metadata": {},
   "source": [
    "## Big Data Challenges\n",
    "\n",
    "The major challenges associated with big data are as follows −\n",
    "\n",
    "- Capturing data\n",
    "- Curation\n",
    "- Storage\n",
    "- Searching\n",
    "- Sharing\n",
    "- Transfer\n",
    "- Analysis\n",
    "- Presentation\n",
    "\n",
    "To fulfill the above challenges, organizations normally take the help of enterprise servers."
   ]
  },
  {
   "cell_type": "markdown",
   "metadata": {},
   "source": [
    "## Traditional Approach\n",
    "\n",
    "In this approach, an enterprise will have a computer to store and process big data. For storage purpose, the programmers will take the help of their choice of database vendors such as Oracle, IBM, etc. In this approach, the user interacts with the application, which in turn handles the part of data storage and analysis."
   ]
  },
  {
   "cell_type": "markdown",
   "metadata": {},
   "source": [
    "![images](images/traditional_approach.jpg)"
   ]
  },
  {
   "cell_type": "markdown",
   "metadata": {},
   "source": [
    "### Limitation\n",
    "\n",
    "This approach works fine with those applications that process less voluminous data that can be accommodated by standard database servers, or up to the limit of the processor that is processing the data. But when it comes to dealing with huge amounts of scalable data, it is a hectic task to process such data through a single database bottleneck."
   ]
  },
  {
   "cell_type": "markdown",
   "metadata": {},
   "source": [
    "## Google’s Solution\n",
    "\n",
    "Google solved this problem using an algorithm called MapReduce. This algorithm divides the task into small parts and assigns them to many computers, and collects the results from them which when integrated, form the result dataset.\n",
    "\n",
    "![images](images/mapreduce.jpg)"
   ]
  },
  {
   "cell_type": "markdown",
   "metadata": {},
   "source": [
    "## Hadoop\n",
    "\n",
    "Using the solution provided by Google, Doug Cutting and his team developed an Open Source Project called HADOOP.\n",
    "\n",
    "Hadoop runs applications using the MapReduce algorithm, where the data is processed in parallel with others. In short, Hadoop is used to develop applications that could perform complete statistical analysis on huge amounts of data.\n",
    "\n",
    "![images](images/hadoop_framework.jpg)"
   ]
  },
  {
   "cell_type": "markdown",
   "metadata": {},
   "source": [
    "## Hadoop Architecture"
   ]
  },
  {
   "cell_type": "markdown",
   "metadata": {},
   "source": [
    "Hadoop is an Apache open source framework written in java that allows distributed processing of large datasets across clusters of computers using simple programming models. The Hadoop framework application works in an environment that provides distributed storage and computation across clusters of computers. Hadoop is designed to scale up from single server to thousands of machines, each offering local computation and storage."
   ]
  },
  {
   "cell_type": "markdown",
   "metadata": {},
   "source": [
    "At its core, Hadoop has two major layers namely −\n",
    "\n",
    "- Processing/Computation layer (MapReduce), and\n",
    "- Storage layer (Hadoop Distributed File System)."
   ]
  },
  {
   "cell_type": "markdown",
   "metadata": {},
   "source": [
    "![images](images/hadoop_architecture.jpg)"
   ]
  },
  {
   "cell_type": "markdown",
   "metadata": {},
   "source": [
    "### MapReduce\n",
    "\n",
    "MapReduce is a parallel programming model for writing distributed applications devised at Google for efficient processing of large amounts of data (multi-terabyte data-sets), on large clusters (thousands of nodes) of commodity hardware in a reliable, fault-tolerant manner. The MapReduce program runs on Hadoop which is an Apache open-source framework."
   ]
  },
  {
   "cell_type": "markdown",
   "metadata": {},
   "source": [
    "### Hadoop Distributed File System\n",
    "\n",
    "The Hadoop Distributed File System (HDFS) is based on the Google File System (GFS) and provides a distributed file system that is designed to run on commodity hardware. It has many similarities with existing distributed file systems. However, the differences from other distributed file systems are significant. It is highly fault-tolerant and is designed to be deployed on low-cost hardware. It provides high throughput access to application data and is suitable for applications having large datasets.\n",
    "\n",
    "Apart from the above-mentioned two core components, Hadoop framework also includes the following two modules −\n",
    "\n",
    "- **Hadoop Common** − These are Java libraries and utilities required by other Hadoop modules.\n",
    "- **Hadoop YARN** − This is a framework for job scheduling and cluster resource management."
   ]
  },
  {
   "cell_type": "markdown",
   "metadata": {},
   "source": [
    "### How Does Hadoop Work?\n",
    "\n",
    "It is quite expensive to build bigger servers with heavy configurations that handle large scale processing, but as an alternative, you can tie together many commodity computers with single-CPU, as a single functional distributed system and practically, the clustered machines can read the dataset in parallel and provide a much higher throughput. Moreover, it is cheaper than one high-end server. So this is the first motivational factor behind using Hadoop that it runs across clustered and low-cost machines.\n",
    "\n",
    "Hadoop runs code across a cluster of computers. This process includes the following core tasks that Hadoop performs −"
   ]
  },
  {
   "cell_type": "markdown",
   "metadata": {},
   "source": [
    "- Data is initially divided into directories and files. Files are divided into uniform sized blocks of 128M and 64M (preferably 128M).\n",
    "- These files are then distributed across various cluster nodes for further processing.\n",
    "- HDFS, being on top of the local file system, supervises the processing.\n",
    "- Blocks are replicated for handling hardware failure.\n",
    "- Checking that the code was executed successfully.\n",
    "- Performing the sort that takes place between the map and reduce stages.\n",
    "- Sending the sorted data to a certain computer.\n",
    "- Writing the debugging logs for each job."
   ]
  },
  {
   "cell_type": "markdown",
   "metadata": {},
   "source": [
    "### Advantages of Hadoop\n",
    "\n",
    "- Hadoop framework allows the user to quickly write and test distributed systems. It is efficient, and it automatic distributes the data and work across the machines and in turn, utilizes the underlying parallelism of the CPU cores.\n",
    "- Hadoop does not rely on hardware to provide fault-tolerance and high availability (FTHA), rather Hadoop library itself has been designed to detect and handle failures at the application layer.\n",
    "- Servers can be added or removed from the cluster dynamically and Hadoop continues to operate without interruption.\n",
    "- Another big advantage of Hadoop is that apart from being open source, it is compatible on all the platforms since it is Java based."
   ]
  },
  {
   "cell_type": "code",
   "execution_count": null,
   "metadata": {},
   "outputs": [],
   "source": []
  }
 ],
 "metadata": {
  "kernelspec": {
   "display_name": "Python 3",
   "language": "python",
   "name": "python3"
  },
  "language_info": {
   "codemirror_mode": {
    "name": "ipython",
    "version": 3
   },
   "file_extension": ".py",
   "mimetype": "text/x-python",
   "name": "python",
   "nbconvert_exporter": "python",
   "pygments_lexer": "ipython3",
   "version": "3.8.5"
  }
 },
 "nbformat": 4,
 "nbformat_minor": 4
}
